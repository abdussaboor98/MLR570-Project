{
 "cells": [
  {
   "cell_type": "code",
   "execution_count": 108,
   "metadata": {},
   "outputs": [],
   "source": [
    "import pandas as pd\n",
    "import numpy as np\n",
    "import seaborn as sns\n",
    "import matplotlib.pyplot as plt\n",
    "from sklearn.model_selection import train_test_split\n",
    "from sklearn.preprocessing import OneHotEncoder, LabelEncoder\n",
    "from sklearn.ensemble import RandomForestClassifier\n",
    "from sklearn.ensemble import RandomForestClassifier\n",
    "from scipy.stats import chi2_contingency, pearsonr\n",
    "from sklearn.metrics import classification_report, accuracy_score, precision_score, recall_score, f1_score\n",
    "\n",
    "pd.set_option('display.max_columns', None)"
   ]
  },
  {
   "cell_type": "code",
   "execution_count": 109,
   "metadata": {},
   "outputs": [
    {
     "name": "stderr",
     "output_type": "stream",
     "text": [
      "/tmp/ipykernel_29495/3965383140.py:1: DtypeWarning: Columns (30,54) have mixed types. Specify dtype option on import or set low_memory=False.\n",
      "  df = pd.read_csv('flight_weather_merged.csv')\n"
     ]
    }
   ],
   "source": [
    "df = pd.read_csv('flight_weather_merged.csv')"
   ]
  },
  {
   "cell_type": "code",
   "execution_count": 110,
   "metadata": {},
   "outputs": [
    {
     "name": "stdout",
     "output_type": "stream",
     "text": [
      "<class 'pandas.core.frame.DataFrame'>\n",
      "Index: 152640 entries, 168320 to 121958\n",
      "Data columns (total 65 columns):\n",
      " #   Column                         Non-Null Count   Dtype  \n",
      "---  ------                         --------------   -----  \n",
      " 0   aodbuniquefield                152640 non-null  int64  \n",
      " 1   flightstatus                   152640 non-null  object \n",
      " 2   aircraftregistration           152549 non-null  object \n",
      " 3   flightnumber                   152640 non-null  object \n",
      " 4   traffictypecode                152640 non-null  object \n",
      " 5   arrivalordeparture             152640 non-null  object \n",
      " 6   lastchanged                    152640 non-null  object \n",
      " 7   airlinecode_iata               152640 non-null  object \n",
      " 8   airlinecode_icao               152640 non-null  object \n",
      " 9   jointflightnumber              15171 non-null   object \n",
      " 10  destination_iata               152640 non-null  object \n",
      " 11  destination_icao               152640 non-null  object \n",
      " 12  via_iata                       5796 non-null    object \n",
      " 13  via_icao                       5796 non-null    object \n",
      " 14  aircraft_iata                  152640 non-null  object \n",
      " 15  aircraft_icao                  152640 non-null  object \n",
      " 16  flightstatuscode               152640 non-null  object \n",
      " 17  publicscheduleddatetime        152640 non-null  object \n",
      " 18  scheduledoffblocktime          152640 non-null  object \n",
      " 19  estimatedoffblocktime          152170 non-null  object \n",
      " 20  actualtakeofftime              0 non-null       float64\n",
      " 21  actualoffblocktime             152640 non-null  object \n",
      " 22  aircraftparkingposition        152605 non-null  object \n",
      " 23  publicgatenumber               152338 non-null  object \n",
      " 24  checkinallocationfrom          83447 non-null   object \n",
      " 25  checkinallocationto            83446 non-null   object \n",
      " 26  airlinename                    152640 non-null  object \n",
      " 27  vianame                        5733 non-null    object \n",
      " 28  destinationname                152552 non-null  object \n",
      " 29  traffictype                    152640 non-null  object \n",
      " 30  aircraftterminal               152640 non-null  object \n",
      " 31  airlinenamea                   147152 non-null  object \n",
      " 32  destinationnamea               148435 non-null  object \n",
      " 33  vianamea                       5184 non-null    object \n",
      " 34  flightstatustexta              152640 non-null  object \n",
      " 35  delaytimedelta                 152640 non-null  object \n",
      " 36  finalflightstatus              152640 non-null  object \n",
      " 37  delay_in_secs                  152640 non-null  float64\n",
      " 38  scheduledoffblocktime_rounded  152640 non-null  object \n",
      " 39  station                        152640 non-null  object \n",
      " 40  valid                          152640 non-null  object \n",
      " 41  lon                            152640 non-null  float64\n",
      " 42  lat                            152640 non-null  float64\n",
      " 43  elevation                      152640 non-null  float64\n",
      " 44  tmpf                           152640 non-null  float64\n",
      " 45  dwpf                           152640 non-null  float64\n",
      " 46  relh                           152640 non-null  float64\n",
      " 47  drct                           152640 non-null  float64\n",
      " 48  sknt                           152640 non-null  float64\n",
      " 49  p01i                           152640 non-null  float64\n",
      " 50  alti                           152640 non-null  float64\n",
      " 51  vsby                           152640 non-null  float64\n",
      " 52  gust                           611 non-null     float64\n",
      " 53  skyc1                          44201 non-null   object \n",
      " 54  skyc2                          197 non-null     object \n",
      " 55  skyc3                          0 non-null       float64\n",
      " 56  skyc4                          0 non-null       float64\n",
      " 57  skyl1                          16445 non-null   float64\n",
      " 58  skyl2                          188 non-null     float64\n",
      " 59  skyl3                          0 non-null       float64\n",
      " 60  skyl4                          0 non-null       float64\n",
      " 61  wxcodes                        7610 non-null    object \n",
      " 62  feel                           152640 non-null  float64\n",
      " 63  metar                          152640 non-null  object \n",
      " 64  time_dubai                     152640 non-null  object \n",
      "dtypes: float64(21), int64(1), object(43)\n",
      "memory usage: 76.9+ MB\n"
     ]
    }
   ],
   "source": [
    "flight_data_train, flight_data_test = train_test_split(df, test_size=0.2, random_state=42)\n",
    "flight_data_train.info(verbose=True)"
   ]
  },
  {
   "cell_type": "code",
   "execution_count": 111,
   "metadata": {},
   "outputs": [],
   "source": [
    "columns_to_drop = [\n",
    "    \"aodbuniquefield\",\n",
    "    \"flightstatus\",  # not needed as it does not contain the delayed status\n",
    "    \"flightstatuscode\",\n",
    "    \"aircraftregistration\",\n",
    "    \"actualtakeofftime\",\n",
    "    \"metar\",\n",
    "    \"time_dubai\",\n",
    "    \"checkinallocationfrom\",\n",
    "    \"checkinallocationto\",\n",
    "    \"actualoffblocktime\",  # not required as we have the targets already derived using this\n",
    "    \"publicscheduleddatetime\",  # Mostly same as the scheduledoffblocktime\n",
    "    \"estimatedoffblocktime\",  # data not available\n",
    "    \"delaytimedelta\",  # This is coverted to finalflightstatus for classification and to finalflightstatus for regression\n",
    "    \"wxcodes\",\n",
    "    \"airlinenamea\",\n",
    "    \"destinationnamea\",\n",
    "    \"vianamea\",\n",
    "    \"flightstatustexta\",\n",
    "    \"arrivalordeparture\",\n",
    "    \"lastchanged\",\n",
    "    \"scheduledoffblocktime_rounded\",\n",
    "    \"station\",\n",
    "    \"valid\",\n",
    "    \"lon\",\n",
    "    \"lat\",\n",
    "    \"elevation\",\n",
    "    # 'aircraftterminal'\n",
    "]"
   ]
  },
  {
   "cell_type": "code",
   "execution_count": 112,
   "metadata": {},
   "outputs": [
    {
     "data": {
      "text/plain": [
       "aodbuniquefield           int64\n",
       "flightstatus             object\n",
       "aircraftregistration     object\n",
       "flightnumber             object\n",
       "traffictypecode          object\n",
       "                         ...   \n",
       "skyl4                   float64\n",
       "wxcodes                  object\n",
       "feel                    float64\n",
       "metar                    object\n",
       "time_dubai               object\n",
       "Length: 65, dtype: object"
      ]
     },
     "execution_count": 112,
     "metadata": {},
     "output_type": "execute_result"
    }
   ],
   "source": [
    "flight_data_train.dtypes"
   ]
  },
  {
   "cell_type": "code",
   "execution_count": 113,
   "metadata": {},
   "outputs": [],
   "source": [
    "def chi_2(df, x, y):\n",
    "    # Create a contingency table\n",
    "    contingency_table = pd.crosstab(df[x], df[y])\n",
    "\n",
    "    # Perform the Chi-Square test\n",
    "    chi2, p, dof, expected = chi2_contingency(contingency_table)\n",
    "    print(f\"Chi-Square Statistic for {x} and {y}: {chi2}, p-value: {p}, dof:{dof}\")"
   ]
  },
  {
   "cell_type": "code",
   "execution_count": 114,
   "metadata": {},
   "outputs": [],
   "source": [
    "def cramers_v(df, x, y):\n",
    "    # Create a contingency table\n",
    "    contingency_table = pd.crosstab(df[x], df[y])\n",
    "    \n",
    "    # Perform the Chi-Square test\n",
    "    chi2, p, _, _ = chi2_contingency(contingency_table)\n",
    "    \n",
    "    # Calculate Cramér's V\n",
    "    n = contingency_table.sum().sum()\n",
    "    min_dim = min(contingency_table.shape) - 1\n",
    "    cor = np.sqrt(chi2 / (n * min_dim))\n",
    "    print(f\"Cramer's V  for {x} and {y}: {cor}, p-value: {p}\")"
   ]
  },
  {
   "cell_type": "markdown",
   "metadata": {},
   "source": [
    "Airline code and name"
   ]
  },
  {
   "cell_type": "code",
   "execution_count": 115,
   "metadata": {},
   "outputs": [
    {
     "data": {
      "text/plain": [
       "147"
      ]
     },
     "execution_count": 115,
     "metadata": {},
     "output_type": "execute_result"
    }
   ],
   "source": [
    "flight_data_train['airlinecode_iata'].nunique()"
   ]
  },
  {
   "cell_type": "code",
   "execution_count": 116,
   "metadata": {},
   "outputs": [
    {
     "data": {
      "text/plain": [
       "157"
      ]
     },
     "execution_count": 116,
     "metadata": {},
     "output_type": "execute_result"
    }
   ],
   "source": [
    "flight_data_train['airlinecode_icao'].nunique()"
   ]
  },
  {
   "cell_type": "code",
   "execution_count": 117,
   "metadata": {},
   "outputs": [
    {
     "name": "stdout",
     "output_type": "stream",
     "text": [
      "Chi-Square Statistic for airlinecode_iata and airlinecode_icao: 22285440.0, p-value: 0.0, dof:22776\n",
      "Cramer's V  for airlinecode_iata and airlinecode_icao: 1.0, p-value: 0.0\n"
     ]
    }
   ],
   "source": [
    "chi_2(flight_data_train, 'airlinecode_iata', 'airlinecode_icao')\n",
    "cramers_v(flight_data_train, 'airlinecode_iata', 'airlinecode_icao')"
   ]
  },
  {
   "cell_type": "code",
   "execution_count": 118,
   "metadata": {},
   "outputs": [
    {
     "name": "stdout",
     "output_type": "stream",
     "text": [
      "Chi-Square Statistic for airlinecode_iata and airlinename: 22132800.0, p-value: 0.0, dof:22776\n",
      "Cramer's V  for airlinecode_iata and airlinename: 0.9965694581570854, p-value: 0.0\n"
     ]
    }
   ],
   "source": [
    "chi_2(flight_data_train, 'airlinecode_iata', 'airlinename')\n",
    "cramers_v(flight_data_train, 'airlinecode_iata', 'airlinename')"
   ]
  },
  {
   "cell_type": "markdown",
   "metadata": {},
   "source": [
    "The p-value is very less than 0.5 and ~0.0 which indicated high correlations so we can drop one of the columns\n",
    "The Cramers V is also 1 or close to 1"
   ]
  },
  {
   "cell_type": "code",
   "execution_count": 119,
   "metadata": {},
   "outputs": [],
   "source": [
    "columns_to_drop.append('airlinecode_icao')\n",
    "columns_to_drop.append('airlinename')"
   ]
  },
  {
   "cell_type": "markdown",
   "metadata": {},
   "source": [
    "Airpot code"
   ]
  },
  {
   "cell_type": "code",
   "execution_count": 120,
   "metadata": {},
   "outputs": [
    {
     "name": "stdout",
     "output_type": "stream",
     "text": [
      "Chi-Square Statistic for destination_icao and destination_iata: 46097280.0, p-value: 0.0, dof:93024\n",
      "Cramer's V  for destination_icao and destination_iata: 0.9967050981266119, p-value: 0.0\n"
     ]
    }
   ],
   "source": [
    "chi_2(flight_data_train, 'destination_icao', 'destination_iata')\n",
    "cramers_v(flight_data_train, 'destination_icao', 'destination_iata')"
   ]
  },
  {
   "cell_type": "code",
   "execution_count": 121,
   "metadata": {},
   "outputs": [
    {
     "name": "stdout",
     "output_type": "stream",
     "text": [
      "Chi-Square Statistic for destinationname and destination_iata: 44850288.00000001, p-value: 0.0, dof:92904\n",
      "Cramer's V  for destinationname and destination_iata: 1.0, p-value: 0.0\n"
     ]
    }
   ],
   "source": [
    "chi_2(flight_data_train, 'destinationname', 'destination_iata')\n",
    "cramers_v(flight_data_train, 'destinationname', 'destination_iata')"
   ]
  },
  {
   "cell_type": "code",
   "execution_count": 122,
   "metadata": {},
   "outputs": [
    {
     "name": "stdout",
     "output_type": "stream",
     "text": [
      "Chi-Square Statistic for destination_icao and destinationname: 44901994.45626953, p-value: 0.0, dof:93852\n",
      "Cramer's V  for destination_icao and destinationname: 0.9955100263910149, p-value: 0.0\n"
     ]
    }
   ],
   "source": [
    "chi_2(flight_data_train, 'destination_icao', 'destinationname')\n",
    "cramers_v(flight_data_train, 'destination_icao', 'destinationname')"
   ]
  },
  {
   "cell_type": "code",
   "execution_count": 123,
   "metadata": {},
   "outputs": [],
   "source": [
    "columns_to_drop.append('destination_icao')\n",
    "columns_to_drop.append('destinationname')"
   ]
  },
  {
   "cell_type": "markdown",
   "metadata": {},
   "source": [
    "Via codes and name"
   ]
  },
  {
   "cell_type": "code",
   "execution_count": 124,
   "metadata": {},
   "outputs": [
    {
     "name": "stdout",
     "output_type": "stream",
     "text": [
      "Chi-Square Statistic for via_icao and via_iata: 556416.0, p-value: 0.0, dof:9216\n",
      "Cramer's V  for via_icao and via_iata: 1.0, p-value: 0.0\n",
      "Chi-Square Statistic for vianame and via_iata: 515970.0, p-value: 0.0, dof:8280\n",
      "Cramer's V  for vianame and via_iata: 1.0, p-value: 0.0\n",
      "Chi-Square Statistic for via_icao and vianame: 515970.00000000006, p-value: 0.0, dof:8280\n",
      "Cramer's V  for via_icao and vianame: 1.0, p-value: 0.0\n",
      "Chi-Square Statistic for via_iata and jointflightnumber: 17388.0, p-value: 0.0, dof:300\n",
      "Cramer's V  for via_iata and jointflightnumber: 0.9660917830792959, p-value: 0.0\n"
     ]
    }
   ],
   "source": [
    "chi_2(flight_data_train, 'via_icao', 'via_iata')\n",
    "cramers_v(flight_data_train, 'via_icao', 'via_iata')\n",
    "\n",
    "chi_2(flight_data_train, 'vianame', 'via_iata')\n",
    "cramers_v(flight_data_train, 'vianame', 'via_iata')\n",
    "\n",
    "chi_2(flight_data_train, 'via_icao', 'vianame')\n",
    "cramers_v(flight_data_train, 'via_icao', 'vianame')\n",
    "\n",
    "\n",
    "chi_2(flight_data_train, 'via_iata', 'jointflightnumber')\n",
    "cramers_v(flight_data_train, 'via_iata', 'jointflightnumber')"
   ]
  },
  {
   "cell_type": "code",
   "execution_count": 125,
   "metadata": {},
   "outputs": [],
   "source": [
    "columns_to_drop.append('via_icao')\n",
    "columns_to_drop.append('vianame')\n",
    "columns_to_drop.append('jointflightnumber')"
   ]
  },
  {
   "cell_type": "markdown",
   "metadata": {},
   "source": [
    "Flight and aircraft details"
   ]
  },
  {
   "cell_type": "code",
   "execution_count": 126,
   "metadata": {},
   "outputs": [
    {
     "name": "stdout",
     "output_type": "stream",
     "text": [
      "Chi-Square Statistic for flightnumber and aircraft_iata: 4275166.950258935, p-value: 0.0, dof:129747\n",
      "Cramer's V  for flightnumber and aircraft_iata: 0.6776063127935088, p-value: 0.0\n",
      "Chi-Square Statistic for aircraft_icao and aircraft_iata: 7479360.0, p-value: 0.0, dof:3111\n",
      "Cramer's V  for aircraft_icao and aircraft_iata: 0.9801960588196069, p-value: 0.0\n",
      "Chi-Square Statistic for aircraft_icao and flightnumber: 3946249.145335343, p-value: 0.0, dof:108477\n",
      "Cramer's V  for aircraft_icao and flightnumber: 0.7119885077049455, p-value: 0.0\n"
     ]
    }
   ],
   "source": [
    "chi_2(flight_data_train, 'flightnumber', 'aircraft_iata')\n",
    "cramers_v(flight_data_train, 'flightnumber', 'aircraft_iata')\n",
    "chi_2(flight_data_train, 'aircraft_icao', 'aircraft_iata')\n",
    "cramers_v(flight_data_train, 'aircraft_icao', 'aircraft_iata')\n",
    "chi_2(flight_data_train, 'aircraft_icao', 'flightnumber')\n",
    "cramers_v(flight_data_train, 'aircraft_icao', 'flightnumber')"
   ]
  },
  {
   "cell_type": "markdown",
   "metadata": {},
   "source": [
    "flightnumber and destination_iata"
   ]
  },
  {
   "cell_type": "code",
   "execution_count": 127,
   "metadata": {},
   "outputs": [
    {
     "name": "stdout",
     "output_type": "stream",
     "text": [
      "Chi-Square Statistic for flightnumber and destination_iata: 42758704.49211079, p-value: 0.0, dof:646608\n",
      "Cramer's V  for flightnumber and destination_iata: 0.9599338330435203, p-value: 0.0\n",
      "Chi-Square Statistic for airlinecode_iata and destination_iata: 6287768.706140986, p-value: 0.0, dof:44384\n",
      "Cramer's V  for airlinecode_iata and destination_iata: 0.5311750560417671, p-value: 0.0\n"
     ]
    }
   ],
   "source": [
    "chi_2(flight_data_train, 'flightnumber', 'destination_iata')\n",
    "cramers_v(flight_data_train, 'flightnumber', 'destination_iata')\n",
    "chi_2(flight_data_train, 'airlinecode_iata', 'destination_iata')\n",
    "cramers_v(flight_data_train, 'airlinecode_iata', 'destination_iata')"
   ]
  },
  {
   "cell_type": "code",
   "execution_count": 128,
   "metadata": {},
   "outputs": [],
   "source": [
    "columns_to_drop.append('flightnumber')"
   ]
  },
  {
   "cell_type": "markdown",
   "metadata": {},
   "source": [
    "publicgatenumber and aircraftparkingposition"
   ]
  },
  {
   "cell_type": "code",
   "execution_count": 129,
   "metadata": {},
   "outputs": [
    {
     "name": "stdout",
     "output_type": "stream",
     "text": [
      "Chi-Square Statistic for publicgatenumber and aircraftparkingposition: 13055413.685544016, p-value: 0.0, dof:33120\n",
      "Cramer's V  for publicgatenumber and aircraftparkingposition: 0.7880590815625867, p-value: 0.0\n"
     ]
    }
   ],
   "source": [
    "chi_2(flight_data_train, 'publicgatenumber', 'aircraftparkingposition')\n",
    "cramers_v(flight_data_train, 'publicgatenumber', 'aircraftparkingposition')\n"
   ]
  },
  {
   "cell_type": "code",
   "execution_count": 130,
   "metadata": {},
   "outputs": [],
   "source": [
    "columns_to_drop.append('aircraftparkingposition')"
   ]
  },
  {
   "cell_type": "code",
   "execution_count": 131,
   "metadata": {},
   "outputs": [
    {
     "name": "stdout",
     "output_type": "stream",
     "text": [
      "aircraft_iata unique values:62\n",
      "destination_iata unique values:305\n",
      "airlinecode_iata unique values:147\n",
      "publicgatenumber unique values:139\n",
      "Total unique values: 653\n"
     ]
    }
   ],
   "source": [
    "print(f'aircraft_iata unique values:{flight_data_train['aircraft_iata'].nunique()}')\n",
    "print(f'destination_iata unique values:{flight_data_train['destination_iata'].nunique()}')\n",
    "print(f'airlinecode_iata unique values:{flight_data_train['airlinecode_iata'].nunique()}')\n",
    "print(f'publicgatenumber unique values:{flight_data_train['publicgatenumber'].nunique()}')\n",
    "\n",
    "print(f\"Total unique values: {flight_data_train['aircraft_iata'].nunique() + flight_data_train['destination_iata'].nunique() + flight_data_train['airlinecode_iata'].nunique() + flight_data_train['publicgatenumber'].nunique()}\")\n",
    "\n"
   ]
  },
  {
   "cell_type": "code",
   "execution_count": 132,
   "metadata": {},
   "outputs": [
    {
     "name": "stdout",
     "output_type": "stream",
     "text": [
      "Chi-Square Statistic for destination_iata and airlinecode_iata: 6287768.706140986, p-value: 0.0, dof:44384\n",
      "Cramer's V  for destination_iata and airlinecode_iata: 0.5311750560417671, p-value: 0.0\n"
     ]
    }
   ],
   "source": [
    "chi_2(flight_data_train, 'destination_iata', 'airlinecode_iata')\n",
    "cramers_v(flight_data_train, 'destination_iata', 'airlinecode_iata')"
   ]
  },
  {
   "cell_type": "markdown",
   "metadata": {},
   "source": [
    "One out of 'aircraft_icao', 'aircraft_iata' can be dropped"
   ]
  },
  {
   "cell_type": "code",
   "execution_count": 133,
   "metadata": {},
   "outputs": [],
   "source": [
    "columns_to_drop.append('aircraft_icao')"
   ]
  },
  {
   "cell_type": "markdown",
   "metadata": {},
   "source": [
    "Traffic type"
   ]
  },
  {
   "cell_type": "code",
   "execution_count": 134,
   "metadata": {},
   "outputs": [
    {
     "name": "stdout",
     "output_type": "stream",
     "text": [
      "['PS' 'PE' 'PC']\n",
      "['Passenger Scheduled' 'Passenger Extra' 'Passenger Charter']\n"
     ]
    }
   ],
   "source": [
    "print(flight_data_train['traffictypecode'].unique())\n",
    "print(flight_data_train['traffictype'].unique())\n"
   ]
  },
  {
   "cell_type": "code",
   "execution_count": 135,
   "metadata": {},
   "outputs": [],
   "source": [
    "columns_to_drop.append('traffictype')"
   ]
  },
  {
   "cell_type": "markdown",
   "metadata": {},
   "source": [
    "Correlation for numerical fields"
   ]
  },
  {
   "cell_type": "code",
   "execution_count": 136,
   "metadata": {},
   "outputs": [
    {
     "data": {
      "text/plain": [
       "Text(0.5, 1.0, 'Correlation Heatmap')"
      ]
     },
     "execution_count": 136,
     "metadata": {},
     "output_type": "execute_result"
    },
    {
     "data": {
      "image/png": "[encoded data removed]",
      "text/plain": [
       "<Figure size 1600x600 with 2 Axes>"
      ]
     },
     "metadata": {},
     "output_type": "display_data"
    }
   ],
   "source": [
    "plt.figure(figsize=(16, 6))\n",
    "heatmap = sns.heatmap(flight_data_train.corr(numeric_only=True), vmin=-1, vmax=1, annot=True)\n",
    "heatmap.set_title('Correlation Heatmap', fontdict={'fontsize':12}, pad=12)"
   ]
  },
  {
   "cell_type": "markdown",
   "metadata": {},
   "source": [
    "tmpf and feel are highly correlated\n",
    "\n",
    "There are no missing values for feel so we can safetly remove it"
   ]
  },
  {
   "cell_type": "code",
   "execution_count": 137,
   "metadata": {},
   "outputs": [],
   "source": [
    "columns_to_drop.append('feel')"
   ]
  },
  {
   "cell_type": "markdown",
   "metadata": {},
   "source": [
    "sknt and gust are correlated\n",
    "\n",
    "As gust is the sudden increase in speed, it can be explained by wind speed (sknt)\n",
    "\n",
    "But there are many missing values in gust so we cannot depend on this\n"
   ]
  },
  {
   "cell_type": "code",
   "execution_count": 138,
   "metadata": {},
   "outputs": [
    {
     "data": {
      "text/plain": [
       "PearsonRResult(statistic=0.9792679950850472, pvalue=0.0)"
      ]
     },
     "execution_count": 138,
     "metadata": {},
     "output_type": "execute_result"
    }
   ],
   "source": [
    "pearsonr(flight_data_train['sknt'][flight_data_train['gust'].notna()], flight_data_train['gust'][flight_data_train['gust'].notna()])"
   ]
  },
  {
   "cell_type": "code",
   "execution_count": 139,
   "metadata": {},
   "outputs": [],
   "source": [
    "flight_data_train['gust'] = flight_data_train['gust'].notna().astype(int)\n",
    "flight_data_test['gust'] = flight_data_test['gust'].notna().astype(int)"
   ]
  },
  {
   "cell_type": "code",
   "execution_count": 140,
   "metadata": {},
   "outputs": [],
   "source": [
    "df.groupby(['aircraft_iata', 'aircraft_icao']).size().reset_index().to_csv('Aircrafts.csv', index=False)\n"
   ]
  },
  {
   "cell_type": "code",
   "execution_count": 141,
   "metadata": {},
   "outputs": [],
   "source": [
    "# Drop the duplicate or unnecessary columns\n",
    "flight_data_train.drop(columns=columns_to_drop, axis=1, inplace=True)\n",
    "flight_data_test.drop(columns=columns_to_drop, axis=1, inplace=True)"
   ]
  },
  {
   "cell_type": "code",
   "execution_count": 142,
   "metadata": {},
   "outputs": [
    {
     "data": {
      "text/plain": [
       "traffictypecode           object\n",
       "airlinecode_iata          object\n",
       "destination_iata          object\n",
       "via_iata                  object\n",
       "aircraft_iata             object\n",
       "scheduledoffblocktime     object\n",
       "publicgatenumber          object\n",
       "aircraftterminal          object\n",
       "finalflightstatus         object\n",
       "delay_in_secs            float64\n",
       "tmpf                     float64\n",
       "dwpf                     float64\n",
       "relh                     float64\n",
       "drct                     float64\n",
       "sknt                     float64\n",
       "p01i                     float64\n",
       "alti                     float64\n",
       "vsby                     float64\n",
       "gust                       int64\n",
       "skyc1                     object\n",
       "skyc2                     object\n",
       "skyc3                    float64\n",
       "skyc4                    float64\n",
       "skyl1                    float64\n",
       "skyl2                    float64\n",
       "skyl3                    float64\n",
       "skyl4                    float64\n",
       "dtype: object"
      ]
     },
     "execution_count": 142,
     "metadata": {},
     "output_type": "execute_result"
    }
   ],
   "source": [
    "flight_data_train.dtypes"
   ]
  },
  {
   "cell_type": "markdown",
   "metadata": {},
   "source": [
    "Missing Data"
   ]
  },
  {
   "cell_type": "code",
   "execution_count": 143,
   "metadata": {},
   "outputs": [
    {
     "data": {
      "text/plain": [
       "302"
      ]
     },
     "execution_count": 143,
     "metadata": {},
     "output_type": "execute_result"
    }
   ],
   "source": [
    "flight_data_train['publicgatenumber'].isnull().sum()"
   ]
  },
  {
   "cell_type": "code",
   "execution_count": 144,
   "metadata": {},
   "outputs": [
    {
     "data": {
      "text/plain": [
       "array(['F6   ', 'B19  ', 'D11  ', 'B6   ', 'B32  ', 'F4   ', 'B14  ',\n",
       "       'A21  ', 'D2   ', 'A2   ', 'D14  ', 'D16  ', 'A15  ', 'B30  ',\n",
       "       'C7   ', 'B31  ', 'B8   ', 'F11  ', 'B3   ', 'B2   ', 'B21  ',\n",
       "       'F8   ', 'D13  ', 'A13  ', 'F2   ', 'B25  ', 'C18  ', 'F10  ',\n",
       "       'B15  ', 'B29  ', 'D12  ', 'B10  ', 'B11  ', 'C13  ', 'D6   ',\n",
       "       'A10  ', 'D8   ', 'C23  ', 'A1   ', 'F9   ', 'A4   ', 'A22  ',\n",
       "       'B20  ', 'C12  ', 'A12  ', 'D18  ', 'B28  ', 'F12  ', 'C19  ',\n",
       "       'C10  ', 'C15  ', 'C3   ', 'C11  ', 'B27  ', 'A20  ', 'C6   ',\n",
       "       'D19  ', 'D15  ', 'C46  ', 'B26  ', 'C8   ', 'B12  ', 'C4   ',\n",
       "       'D10  ', 'D17  ', 'D9   ', 'C17  ', 'C2   ', 'A11  ', 'D21  ',\n",
       "       'A5   ', 'B31a ', 'D1   ', 'B23  ', 'C21  ', 'B13  ', 'D3   ',\n",
       "       'D4   ', 'C20  ', 'C5   ', 'B22  ', 'C44  ', 'A24  ', 'A18  ',\n",
       "       'C22  ', 'B1   ', 'B4   ', 'C9   ', 'F1   ', 'D7   ', 'B18  ',\n",
       "       'F3   ', 'C1   ', 'A3   ', 'A23  ', 'D5   ', 'F7   ', 'C16  ',\n",
       "       'B17  ', 'B24  ', 'C48  ', 'C43  ', 'A16  ', 'A9   ', 'D22  ',\n",
       "       'A14  ', 'A6   ', 'C14  ', 'B5   ', 'D20  ', 'A17  ', 'F5   ',\n",
       "       'A7   ', 'C39  ', 'C38  ', 'D24  ', 'C41  ', nan, 'C36  ', 'D23  ',\n",
       "       'A8   ', 'D25  ', 'D32  ', 'D26  ', 'C24  ', 'C40  ', 'A19  ',\n",
       "       'C42  ', 'D28  ', 'C15a ', 'C12a ', 'D30  ', 'C37  ', 'D31  ',\n",
       "       'B9   ', 'D29  ', 'A19a ', 'B7   ', 'D27  ', 'A6a  '], dtype=object)"
      ]
     },
     "execution_count": 144,
     "metadata": {},
     "output_type": "execute_result"
    }
   ],
   "source": [
    "flight_data_train['publicgatenumber'].unique()"
   ]
  },
  {
   "cell_type": "code",
   "execution_count": 145,
   "metadata": {},
   "outputs": [
    {
     "data": {
      "text/plain": [
       "0"
      ]
     },
     "execution_count": 145,
     "metadata": {},
     "output_type": "execute_result"
    }
   ],
   "source": [
    "flight_data_train['aircraftterminal'].isnull().sum()"
   ]
  },
  {
   "cell_type": "code",
   "execution_count": 146,
   "metadata": {},
   "outputs": [
    {
     "data": {
      "text/html": [
       "<div>\n",
       "<style scoped>\n",
       "    .dataframe tbody tr th:only-of-type {\n",
       "        vertical-align: middle;\n",
       "    }\n",
       "\n",
       "    .dataframe tbody tr th {\n",
       "        vertical-align: top;\n",
       "    }\n",
       "\n",
       "    .dataframe thead th {\n",
       "        text-align: right;\n",
       "    }\n",
       "</style>\n",
       "<table border=\"1\" class=\"dataframe\">\n",
       "  <thead>\n",
       "    <tr style=\"text-align: right;\">\n",
       "      <th></th>\n",
       "      <th>publicgatenumber</th>\n",
       "      <th>aircraftterminal</th>\n",
       "    </tr>\n",
       "  </thead>\n",
       "  <tbody>\n",
       "    <tr>\n",
       "      <th>33207</th>\n",
       "      <td>NaN</td>\n",
       "      <td>3</td>\n",
       "    </tr>\n",
       "    <tr>\n",
       "      <th>170368</th>\n",
       "      <td>NaN</td>\n",
       "      <td>1</td>\n",
       "    </tr>\n",
       "    <tr>\n",
       "      <th>162258</th>\n",
       "      <td>NaN</td>\n",
       "      <td>2</td>\n",
       "    </tr>\n",
       "    <tr>\n",
       "      <th>24069</th>\n",
       "      <td>NaN</td>\n",
       "      <td>3</td>\n",
       "    </tr>\n",
       "    <tr>\n",
       "      <th>76875</th>\n",
       "      <td>NaN</td>\n",
       "      <td>PT</td>\n",
       "    </tr>\n",
       "    <tr>\n",
       "      <th>...</th>\n",
       "      <td>...</td>\n",
       "      <td>...</td>\n",
       "    </tr>\n",
       "    <tr>\n",
       "      <th>46479</th>\n",
       "      <td>NaN</td>\n",
       "      <td>3</td>\n",
       "    </tr>\n",
       "    <tr>\n",
       "      <th>110169</th>\n",
       "      <td>NaN</td>\n",
       "      <td>1</td>\n",
       "    </tr>\n",
       "    <tr>\n",
       "      <th>49153</th>\n",
       "      <td>NaN</td>\n",
       "      <td>2</td>\n",
       "    </tr>\n",
       "    <tr>\n",
       "      <th>78477</th>\n",
       "      <td>NaN</td>\n",
       "      <td>PT</td>\n",
       "    </tr>\n",
       "    <tr>\n",
       "      <th>19870</th>\n",
       "      <td>NaN</td>\n",
       "      <td>3</td>\n",
       "    </tr>\n",
       "  </tbody>\n",
       "</table>\n",
       "<p>302 rows × 2 columns</p>\n",
       "</div>"
      ],
      "text/plain": [
       "       publicgatenumber aircraftterminal\n",
       "33207               NaN                3\n",
       "170368              NaN               1 \n",
       "162258              NaN                2\n",
       "24069               NaN               3 \n",
       "76875               NaN               PT\n",
       "...                 ...              ...\n",
       "46479               NaN                3\n",
       "110169              NaN                1\n",
       "49153               NaN                2\n",
       "78477               NaN               PT\n",
       "19870               NaN               3 \n",
       "\n",
       "[302 rows x 2 columns]"
      ]
     },
     "execution_count": 146,
     "metadata": {},
     "output_type": "execute_result"
    }
   ],
   "source": [
    "flight_data_train[['publicgatenumber', 'aircraftterminal']][flight_data_train['publicgatenumber'].isnull() == True]"
   ]
  },
  {
   "cell_type": "code",
   "execution_count": 147,
   "metadata": {},
   "outputs": [
    {
     "name": "stdout",
     "output_type": "stream",
     "text": [
      "Chi-Square Statistic for publicgatenumber and aircraftterminal: 364491.43887506856, p-value: 0.0, dof:828\n",
      "Cramer's V  for publicgatenumber and aircraftterminal: 0.631486275344951, p-value: 0.0\n"
     ]
    }
   ],
   "source": [
    "chi_2(flight_data_train, 'publicgatenumber', 'aircraftterminal')\n",
    "cramers_v(flight_data_train, 'publicgatenumber', 'aircraftterminal')"
   ]
  },
  {
   "cell_type": "code",
   "execution_count": 148,
   "metadata": {},
   "outputs": [],
   "source": [
    "# chi_2(flight_data_train, 'publicgatenumber', 'aircraftparkingposition')\n",
    "# cramers_v(flight_data_train, 'publicgatenumber', 'aircraftparkingposition')"
   ]
  },
  {
   "cell_type": "code",
   "execution_count": 149,
   "metadata": {},
   "outputs": [],
   "source": [
    "flight_data_train['publicgatenumber'] = flight_data_train['publicgatenumber'].fillna('UNKNOWN')\n",
    "flight_data_test['publicgatenumber'] = flight_data_test['publicgatenumber'].fillna('UNKNOWN')"
   ]
  },
  {
   "cell_type": "code",
   "execution_count": 150,
   "metadata": {},
   "outputs": [
    {
     "data": {
      "text/plain": [
       "0"
      ]
     },
     "execution_count": 150,
     "metadata": {},
     "output_type": "execute_result"
    }
   ],
   "source": [
    "flight_data_train['aircraftterminal'].isnull().sum()"
   ]
  },
  {
   "cell_type": "code",
   "execution_count": 151,
   "metadata": {},
   "outputs": [
    {
     "data": {
      "text/plain": [
       "traffictypecode               0\n",
       "airlinecode_iata              0\n",
       "destination_iata              0\n",
       "via_iata                 146844\n",
       "aircraft_iata                 0\n",
       "scheduledoffblocktime         0\n",
       "publicgatenumber              0\n",
       "aircraftterminal              0\n",
       "finalflightstatus             0\n",
       "delay_in_secs                 0\n",
       "tmpf                          0\n",
       "dwpf                          0\n",
       "relh                          0\n",
       "drct                          0\n",
       "sknt                          0\n",
       "p01i                          0\n",
       "alti                          0\n",
       "vsby                          0\n",
       "gust                          0\n",
       "skyc1                    108439\n",
       "skyc2                    152443\n",
       "skyc3                    152640\n",
       "skyc4                    152640\n",
       "skyl1                    136195\n",
       "skyl2                    152452\n",
       "skyl3                    152640\n",
       "skyl4                    152640\n",
       "dtype: int64"
      ]
     },
     "execution_count": 151,
     "metadata": {},
     "output_type": "execute_result"
    }
   ],
   "source": [
    "flight_data_train.isnull().sum()"
   ]
  },
  {
   "cell_type": "markdown",
   "metadata": {},
   "source": [
    "via_iata\n",
    "\n",
    "Instead of maintaining the details of connecting flight we can change it indicate if the flight is connection"
   ]
  },
  {
   "cell_type": "code",
   "execution_count": 152,
   "metadata": {},
   "outputs": [],
   "source": [
    "flight_data_train['isconnecting'] = flight_data_train['via_iata'].notna().map({True: '1', False: '0'})\n",
    "flight_data_test['isconnecting'] = flight_data_test['via_iata'].notna().map({True: '1', False: '0'})\n",
    "\n",
    "\n",
    "flight_data_train.drop(columns='via_iata', axis=1, inplace=True)\n",
    "flight_data_test.drop(columns='via_iata', axis=1, inplace=True)"
   ]
  },
  {
   "cell_type": "code",
   "execution_count": 153,
   "metadata": {},
   "outputs": [
    {
     "data": {
      "text/plain": [
       "array(['0', '1'], dtype=object)"
      ]
     },
     "execution_count": 153,
     "metadata": {},
     "output_type": "execute_result"
    }
   ],
   "source": [
    "flight_data_train['isconnecting'].unique()"
   ]
  },
  {
   "cell_type": "code",
   "execution_count": 154,
   "metadata": {},
   "outputs": [
    {
     "name": "stdout",
     "output_type": "stream",
     "text": [
      "skyc1 unique values:['NSC' nan 'FEW' 'BKN' 'SCT' 'VV ' 'OVC']\n",
      "skyc2 unique values:[nan 'FEW' 'NSC' 'SCT' 'BKN']\n",
      "skyc3 unique values:[nan]\n",
      "skyc4 unique values:[nan]\n",
      "skyl1 unique values:[  nan 4500. 4000. 3200.  800.  300. 2300. 3000.  700. 2600. 1700. 2500.\n",
      "  100. 3500. 1500. 2800. 3300. 1800. 1100. 4800. 4700.  600.  200. 2000.\n",
      " 1600. 2100. 3800. 4900. 3600. 2400. 3700. 2700. 3100. 4300. 1300. 4600.\n",
      " 1400. 2900. 2200. 1000.  900. 1900.  500.  400. 4100. 1200. 5000. 4200.\n",
      " 7000. 4400.]\n",
      "skyl2 unique values:[  nan 5000. 4000. 3000. 1400. 4500. 3500.]\n",
      "skyl3 unique values:[nan]\n",
      "skyl4 unique values:[nan]\n"
     ]
    }
   ],
   "source": [
    "print(f'skyc1 unique values:{flight_data_train['skyc1'].unique()}')\n",
    "print(f'skyc2 unique values:{flight_data_train['skyc2'].unique()}')\n",
    "print(f'skyc3 unique values:{flight_data_train['skyc3'].unique()}')\n",
    "print(f'skyc4 unique values:{flight_data_train['skyc4'].unique()}')\n",
    "\n",
    "print(f'skyl1 unique values:{flight_data_train['skyl1'].unique()}')\n",
    "print(f'skyl2 unique values:{flight_data_train['skyl2'].unique()}')\n",
    "print(f'skyl3 unique values:{flight_data_train['skyl3'].unique()}')\n",
    "print(f'skyl4 unique values:{flight_data_train['skyl4'].unique()}')"
   ]
  },
  {
   "cell_type": "markdown",
   "metadata": {},
   "source": [
    "We can drop skyc3, skyc4, skyl3 and skyl4 as they are mostly empty"
   ]
  },
  {
   "cell_type": "code",
   "execution_count": 155,
   "metadata": {},
   "outputs": [],
   "source": [
    "flight_data_train.drop(columns=['skyc3', 'skyc4', 'skyl3', 'skyl4'], axis=1, inplace=True)\n",
    "flight_data_test.drop(columns=['skyc3', 'skyc4', 'skyl3', 'skyl4'], axis=1, inplace=True)"
   ]
  },
  {
   "cell_type": "code",
   "execution_count": 156,
   "metadata": {},
   "outputs": [],
   "source": [
    "# Replace missing values in 'skyc1' and 'skyc2' with 'NA'\n",
    "flight_data_train[['skyc1', 'skyc2']] = flight_data_train[['skyc1', 'skyc2']].fillna('CAVOK') # From METAR code\n",
    "flight_data_test[['skyc1', 'skyc2']] = flight_data_test[['skyc1', 'skyc2']].fillna('CAVOK')\n",
    "\n",
    "# Replace missing values in 'skyl1' and 'skyl2' with 0\n",
    "flight_data_train[['skyl1', 'skyl2']] = flight_data_train[['skyl1', 'skyl2']].fillna(0)\n",
    "flight_data_test[['skyl1', 'skyl2']] = flight_data_test[['skyl1', 'skyl2']].fillna(0)"
   ]
  },
  {
   "cell_type": "code",
   "execution_count": 157,
   "metadata": {},
   "outputs": [
    {
     "data": {
      "text/plain": [
       "traffictypecode          0\n",
       "airlinecode_iata         0\n",
       "destination_iata         0\n",
       "aircraft_iata            0\n",
       "scheduledoffblocktime    0\n",
       "publicgatenumber         0\n",
       "aircraftterminal         0\n",
       "finalflightstatus        0\n",
       "delay_in_secs            0\n",
       "tmpf                     0\n",
       "dwpf                     0\n",
       "relh                     0\n",
       "drct                     0\n",
       "sknt                     0\n",
       "p01i                     0\n",
       "alti                     0\n",
       "vsby                     0\n",
       "gust                     0\n",
       "skyc1                    0\n",
       "skyc2                    0\n",
       "skyl1                    0\n",
       "skyl2                    0\n",
       "isconnecting             0\n",
       "dtype: int64"
      ]
     },
     "execution_count": 157,
     "metadata": {},
     "output_type": "execute_result"
    }
   ],
   "source": [
    "flight_data_train.isna().sum()"
   ]
  },
  {
   "cell_type": "code",
   "execution_count": 158,
   "metadata": {},
   "outputs": [
    {
     "data": {
      "text/plain": [
       "Index(['traffictypecode', 'airlinecode_iata', 'destination_iata',\n",
       "       'aircraft_iata', 'scheduledoffblocktime', 'publicgatenumber',\n",
       "       'aircraftterminal', 'finalflightstatus', 'delay_in_secs', 'tmpf',\n",
       "       'dwpf', 'relh', 'drct', 'sknt', 'p01i', 'alti', 'vsby', 'gust', 'skyc1',\n",
       "       'skyc2', 'skyl1', 'skyl2', 'isconnecting'],\n",
       "      dtype='object')"
      ]
     },
     "execution_count": 158,
     "metadata": {},
     "output_type": "execute_result"
    }
   ],
   "source": [
    "flight_data_test.columns"
   ]
  },
  {
   "cell_type": "code",
   "execution_count": 159,
   "metadata": {},
   "outputs": [
    {
     "data": {
      "text/plain": [
       "array(['2 ', 3, '1 ', 'PT', 1, '3 ', 2], dtype=object)"
      ]
     },
     "execution_count": 159,
     "metadata": {},
     "output_type": "execute_result"
    }
   ],
   "source": [
    "flight_data_train['aircraftterminal'].unique()"
   ]
  },
  {
   "cell_type": "code",
   "execution_count": 160,
   "metadata": {},
   "outputs": [],
   "source": [
    "aircraftterminal_map = {0: 0, 1: 1, 2: 2, 3: 3, \"2 \": 2, \"1 \": 1, \"3 \": 3, \"PT\": 0}\n",
    "flight_data_train[\"aircraftterminal\"] = flight_data_train[\"aircraftterminal\"].map(\n",
    "    aircraftterminal_map\n",
    ")\n",
    "flight_data_test[\"aircraftterminal\"] = flight_data_test[\"aircraftterminal\"].map(\n",
    "    aircraftterminal_map\n",
    ")"
   ]
  },
  {
   "cell_type": "code",
   "execution_count": 161,
   "metadata": {},
   "outputs": [
    {
     "data": {
      "text/plain": [
       "array([2, 3, 1, 0])"
      ]
     },
     "execution_count": 161,
     "metadata": {},
     "output_type": "execute_result"
    }
   ],
   "source": [
    "flight_data_train['aircraftterminal'].unique()"
   ]
  },
  {
   "cell_type": "code",
   "execution_count": 162,
   "metadata": {},
   "outputs": [
    {
     "name": "stdout",
     "output_type": "stream",
     "text": [
      "p01i\n",
      "0.0    152640\n",
      "Name: count, dtype: int64\n",
      "p01i\n",
      "0.0    38161\n",
      "Name: count, dtype: int64\n"
     ]
    }
   ],
   "source": [
    "print(flight_data_train['p01i'].value_counts())\n",
    "print(flight_data_test['p01i'].value_counts())\n"
   ]
  },
  {
   "cell_type": "code",
   "execution_count": 163,
   "metadata": {},
   "outputs": [],
   "source": [
    "non_numeric_columns = list(set(flight_data_train.columns)-set(flight_data_train._get_numeric_data().columns))\n",
    "for col in non_numeric_columns:\n",
    "    flight_data_train[col] = flight_data_train[col].apply(lambda x : str(x).strip())\n",
    "    flight_data_test[col] = flight_data_test[col].apply(lambda x : str(x).strip())"
   ]
  },
  {
   "cell_type": "code",
   "execution_count": 164,
   "metadata": {},
   "outputs": [],
   "source": [
    "cols = [\n",
    "    # \"flightnumber\",\n",
    "    \"scheduledoffblocktime\",\n",
    "    \"traffictypecode\",\n",
    "    \"airlinecode_iata\",\n",
    "    \"destination_iata\",\n",
    "    \"aircraft_iata\",\n",
    "    \"isconnecting\",\n",
    "    # \"aircraftparkingposition\",\n",
    "    \"publicgatenumber\",\n",
    "    \"aircraftterminal\",\n",
    "    \"tmpf\",\n",
    "    \"dwpf\",\n",
    "    \"relh\",\n",
    "    \"drct\",\n",
    "    \"sknt\",\n",
    "    \"alti\",\n",
    "    \"vsby\",\n",
    "    \"gust\",\n",
    "    \"skyc1\",\n",
    "    \"skyc2\",\n",
    "    \"skyl1\",\n",
    "    \"skyl2\",\n",
    "    \"finalflightstatus\",\n",
    "    \"delay_in_secs\",\n",
    "]"
   ]
  },
  {
   "cell_type": "code",
   "execution_count": 165,
   "metadata": {},
   "outputs": [
    {
     "data": {
      "text/plain": [
       "traffictypecode          0\n",
       "airlinecode_iata         0\n",
       "destination_iata         0\n",
       "aircraft_iata            0\n",
       "scheduledoffblocktime    0\n",
       "publicgatenumber         0\n",
       "aircraftterminal         0\n",
       "finalflightstatus        0\n",
       "delay_in_secs            0\n",
       "tmpf                     0\n",
       "dwpf                     0\n",
       "relh                     0\n",
       "drct                     0\n",
       "sknt                     0\n",
       "p01i                     0\n",
       "alti                     0\n",
       "vsby                     0\n",
       "gust                     0\n",
       "skyc1                    0\n",
       "skyc2                    0\n",
       "skyl1                    0\n",
       "skyl2                    0\n",
       "isconnecting             0\n",
       "dtype: int64"
      ]
     },
     "execution_count": 165,
     "metadata": {},
     "output_type": "execute_result"
    }
   ],
   "source": [
    "flight_data_train.isnull().sum()"
   ]
  },
  {
   "cell_type": "code",
   "execution_count": 58,
   "metadata": {},
   "outputs": [],
   "source": [
    "flight_data_train[cols].to_csv('./flight_data_train.csv', index=False)\n",
    "flight_data_test[cols].to_csv('./flight_data_test.csv', index=False)\n",
    "\n",
    "# flight_data_train = flight_data_train[cols].reset_index(drop=True)\n",
    "# flight_data_test = flight_data_test[cols].reset_index(drop=True)"
   ]
  }
 ],
 "metadata": {
  "kernelspec": {
   "display_name": "mlr503-project",
   "language": "python",
   "name": "python3"
  },
  "language_info": {
   "codemirror_mode": {
    "name": "ipython",
    "version": 3
   },
   "file_extension": ".py",
   "mimetype": "text/x-python",
   "name": "python",
   "nbconvert_exporter": "python",
   "pygments_lexer": "ipython3",
   "version": "3.12.7"
  }
 },
 "nbformat": 4,
 "nbformat_minor": 2
}
