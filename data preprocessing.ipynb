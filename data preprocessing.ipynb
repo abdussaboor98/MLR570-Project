{
 "cells": [
  {
   "cell_type": "code",
   "execution_count": 226,
   "metadata": {},
   "outputs": [],
   "source": [
    "import pandas as pd\n",
    "import numpy as np\n",
    "import seaborn as sns\n",
    "import matplotlib.pyplot as plt\n",
    "from sklearn.model_selection import train_test_split\n",
    "from sklearn.preprocessing import OneHotEncoder, LabelEncoder\n",
    "from sklearn.ensemble import RandomForestClassifier\n",
    "from sklearn.ensemble import RandomForestClassifier\n",
    "from scipy.stats import chi2_contingency, pearsonr\n",
    "from sklearn.metrics import classification_report, accuracy_score, precision_score, recall_score, f1_score\n",
    "\n",
    "\n",
    "\n",
    "pd.set_option('display.max_columns', None)\n",
    "\n"
   ]
  },
  {
   "cell_type": "code",
   "execution_count": 227,
   "metadata": {},
   "outputs": [
    {
     "name": "stderr",
     "output_type": "stream",
     "text": [
      "/tmp/ipykernel_3388/3965383140.py:1: DtypeWarning: Columns (30,54) have mixed types. Specify dtype option on import or set low_memory=False.\n",
      "  df = pd.read_csv('flight_weather_merged.csv')\n"
     ]
    }
   ],
   "source": [
    "df = pd.read_csv('flight_weather_merged.csv')"
   ]
  },
  {
   "cell_type": "code",
   "execution_count": 228,
   "metadata": {},
   "outputs": [
    {
     "name": "stdout",
     "output_type": "stream",
     "text": [
      "<class 'pandas.core.frame.DataFrame'>\n",
      "Index: 152640 entries, 168320 to 121958\n",
      "Data columns (total 65 columns):\n",
      " #   Column                         Non-Null Count   Dtype  \n",
      "---  ------                         --------------   -----  \n",
      " 0   aodbuniquefield                152640 non-null  int64  \n",
      " 1   flightstatus                   152640 non-null  object \n",
      " 2   aircraftregistration           152549 non-null  object \n",
      " 3   flightnumber                   152640 non-null  object \n",
      " 4   traffictypecode                152640 non-null  object \n",
      " 5   arrivalordeparture             152640 non-null  object \n",
      " 6   lastchanged                    152640 non-null  object \n",
      " 7   airlinecode_iata               152640 non-null  object \n",
      " 8   airlinecode_icao               152640 non-null  object \n",
      " 9   jointflightnumber              15171 non-null   object \n",
      " 10  destination_iata               152640 non-null  object \n",
      " 11  destination_icao               152640 non-null  object \n",
      " 12  via_iata                       5796 non-null    object \n",
      " 13  via_icao                       5796 non-null    object \n",
      " 14  aircraft_iata                  152640 non-null  object \n",
      " 15  aircraft_icao                  152640 non-null  object \n",
      " 16  flightstatuscode               152640 non-null  object \n",
      " 17  publicscheduleddatetime        152640 non-null  object \n",
      " 18  scheduledoffblocktime          152640 non-null  object \n",
      " 19  estimatedoffblocktime          152170 non-null  object \n",
      " 20  actualtakeofftime              0 non-null       float64\n",
      " 21  actualoffblocktime             152640 non-null  object \n",
      " 22  aircraftparkingposition        152605 non-null  object \n",
      " 23  publicgatenumber               152338 non-null  object \n",
      " 24  checkinallocationfrom          83447 non-null   object \n",
      " 25  checkinallocationto            83446 non-null   object \n",
      " 26  airlinename                    152640 non-null  object \n",
      " 27  vianame                        5733 non-null    object \n",
      " 28  destinationname                152552 non-null  object \n",
      " 29  traffictype                    152640 non-null  object \n",
      " 30  aircraftterminal               152640 non-null  object \n",
      " 31  airlinenamea                   147152 non-null  object \n",
      " 32  destinationnamea               148435 non-null  object \n",
      " 33  vianamea                       5184 non-null    object \n",
      " 34  flightstatustexta              152640 non-null  object \n",
      " 35  delaytimedelta                 152640 non-null  object \n",
      " 36  finalflightstatus              152640 non-null  object \n",
      " 37  delay_in_secs                  152640 non-null  float64\n",
      " 38  scheduledoffblocktime_rounded  152640 non-null  object \n",
      " 39  station                        152640 non-null  object \n",
      " 40  valid                          152640 non-null  object \n",
      " 41  lon                            152640 non-null  float64\n",
      " 42  lat                            152640 non-null  float64\n",
      " 43  elevation                      152640 non-null  float64\n",
      " 44  tmpf                           152640 non-null  float64\n",
      " 45  dwpf                           152640 non-null  float64\n",
      " 46  relh                           152640 non-null  float64\n",
      " 47  drct                           152640 non-null  float64\n",
      " 48  sknt                           152640 non-null  float64\n",
      " 49  p01i                           152640 non-null  float64\n",
      " 50  alti                           152640 non-null  float64\n",
      " 51  vsby                           152640 non-null  float64\n",
      " 52  gust                           611 non-null     float64\n",
      " 53  skyc1                          44201 non-null   object \n",
      " 54  skyc2                          197 non-null     object \n",
      " 55  skyc3                          0 non-null       float64\n",
      " 56  skyc4                          0 non-null       float64\n",
      " 57  skyl1                          16445 non-null   float64\n",
      " 58  skyl2                          188 non-null     float64\n",
      " 59  skyl3                          0 non-null       float64\n",
      " 60  skyl4                          0 non-null       float64\n",
      " 61  wxcodes                        7610 non-null    object \n",
      " 62  feel                           152640 non-null  float64\n",
      " 63  metar                          152640 non-null  object \n",
      " 64  time_dubai                     152640 non-null  object \n",
      "dtypes: float64(21), int64(1), object(43)\n",
      "memory usage: 76.9+ MB\n"
     ]
    }
   ],
   "source": [
    "flight_data_train, flight_data_test = train_test_split(df, test_size=0.2, random_state=42)\n",
    "flight_data_train.info(verbose=True)"
   ]
  },
  {
   "cell_type": "code",
   "execution_count": 229,
   "metadata": {},
   "outputs": [],
   "source": [
    "columns_to_drop = [\n",
    "    \"aodbuniquefield\",\n",
    "    \"flightstatus\",  # not needed as it does not contain the delayed status\n",
    "    \"flightstatuscode\",\n",
    "    \"aircraftregistration\",\n",
    "    \"actualtakeofftime\",\n",
    "    \"metar\",\n",
    "    \"time_dubai\",\n",
    "    \"checkinallocationfrom\",\n",
    "    \"checkinallocationto\",\n",
    "    \"actualoffblocktime\",  # not required as we have the targets already derived using this\n",
    "    \"publicscheduleddatetime\",  # Mostly same as the scheduledoffblocktime\n",
    "    \"estimatedoffblocktime\",  # data not available\n",
    "    \"delaytimedelta\",  # This is coverted to finalflightstatus for classification and to finalflightstatus for regression\n",
    "    \"wxcodes\",\n",
    "    \"airlinenamea\",\n",
    "    \"destinationnamea\",\n",
    "    \"vianamea\",\n",
    "    \"flightstatustexta\",\n",
    "    \"arrivalordeparture\",\n",
    "    \"lastchanged\",\n",
    "    \"scheduledoffblocktime_rounded\",\n",
    "    \"station\",\n",
    "    \"valid\",\n",
    "    \"lon\",\n",
    "    \"lat\",\n",
    "    \"elevation\",\n",
    "    # 'aircraftterminal'\n",
    "]"
   ]
  },
  {
   "cell_type": "code",
   "execution_count": 230,
   "metadata": {},
   "outputs": [
    {
     "data": {
      "text/plain": [
       "aodbuniquefield           int64\n",
       "flightstatus             object\n",
       "aircraftregistration     object\n",
       "flightnumber             object\n",
       "traffictypecode          object\n",
       "                         ...   \n",
       "skyl4                   float64\n",
       "wxcodes                  object\n",
       "feel                    float64\n",
       "metar                    object\n",
       "time_dubai               object\n",
       "Length: 65, dtype: object"
      ]
     },
     "execution_count": 230,
     "metadata": {},
     "output_type": "execute_result"
    }
   ],
   "source": [
    "flight_data_train.dtypes"
   ]
  },
  {
   "cell_type": "code",
   "execution_count": 231,
   "metadata": {},
   "outputs": [],
   "source": [
    "def chi_2(df, x, y):\n",
    "    # Create a contingency table\n",
    "    contingency_table = pd.crosstab(df[x], df[y])\n",
    "\n",
    "    # Perform the Chi-Square test\n",
    "    chi2, p, dof, expected = chi2_contingency(contingency_table)\n",
    "    print(f\"Chi-Square Statistic for {x} and {y}: {chi2}, p-value: {p}, dof:{dof}\")"
   ]
  },
  {
   "cell_type": "code",
   "execution_count": 232,
   "metadata": {},
   "outputs": [],
   "source": [
    "def cramers_v(df, x, y):\n",
    "    # Create a contingency table\n",
    "    contingency_table = pd.crosstab(df[x], df[y])\n",
    "    \n",
    "    # Perform the Chi-Square test\n",
    "    chi2, p, _, _ = chi2_contingency(contingency_table)\n",
    "    \n",
    "    # Calculate Cramér's V\n",
    "    n = contingency_table.sum().sum()\n",
    "    min_dim = min(contingency_table.shape) - 1\n",
    "    cor = np.sqrt(chi2 / (n * min_dim))\n",
    "    print(f\"Cramer's V  for {x} and {y}: {cor}, p-value: {p}\")"
   ]
  },
  {
   "cell_type": "markdown",
   "metadata": {},
   "source": [
    "Airline code and name"
   ]
  },
  {
   "cell_type": "code",
   "execution_count": 233,
   "metadata": {},
   "outputs": [
    {
     "data": {
      "text/plain": [
       "147"
      ]
     },
     "execution_count": 233,
     "metadata": {},
     "output_type": "execute_result"
    }
   ],
   "source": [
    "flight_data_train['airlinecode_iata'].nunique()"
   ]
  },
  {
   "cell_type": "code",
   "execution_count": 234,
   "metadata": {},
   "outputs": [
    {
     "data": {
      "text/plain": [
       "157"
      ]
     },
     "execution_count": 234,
     "metadata": {},
     "output_type": "execute_result"
    }
   ],
   "source": [
    "flight_data_train['airlinecode_icao'].nunique()"
   ]
  },
  {
   "cell_type": "code",
   "execution_count": 235,
   "metadata": {},
   "outputs": [
    {
     "name": "stdout",
     "output_type": "stream",
     "text": [
      "Chi-Square Statistic for airlinecode_iata and airlinecode_icao: 22285440.0, p-value: 0.0, dof:22776\n",
      "Cramer's V  for airlinecode_iata and airlinecode_icao: 1.0, p-value: 0.0\n"
     ]
    }
   ],
   "source": [
    "chi_2(flight_data_train, 'airlinecode_iata', 'airlinecode_icao')\n",
    "cramers_v(flight_data_train, 'airlinecode_iata', 'airlinecode_icao')"
   ]
  },
  {
   "cell_type": "code",
   "execution_count": 236,
   "metadata": {},
   "outputs": [
    {
     "name": "stdout",
     "output_type": "stream",
     "text": [
      "Chi-Square Statistic for airlinecode_iata and airlinename: 22132800.0, p-value: 0.0, dof:22776\n",
      "Cramer's V  for airlinecode_iata and airlinename: 0.9965694581570854, p-value: 0.0\n"
     ]
    }
   ],
   "source": [
    "chi_2(flight_data_train, 'airlinecode_iata', 'airlinename')\n",
    "cramers_v(flight_data_train, 'airlinecode_iata', 'airlinename')"
   ]
  },
  {
   "cell_type": "markdown",
   "metadata": {},
   "source": [
    "The p-value is very less than 0.5 and ~0.0 which indicated high correlations so we can drop one of the columns\n",
    "The Cramers V is also 1 or close to 1"
   ]
  },
  {
   "cell_type": "code",
   "execution_count": 237,
   "metadata": {},
   "outputs": [],
   "source": [
    "columns_to_drop.append('airlinecode_icao')\n",
    "columns_to_drop.append('airlinename')"
   ]
  },
  {
   "cell_type": "markdown",
   "metadata": {},
   "source": [
    "Airpot code"
   ]
  },
  {
   "cell_type": "code",
   "execution_count": 238,
   "metadata": {},
   "outputs": [
    {
     "name": "stdout",
     "output_type": "stream",
     "text": [
      "Chi-Square Statistic for destination_icao and destination_iata: 46097280.0, p-value: 0.0, dof:93024\n",
      "Cramer's V  for destination_icao and destination_iata: 0.9967050981266119, p-value: 0.0\n"
     ]
    }
   ],
   "source": [
    "chi_2(flight_data_train, 'destination_icao', 'destination_iata')\n",
    "cramers_v(flight_data_train, 'destination_icao', 'destination_iata')"
   ]
  },
  {
   "cell_type": "code",
   "execution_count": 239,
   "metadata": {},
   "outputs": [
    {
     "name": "stdout",
     "output_type": "stream",
     "text": [
      "Chi-Square Statistic for destinationname and destination_iata: 44850288.00000001, p-value: 0.0, dof:92904\n",
      "Cramer's V  for destinationname and destination_iata: 1.0, p-value: 0.0\n"
     ]
    }
   ],
   "source": [
    "chi_2(flight_data_train, 'destinationname', 'destination_iata')\n",
    "cramers_v(flight_data_train, 'destinationname', 'destination_iata')"
   ]
  },
  {
   "cell_type": "code",
   "execution_count": 240,
   "metadata": {},
   "outputs": [
    {
     "name": "stdout",
     "output_type": "stream",
     "text": [
      "Chi-Square Statistic for destination_icao and destinationname: 44901994.45626953, p-value: 0.0, dof:93852\n",
      "Cramer's V  for destination_icao and destinationname: 0.9955100263910149, p-value: 0.0\n"
     ]
    }
   ],
   "source": [
    "chi_2(flight_data_train, 'destination_icao', 'destinationname')\n",
    "cramers_v(flight_data_train, 'destination_icao', 'destinationname')"
   ]
  },
  {
   "cell_type": "code",
   "execution_count": 241,
   "metadata": {},
   "outputs": [],
   "source": [
    "columns_to_drop.append('destination_icao')\n",
    "columns_to_drop.append('destinationname')"
   ]
  },
  {
   "cell_type": "markdown",
   "metadata": {},
   "source": [
    "Via codes and name"
   ]
  },
  {
   "cell_type": "code",
   "execution_count": 242,
   "metadata": {},
   "outputs": [
    {
     "name": "stdout",
     "output_type": "stream",
     "text": [
      "Chi-Square Statistic for via_icao and via_iata: 556416.0, p-value: 0.0, dof:9216\n",
      "Cramer's V  for via_icao and via_iata: 1.0, p-value: 0.0\n",
      "Chi-Square Statistic for vianame and via_iata: 515970.0, p-value: 0.0, dof:8280\n",
      "Cramer's V  for vianame and via_iata: 1.0, p-value: 0.0\n",
      "Chi-Square Statistic for via_icao and vianame: 515970.00000000006, p-value: 0.0, dof:8280\n",
      "Cramer's V  for via_icao and vianame: 1.0, p-value: 0.0\n",
      "Chi-Square Statistic for via_iata and jointflightnumber: 17388.0, p-value: 0.0, dof:300\n",
      "Cramer's V  for via_iata and jointflightnumber: 0.9660917830792959, p-value: 0.0\n"
     ]
    }
   ],
   "source": [
    "chi_2(flight_data_train, 'via_icao', 'via_iata')\n",
    "cramers_v(flight_data_train, 'via_icao', 'via_iata')\n",
    "\n",
    "chi_2(flight_data_train, 'vianame', 'via_iata')\n",
    "cramers_v(flight_data_train, 'vianame', 'via_iata')\n",
    "\n",
    "chi_2(flight_data_train, 'via_icao', 'vianame')\n",
    "cramers_v(flight_data_train, 'via_icao', 'vianame')\n",
    "\n",
    "\n",
    "chi_2(flight_data_train, 'via_iata', 'jointflightnumber')\n",
    "cramers_v(flight_data_train, 'via_iata', 'jointflightnumber')"
   ]
  },
  {
   "cell_type": "code",
   "execution_count": 243,
   "metadata": {},
   "outputs": [],
   "source": [
    "columns_to_drop.append('via_icao')\n",
    "columns_to_drop.append('vianame')\n",
    "columns_to_drop.append('jointflightnumber')"
   ]
  },
  {
   "cell_type": "markdown",
   "metadata": {},
   "source": [
    "Flight and aircraft details"
   ]
  },
  {
   "cell_type": "code",
   "execution_count": 244,
   "metadata": {},
   "outputs": [
    {
     "name": "stdout",
     "output_type": "stream",
     "text": [
      "Chi-Square Statistic for flightnumber and aircraft_iata: 4275166.950258935, p-value: 0.0, dof:129747\n",
      "Cramer's V  for flightnumber and aircraft_iata: 0.6776063127935088, p-value: 0.0\n",
      "Chi-Square Statistic for aircraft_icao and aircraft_iata: 7479360.0, p-value: 0.0, dof:3111\n",
      "Cramer's V  for aircraft_icao and aircraft_iata: 0.9801960588196069, p-value: 0.0\n",
      "Chi-Square Statistic for aircraft_icao and flightnumber: 3946249.145335343, p-value: 0.0, dof:108477\n",
      "Cramer's V  for aircraft_icao and flightnumber: 0.7119885077049455, p-value: 0.0\n"
     ]
    }
   ],
   "source": [
    "chi_2(flight_data_train, 'flightnumber', 'aircraft_iata')\n",
    "cramers_v(flight_data_train, 'flightnumber', 'aircraft_iata')\n",
    "chi_2(flight_data_train, 'aircraft_icao', 'aircraft_iata')\n",
    "cramers_v(flight_data_train, 'aircraft_icao', 'aircraft_iata')\n",
    "chi_2(flight_data_train, 'aircraft_icao', 'flightnumber')\n",
    "cramers_v(flight_data_train, 'aircraft_icao', 'flightnumber')"
   ]
  },
  {
   "cell_type": "markdown",
   "metadata": {},
   "source": [
    "flightnumber and destination_iata"
   ]
  },
  {
   "cell_type": "code",
   "execution_count": 245,
   "metadata": {},
   "outputs": [
    {
     "name": "stdout",
     "output_type": "stream",
     "text": [
      "Chi-Square Statistic for flightnumber and destination_iata: 42758704.49211079, p-value: 0.0, dof:646608\n",
      "Cramer's V  for flightnumber and destination_iata: 0.9599338330435203, p-value: 0.0\n",
      "Chi-Square Statistic for airlinecode_iata and destination_iata: 6287768.706140986, p-value: 0.0, dof:44384\n",
      "Cramer's V  for airlinecode_iata and destination_iata: 0.5311750560417671, p-value: 0.0\n"
     ]
    }
   ],
   "source": [
    "chi_2(flight_data_train, 'flightnumber', 'destination_iata')\n",
    "cramers_v(flight_data_train, 'flightnumber', 'destination_iata')\n",
    "chi_2(flight_data_train, 'airlinecode_iata', 'destination_iata')\n",
    "cramers_v(flight_data_train, 'airlinecode_iata', 'destination_iata')"
   ]
  },
  {
   "cell_type": "code",
   "execution_count": 246,
   "metadata": {},
   "outputs": [],
   "source": [
    "columns_to_drop.append('flightnumber')"
   ]
  },
  {
   "cell_type": "markdown",
   "metadata": {},
   "source": [
    "publicgatenumber and aircraftparkingposition"
   ]
  },
  {
   "cell_type": "code",
   "execution_count": 247,
   "metadata": {},
   "outputs": [
    {
     "name": "stdout",
     "output_type": "stream",
     "text": [
      "Chi-Square Statistic for publicgatenumber and aircraftparkingposition: 13055413.685544016, p-value: 0.0, dof:33120\n",
      "Cramer's V  for publicgatenumber and aircraftparkingposition: 0.7880590815625867, p-value: 0.0\n"
     ]
    }
   ],
   "source": [
    "chi_2(flight_data_train, 'publicgatenumber', 'aircraftparkingposition')\n",
    "cramers_v(flight_data_train, 'publicgatenumber', 'aircraftparkingposition')\n"
   ]
  },
  {
   "cell_type": "code",
   "execution_count": 248,
   "metadata": {},
   "outputs": [],
   "source": [
    "columns_to_drop.append('aircraftparkingposition')"
   ]
  },
  {
   "cell_type": "code",
   "execution_count": 249,
   "metadata": {},
   "outputs": [
    {
     "name": "stdout",
     "output_type": "stream",
     "text": [
      "aircraft_iata unique values:62\n",
      "destination_iata unique values:305\n",
      "airlinecode_iata unique values:147\n",
      "publicgatenumber unique values:139\n",
      "Total unique values: 653\n"
     ]
    }
   ],
   "source": [
    "print(f'aircraft_iata unique values:{flight_data_train['aircraft_iata'].nunique()}')\n",
    "print(f'destination_iata unique values:{flight_data_train['destination_iata'].nunique()}')\n",
    "print(f'airlinecode_iata unique values:{flight_data_train['airlinecode_iata'].nunique()}')\n",
    "print(f'publicgatenumber unique values:{flight_data_train['publicgatenumber'].nunique()}')\n",
    "\n",
    "print(f\"Total unique values: {flight_data_train['aircraft_iata'].nunique() + flight_data_train['destination_iata'].nunique() + flight_data_train['airlinecode_iata'].nunique() + flight_data_train['publicgatenumber'].nunique()}\")\n",
    "\n"
   ]
  },
  {
   "cell_type": "code",
   "execution_count": 250,
   "metadata": {},
   "outputs": [
    {
     "name": "stdout",
     "output_type": "stream",
     "text": [
      "Chi-Square Statistic for destination_iata and airlinecode_iata: 6287768.706140986, p-value: 0.0, dof:44384\n",
      "Cramer's V  for destination_iata and airlinecode_iata: 0.5311750560417671, p-value: 0.0\n"
     ]
    }
   ],
   "source": [
    "chi_2(flight_data_train, 'destination_iata', 'airlinecode_iata')\n",
    "cramers_v(flight_data_train, 'destination_iata', 'airlinecode_iata')"
   ]
  },
  {
   "cell_type": "markdown",
   "metadata": {},
   "source": [
    "One out of 'aircraft_icao', 'aircraft_iata' can be dropped"
   ]
  },
  {
   "cell_type": "code",
   "execution_count": 251,
   "metadata": {},
   "outputs": [],
   "source": [
    "columns_to_drop.append('aircraft_icao')"
   ]
  },
  {
   "cell_type": "markdown",
   "metadata": {},
   "source": [
    "Traffic type"
   ]
  },
  {
   "cell_type": "code",
   "execution_count": 252,
   "metadata": {},
   "outputs": [
    {
     "name": "stdout",
     "output_type": "stream",
     "text": [
      "['PS' 'PE' 'PC']\n",
      "['Passenger Scheduled' 'Passenger Extra' 'Passenger Charter']\n"
     ]
    }
   ],
   "source": [
    "print(flight_data_train['traffictypecode'].unique())\n",
    "print(flight_data_train['traffictype'].unique())\n"
   ]
  },
  {
   "cell_type": "code",
   "execution_count": 253,
   "metadata": {},
   "outputs": [],
   "source": [
    "columns_to_drop.append('traffictype')"
   ]
  },
  {
   "cell_type": "markdown",
   "metadata": {},
   "source": [
    "Correlation for numerical fields"
   ]
  },
  {
   "cell_type": "code",
   "execution_count": 254,
   "metadata": {},
   "outputs": [
    {
     "data": {
      "text/plain": [
       "Text(0.5, 1.0, 'Correlation Heatmap')"
      ]
     },
     "execution_count": 254,
     "metadata": {},
     "output_type": "execute_result"
    },
    {
     "data": {
      "image/png": "[encoded data removed]",
      "text/plain": [
       "<Figure size 1600x600 with 2 Axes>"
      ]
     },
     "metadata": {},
     "output_type": "display_data"
    }
   ],
   "source": [
    "plt.figure(figsize=(16, 6))\n",
    "heatmap = sns.heatmap(flight_data_train.corr(numeric_only=True), vmin=-1, vmax=1, annot=True)\n",
    "heatmap.set_title('Correlation Heatmap', fontdict={'fontsize':12}, pad=12)"
   ]
  },
  {
   "cell_type": "markdown",
   "metadata": {},
   "source": [
    "tmpf and feel are highly correlated\n",
    "\n",
    "There are no missing values for feel so we can safetly remove it"
   ]
  },
  {
   "cell_type": "code",
   "execution_count": 255,
   "metadata": {},
   "outputs": [],
   "source": [
    "columns_to_drop.append('feel')"
   ]
  },
  {
   "cell_type": "markdown",
   "metadata": {},
   "source": [
    "sknt and gust are correlated\n",
    "\n",
    "As gust is the sudden increase in speed, it can be explained by wind speed (sknt)\n",
    "\n",
    "But there are many missing values in gust so we cannot depend on this\n"
   ]
  },
  {
   "cell_type": "code",
   "execution_count": 256,
   "metadata": {},
   "outputs": [
    {
     "data": {
      "text/plain": [
       "PearsonRResult(statistic=0.9792679950850472, pvalue=0.0)"
      ]
     },
     "execution_count": 256,
     "metadata": {},
     "output_type": "execute_result"
    }
   ],
   "source": [
    "pearsonr(flight_data_train['sknt'][flight_data_train['gust'].notna()], flight_data_train['gust'][flight_data_train['gust'].notna()])"
   ]
  },
  {
   "cell_type": "code",
   "execution_count": 257,
   "metadata": {},
   "outputs": [],
   "source": [
    "flight_data_train['gust'] = flight_data_train['gust'].notna().astype(int)\n",
    "flight_data_test['gust'] = flight_data_test['gust'].notna().astype(int)"
   ]
  },
  {
   "cell_type": "code",
   "execution_count": 258,
   "metadata": {},
   "outputs": [],
   "source": [
    "# Drop the duplicate or unnecessary columns\n",
    "flight_data_train.drop(columns=columns_to_drop, axis=1, inplace=True)\n",
    "flight_data_test.drop(columns=columns_to_drop, axis=1, inplace=True)"
   ]
  },
  {
   "cell_type": "code",
   "execution_count": 259,
   "metadata": {},
   "outputs": [
    {
     "data": {
      "text/plain": [
       "traffictypecode           object\n",
       "airlinecode_iata          object\n",
       "destination_iata          object\n",
       "via_iata                  object\n",
       "aircraft_iata             object\n",
       "scheduledoffblocktime     object\n",
       "publicgatenumber          object\n",
       "aircraftterminal          object\n",
       "finalflightstatus         object\n",
       "delay_in_secs            float64\n",
       "tmpf                     float64\n",
       "dwpf                     float64\n",
       "relh                     float64\n",
       "drct                     float64\n",
       "sknt                     float64\n",
       "p01i                     float64\n",
       "alti                     float64\n",
       "vsby                     float64\n",
       "gust                       int64\n",
       "skyc1                     object\n",
       "skyc2                     object\n",
       "skyc3                    float64\n",
       "skyc4                    float64\n",
       "skyl1                    float64\n",
       "skyl2                    float64\n",
       "skyl3                    float64\n",
       "skyl4                    float64\n",
       "dtype: object"
      ]
     },
     "execution_count": 259,
     "metadata": {},
     "output_type": "execute_result"
    }
   ],
   "source": [
    "flight_data_train.dtypes"
   ]
  },
  {
   "cell_type": "markdown",
   "metadata": {},
   "source": [
    "Missing Data"
   ]
  },
  {
   "cell_type": "code",
   "execution_count": 260,
   "metadata": {},
   "outputs": [
    {
     "data": {
      "text/plain": [
       "302"
      ]
     },
     "execution_count": 260,
     "metadata": {},
     "output_type": "execute_result"
    }
   ],
   "source": [
    "flight_data_train['publicgatenumber'].isnull().sum()"
   ]
  },
  {
   "cell_type": "code",
   "execution_count": 261,
   "metadata": {},
   "outputs": [
    {
     "data": {
      "text/plain": [
       "array(['F6   ', 'B19  ', 'D11  ', 'B6   ', 'B32  ', 'F4   ', 'B14  ',\n",
       "       'A21  ', 'D2   ', 'A2   ', 'D14  ', 'D16  ', 'A15  ', 'B30  ',\n",
       "       'C7   ', 'B31  ', 'B8   ', 'F11  ', 'B3   ', 'B2   ', 'B21  ',\n",
       "       'F8   ', 'D13  ', 'A13  ', 'F2   ', 'B25  ', 'C18  ', 'F10  ',\n",
       "       'B15  ', 'B29  ', 'D12  ', 'B10  ', 'B11  ', 'C13  ', 'D6   ',\n",
       "       'A10  ', 'D8   ', 'C23  ', 'A1   ', 'F9   ', 'A4   ', 'A22  ',\n",
       "       'B20  ', 'C12  ', 'A12  ', 'D18  ', 'B28  ', 'F12  ', 'C19  ',\n",
       "       'C10  ', 'C15  ', 'C3   ', 'C11  ', 'B27  ', 'A20  ', 'C6   ',\n",
       "       'D19  ', 'D15  ', 'C46  ', 'B26  ', 'C8   ', 'B12  ', 'C4   ',\n",
       "       'D10  ', 'D17  ', 'D9   ', 'C17  ', 'C2   ', 'A11  ', 'D21  ',\n",
       "       'A5   ', 'B31a ', 'D1   ', 'B23  ', 'C21  ', 'B13  ', 'D3   ',\n",
       "       'D4   ', 'C20  ', 'C5   ', 'B22  ', 'C44  ', 'A24  ', 'A18  ',\n",
       "       'C22  ', 'B1   ', 'B4   ', 'C9   ', 'F1   ', 'D7   ', 'B18  ',\n",
       "       'F3   ', 'C1   ', 'A3   ', 'A23  ', 'D5   ', 'F7   ', 'C16  ',\n",
       "       'B17  ', 'B24  ', 'C48  ', 'C43  ', 'A16  ', 'A9   ', 'D22  ',\n",
       "       'A14  ', 'A6   ', 'C14  ', 'B5   ', 'D20  ', 'A17  ', 'F5   ',\n",
       "       'A7   ', 'C39  ', 'C38  ', 'D24  ', 'C41  ', nan, 'C36  ', 'D23  ',\n",
       "       'A8   ', 'D25  ', 'D32  ', 'D26  ', 'C24  ', 'C40  ', 'A19  ',\n",
       "       'C42  ', 'D28  ', 'C15a ', 'C12a ', 'D30  ', 'C37  ', 'D31  ',\n",
       "       'B9   ', 'D29  ', 'A19a ', 'B7   ', 'D27  ', 'A6a  '], dtype=object)"
      ]
     },
     "execution_count": 261,
     "metadata": {},
     "output_type": "execute_result"
    }
   ],
   "source": [
    "flight_data_train['publicgatenumber'].unique()"
   ]
  },
  {
   "cell_type": "code",
   "execution_count": 262,
   "metadata": {},
   "outputs": [
    {
     "data": {
      "text/plain": [
       "0"
      ]
     },
     "execution_count": 262,
     "metadata": {},
     "output_type": "execute_result"
    }
   ],
   "source": [
    "flight_data_train['aircraftterminal'].isnull().sum()"
   ]
  },
  {
   "cell_type": "code",
   "execution_count": 263,
   "metadata": {},
   "outputs": [
    {
     "data": {
      "text/html": [
       "<div>\n",
       "<style scoped>\n",
       "    .dataframe tbody tr th:only-of-type {\n",
       "        vertical-align: middle;\n",
       "    }\n",
       "\n",
       "    .dataframe tbody tr th {\n",
       "        vertical-align: top;\n",
       "    }\n",
       "\n",
       "    .dataframe thead th {\n",
       "        text-align: right;\n",
       "    }\n",
       "</style>\n",
       "<table border=\"1\" class=\"dataframe\">\n",
       "  <thead>\n",
       "    <tr style=\"text-align: right;\">\n",
       "      <th></th>\n",
       "      <th>publicgatenumber</th>\n",
       "      <th>aircraftterminal</th>\n",
       "    </tr>\n",
       "  </thead>\n",
       "  <tbody>\n",
       "    <tr>\n",
       "      <th>33207</th>\n",
       "      <td>NaN</td>\n",
       "      <td>3</td>\n",
       "    </tr>\n",
       "    <tr>\n",
       "      <th>170368</th>\n",
       "      <td>NaN</td>\n",
       "      <td>1</td>\n",
       "    </tr>\n",
       "    <tr>\n",
       "      <th>162258</th>\n",
       "      <td>NaN</td>\n",
       "      <td>2</td>\n",
       "    </tr>\n",
       "    <tr>\n",
       "      <th>24069</th>\n",
       "      <td>NaN</td>\n",
       "      <td>3</td>\n",
       "    </tr>\n",
       "    <tr>\n",
       "      <th>76875</th>\n",
       "      <td>NaN</td>\n",
       "      <td>PT</td>\n",
       "    </tr>\n",
       "    <tr>\n",
       "      <th>...</th>\n",
       "      <td>...</td>\n",
       "      <td>...</td>\n",
       "    </tr>\n",
       "    <tr>\n",
       "      <th>46479</th>\n",
       "      <td>NaN</td>\n",
       "      <td>3</td>\n",
       "    </tr>\n",
       "    <tr>\n",
       "      <th>110169</th>\n",
       "      <td>NaN</td>\n",
       "      <td>1</td>\n",
       "    </tr>\n",
       "    <tr>\n",
       "      <th>49153</th>\n",
       "      <td>NaN</td>\n",
       "      <td>2</td>\n",
       "    </tr>\n",
       "    <tr>\n",
       "      <th>78477</th>\n",
       "      <td>NaN</td>\n",
       "      <td>PT</td>\n",
       "    </tr>\n",
       "    <tr>\n",
       "      <th>19870</th>\n",
       "      <td>NaN</td>\n",
       "      <td>3</td>\n",
       "    </tr>\n",
       "  </tbody>\n",
       "</table>\n",
       "<p>302 rows × 2 columns</p>\n",
       "</div>"
      ],
      "text/plain": [
       "       publicgatenumber aircraftterminal\n",
       "33207               NaN                3\n",
       "170368              NaN               1 \n",
       "162258              NaN                2\n",
       "24069               NaN               3 \n",
       "76875               NaN               PT\n",
       "...                 ...              ...\n",
       "46479               NaN                3\n",
       "110169              NaN                1\n",
       "49153               NaN                2\n",
       "78477               NaN               PT\n",
       "19870               NaN               3 \n",
       "\n",
       "[302 rows x 2 columns]"
      ]
     },
     "execution_count": 263,
     "metadata": {},
     "output_type": "execute_result"
    }
   ],
   "source": [
    "flight_data_train[['publicgatenumber', 'aircraftterminal']][flight_data_train['publicgatenumber'].isnull() == True]"
   ]
  },
  {
   "cell_type": "code",
   "execution_count": 264,
   "metadata": {},
   "outputs": [
    {
     "name": "stdout",
     "output_type": "stream",
     "text": [
      "Chi-Square Statistic for publicgatenumber and aircraftterminal: 364491.43887506856, p-value: 0.0, dof:828\n",
      "Cramer's V  for publicgatenumber and aircraftterminal: 0.631486275344951, p-value: 0.0\n"
     ]
    }
   ],
   "source": [
    "chi_2(flight_data_train, 'publicgatenumber', 'aircraftterminal')\n",
    "cramers_v(flight_data_train, 'publicgatenumber', 'aircraftterminal')"
   ]
  },
  {
   "cell_type": "code",
   "execution_count": 265,
   "metadata": {},
   "outputs": [],
   "source": [
    "# chi_2(flight_data_train, 'publicgatenumber', 'aircraftparkingposition')\n",
    "# cramers_v(flight_data_train, 'publicgatenumber', 'aircraftparkingposition')"
   ]
  },
  {
   "cell_type": "code",
   "execution_count": 266,
   "metadata": {},
   "outputs": [],
   "source": [
    "flight_data_train['publicgatenumber'] = flight_data_train['publicgatenumber'].fillna('UNKNOWN')\n",
    "flight_data_test['publicgatenumber'] = flight_data_test['publicgatenumber'].fillna('UNKNOWN')"
   ]
  },
  {
   "cell_type": "code",
   "execution_count": 267,
   "metadata": {},
   "outputs": [
    {
     "data": {
      "text/plain": [
       "0"
      ]
     },
     "execution_count": 267,
     "metadata": {},
     "output_type": "execute_result"
    }
   ],
   "source": [
    "flight_data_train['aircraftterminal'].isnull().sum()"
   ]
  },
  {
   "cell_type": "code",
   "execution_count": 268,
   "metadata": {},
   "outputs": [
    {
     "data": {
      "text/plain": [
       "traffictypecode               0\n",
       "airlinecode_iata              0\n",
       "destination_iata              0\n",
       "via_iata                 146844\n",
       "aircraft_iata                 0\n",
       "scheduledoffblocktime         0\n",
       "publicgatenumber              0\n",
       "aircraftterminal              0\n",
       "finalflightstatus             0\n",
       "delay_in_secs                 0\n",
       "tmpf                          0\n",
       "dwpf                          0\n",
       "relh                          0\n",
       "drct                          0\n",
       "sknt                          0\n",
       "p01i                          0\n",
       "alti                          0\n",
       "vsby                          0\n",
       "gust                          0\n",
       "skyc1                    108439\n",
       "skyc2                    152443\n",
       "skyc3                    152640\n",
       "skyc4                    152640\n",
       "skyl1                    136195\n",
       "skyl2                    152452\n",
       "skyl3                    152640\n",
       "skyl4                    152640\n",
       "dtype: int64"
      ]
     },
     "execution_count": 268,
     "metadata": {},
     "output_type": "execute_result"
    }
   ],
   "source": [
    "flight_data_train.isnull().sum()"
   ]
  },
  {
   "cell_type": "code",
   "execution_count": 269,
   "metadata": {},
   "outputs": [],
   "source": [
    "# flight_data_train['aircraftparkingposition'].unique()"
   ]
  },
  {
   "cell_type": "code",
   "execution_count": 270,
   "metadata": {},
   "outputs": [],
   "source": [
    "# flight_data_train['aircraftparkingposition'] = flight_data_train['aircraftparkingposition'].fillna('UNKNOWN')\n",
    "# flight_data_test['aircraftparkingposition'] = flight_data_test['aircraftparkingposition'].fillna('UNKNOWN')"
   ]
  },
  {
   "cell_type": "markdown",
   "metadata": {},
   "source": [
    "via_iata\n",
    "\n",
    "Instead of maintaining the details of connecting flight we can change it indicate if the flight is connection"
   ]
  },
  {
   "cell_type": "code",
   "execution_count": 271,
   "metadata": {},
   "outputs": [],
   "source": [
    "flight_data_train['isconnecting'] = flight_data_train['via_iata'].notna().map({True: '1', False: '0'})\n",
    "flight_data_test['isconnecting'] = flight_data_test['via_iata'].notna().map({True: '1', False: '0'})\n",
    "\n",
    "\n",
    "flight_data_train.drop(columns='via_iata', axis=1, inplace=True)\n",
    "flight_data_test.drop(columns='via_iata', axis=1, inplace=True)"
   ]
  },
  {
   "cell_type": "code",
   "execution_count": 272,
   "metadata": {},
   "outputs": [
    {
     "data": {
      "text/plain": [
       "array(['0', '1'], dtype=object)"
      ]
     },
     "execution_count": 272,
     "metadata": {},
     "output_type": "execute_result"
    }
   ],
   "source": [
    "flight_data_train['isconnecting'].unique()"
   ]
  },
  {
   "cell_type": "code",
   "execution_count": 273,
   "metadata": {},
   "outputs": [
    {
     "name": "stdout",
     "output_type": "stream",
     "text": [
      "skyc1 unique values:['NSC' nan 'FEW' 'BKN' 'SCT' 'VV ' 'OVC']\n",
      "skyc2 unique values:[nan 'FEW' 'NSC' 'SCT' 'BKN']\n",
      "skyc3 unique values:[nan]\n",
      "skyc4 unique values:[nan]\n",
      "skyl1 unique values:[  nan 4500. 4000. 3200.  800.  300. 2300. 3000.  700. 2600. 1700. 2500.\n",
      "  100. 3500. 1500. 2800. 3300. 1800. 1100. 4800. 4700.  600.  200. 2000.\n",
      " 1600. 2100. 3800. 4900. 3600. 2400. 3700. 2700. 3100. 4300. 1300. 4600.\n",
      " 1400. 2900. 2200. 1000.  900. 1900.  500.  400. 4100. 1200. 5000. 4200.\n",
      " 7000. 4400.]\n",
      "skyl2 unique values:[  nan 5000. 4000. 3000. 1400. 4500. 3500.]\n",
      "skyl3 unique values:[nan]\n",
      "skyl4 unique values:[nan]\n"
     ]
    }
   ],
   "source": [
    "print(f'skyc1 unique values:{flight_data_train['skyc1'].unique()}')\n",
    "print(f'skyc2 unique values:{flight_data_train['skyc2'].unique()}')\n",
    "print(f'skyc3 unique values:{flight_data_train['skyc3'].unique()}')\n",
    "print(f'skyc4 unique values:{flight_data_train['skyc4'].unique()}')\n",
    "\n",
    "print(f'skyl1 unique values:{flight_data_train['skyl1'].unique()}')\n",
    "print(f'skyl2 unique values:{flight_data_train['skyl2'].unique()}')\n",
    "print(f'skyl3 unique values:{flight_data_train['skyl3'].unique()}')\n",
    "print(f'skyl4 unique values:{flight_data_train['skyl4'].unique()}')"
   ]
  },
  {
   "cell_type": "markdown",
   "metadata": {},
   "source": [
    "We can drop skyc3, skyc4, skyl3 and skyl4 as they are mostly empty"
   ]
  },
  {
   "cell_type": "code",
   "execution_count": 274,
   "metadata": {},
   "outputs": [],
   "source": [
    "flight_data_train.drop(columns=['skyc3', 'skyc4', 'skyl3', 'skyl4'], axis=1, inplace=True)\n",
    "flight_data_test.drop(columns=['skyc3', 'skyc4', 'skyl3', 'skyl4'], axis=1, inplace=True)"
   ]
  },
  {
   "cell_type": "code",
   "execution_count": 275,
   "metadata": {},
   "outputs": [],
   "source": [
    "# Replace missing values in 'skyc1' and 'skyc2' with 'NA'\n",
    "flight_data_train[['skyc1', 'skyc2']] = flight_data_train[['skyc1', 'skyc2']].fillna('CAVOK') # From METAR code\n",
    "flight_data_test[['skyc1', 'skyc2']] = flight_data_test[['skyc1', 'skyc2']].fillna('CAVOK')\n",
    "\n",
    "# Replace missing values in 'skyl1' and 'skyl2' with 0\n",
    "flight_data_train[['skyl1', 'skyl2']] = flight_data_train[['skyl1', 'skyl2']].fillna(0)\n",
    "flight_data_test[['skyl1', 'skyl2']] = flight_data_test[['skyl1', 'skyl2']].fillna(0)"
   ]
  },
  {
   "cell_type": "code",
   "execution_count": 276,
   "metadata": {},
   "outputs": [
    {
     "data": {
      "text/plain": [
       "traffictypecode          0\n",
       "airlinecode_iata         0\n",
       "destination_iata         0\n",
       "aircraft_iata            0\n",
       "scheduledoffblocktime    0\n",
       "publicgatenumber         0\n",
       "aircraftterminal         0\n",
       "finalflightstatus        0\n",
       "delay_in_secs            0\n",
       "tmpf                     0\n",
       "dwpf                     0\n",
       "relh                     0\n",
       "drct                     0\n",
       "sknt                     0\n",
       "p01i                     0\n",
       "alti                     0\n",
       "vsby                     0\n",
       "gust                     0\n",
       "skyc1                    0\n",
       "skyc2                    0\n",
       "skyl1                    0\n",
       "skyl2                    0\n",
       "isconnecting             0\n",
       "dtype: int64"
      ]
     },
     "execution_count": 276,
     "metadata": {},
     "output_type": "execute_result"
    }
   ],
   "source": [
    "flight_data_train.isna().sum()"
   ]
  },
  {
   "cell_type": "code",
   "execution_count": 277,
   "metadata": {},
   "outputs": [
    {
     "data": {
      "text/plain": [
       "Index(['traffictypecode', 'airlinecode_iata', 'destination_iata',\n",
       "       'aircraft_iata', 'scheduledoffblocktime', 'publicgatenumber',\n",
       "       'aircraftterminal', 'finalflightstatus', 'delay_in_secs', 'tmpf',\n",
       "       'dwpf', 'relh', 'drct', 'sknt', 'p01i', 'alti', 'vsby', 'gust', 'skyc1',\n",
       "       'skyc2', 'skyl1', 'skyl2', 'isconnecting'],\n",
       "      dtype='object')"
      ]
     },
     "execution_count": 277,
     "metadata": {},
     "output_type": "execute_result"
    }
   ],
   "source": [
    "flight_data_test.columns"
   ]
  },
  {
   "cell_type": "code",
   "execution_count": 278,
   "metadata": {},
   "outputs": [
    {
     "data": {
      "text/plain": [
       "array(['2 ', 3, '1 ', 'PT', 1, '3 ', 2], dtype=object)"
      ]
     },
     "execution_count": 278,
     "metadata": {},
     "output_type": "execute_result"
    }
   ],
   "source": [
    "flight_data_train['aircraftterminal'].unique()"
   ]
  },
  {
   "cell_type": "code",
   "execution_count": 279,
   "metadata": {},
   "outputs": [],
   "source": [
    "aircraftterminal_map = {0: 0, 1: 1, 2: 2, 3: 3, \"2 \": 2, \"1 \": 1, \"3 \": 3, \"PT\": 0}\n",
    "flight_data_train[\"aircraftterminal\"] = flight_data_train[\"aircraftterminal\"].map(\n",
    "    aircraftterminal_map\n",
    ")\n",
    "flight_data_test[\"aircraftterminal\"] = flight_data_test[\"aircraftterminal\"].map(\n",
    "    aircraftterminal_map\n",
    ")"
   ]
  },
  {
   "cell_type": "code",
   "execution_count": 280,
   "metadata": {},
   "outputs": [
    {
     "data": {
      "text/plain": [
       "array([2, 3, 1, 0])"
      ]
     },
     "execution_count": 280,
     "metadata": {},
     "output_type": "execute_result"
    }
   ],
   "source": [
    "flight_data_train['aircraftterminal'].unique()"
   ]
  },
  {
   "cell_type": "code",
   "execution_count": 281,
   "metadata": {},
   "outputs": [],
   "source": [
    "non_numeric_columns = list(set(flight_data_train.columns)-set(flight_data_train._get_numeric_data().columns))\n",
    "for col in non_numeric_columns:\n",
    "    flight_data_train[col] = flight_data_train[col].apply(lambda x : str(x).strip())\n",
    "    flight_data_test[col] = flight_data_test[col].apply(lambda x : str(x).strip())"
   ]
  },
  {
   "cell_type": "code",
   "execution_count": 282,
   "metadata": {},
   "outputs": [],
   "source": [
    "cols = [\n",
    "    # \"flightnumber\",\n",
    "    \"scheduledoffblocktime\",\n",
    "    \"traffictypecode\",\n",
    "    \"airlinecode_iata\",\n",
    "    \"destination_iata\",\n",
    "    \"aircraft_iata\",\n",
    "    \"isconnecting\",\n",
    "    # \"aircraftparkingposition\",\n",
    "    \"publicgatenumber\",\n",
    "    \"aircraftterminal\",\n",
    "    \"tmpf\",\n",
    "    \"dwpf\",\n",
    "    \"relh\",\n",
    "    \"drct\",\n",
    "    \"sknt\",\n",
    "    \"p01i\",\n",
    "    \"alti\",\n",
    "    \"vsby\",\n",
    "    \"gust\",\n",
    "    \"skyc1\",\n",
    "    \"skyc2\",\n",
    "    \"skyl1\",\n",
    "    \"skyl2\",\n",
    "    \"finalflightstatus\",\n",
    "    \"delay_in_secs\",\n",
    "]"
   ]
  },
  {
   "cell_type": "code",
   "execution_count": 283,
   "metadata": {},
   "outputs": [
    {
     "data": {
      "text/plain": [
       "traffictypecode          0\n",
       "airlinecode_iata         0\n",
       "destination_iata         0\n",
       "aircraft_iata            0\n",
       "scheduledoffblocktime    0\n",
       "publicgatenumber         0\n",
       "aircraftterminal         0\n",
       "finalflightstatus        0\n",
       "delay_in_secs            0\n",
       "tmpf                     0\n",
       "dwpf                     0\n",
       "relh                     0\n",
       "drct                     0\n",
       "sknt                     0\n",
       "p01i                     0\n",
       "alti                     0\n",
       "vsby                     0\n",
       "gust                     0\n",
       "skyc1                    0\n",
       "skyc2                    0\n",
       "skyl1                    0\n",
       "skyl2                    0\n",
       "isconnecting             0\n",
       "dtype: int64"
      ]
     },
     "execution_count": 283,
     "metadata": {},
     "output_type": "execute_result"
    }
   ],
   "source": [
    "flight_data_train.isnull().sum()"
   ]
  },
  {
   "cell_type": "code",
   "execution_count": 284,
   "metadata": {},
   "outputs": [
    {
     "data": {
      "image/png": "[encoded data removed]",
      "text/plain": [
       "<Figure size 1600x600 with 1 Axes>"
      ]
     },
     "metadata": {},
     "output_type": "display_data"
    }
   ],
   "source": [
    "import matplotlib.pyplot as plt\n",
    "\n",
    "plt.figure(figsize=(16, 6))\n",
    "plt.bar(flight_data_train['aircraft_iata'][flight_data_train['finalflightstatus']== 'Delayed'].value_counts().index, flight_data_train['aircraft_iata'][flight_data_train['finalflightstatus']== 'Delayed'].value_counts().values)\n",
    "plt.title('Aircraft type for delayed flights')\n",
    "plt.xlabel('Aircraft type')\n",
    "plt.ylabel('Count')\n",
    "plt.xticks(rotation=45, ha='right')\n",
    "plt.show()"
   ]
  },
  {
   "cell_type": "code",
   "execution_count": 285,
   "metadata": {},
   "outputs": [
    {
     "data": {
      "image/png": "[encoded data removed]",
      "text/plain": [
       "<Figure size 2500x400 with 1 Axes>"
      ]
     },
     "metadata": {},
     "output_type": "display_data"
    }
   ],
   "source": [
    "plt.figure(figsize=(25, 4))\n",
    "plt.bar(flight_data_train['destination_iata'][flight_data_train['finalflightstatus']== 'Delayed'].value_counts().index, flight_data_train['destination_iata'][flight_data_train['finalflightstatus']== 'Delayed'].value_counts().values)\n",
    "plt.title('Destination for delayed flights')\n",
    "plt.xlabel('Destination')\n",
    "plt.ylabel('Count')\n",
    "plt.xticks(rotation=90)\n",
    "plt.show()"
   ]
  },
  {
   "cell_type": "code",
   "execution_count": 286,
   "metadata": {},
   "outputs": [],
   "source": [
    "flight_data_train[cols].to_csv('./flight_data_train.csv', index=False)\n",
    "flight_data_test[cols].to_csv('./flight_data_test.csv', index=False)\n",
    "\n",
    "flight_data_train = flight_data_train[cols].reset_index(drop=True)\n",
    "flight_data_test = flight_data_test[cols].reset_index(drop=True)"
   ]
  },
  {
   "cell_type": "code",
   "execution_count": 293,
   "metadata": {},
   "outputs": [
    {
     "data": {
      "text/html": [
       "<div>\n",
       "<style scoped>\n",
       "    .dataframe tbody tr th:only-of-type {\n",
       "        vertical-align: middle;\n",
       "    }\n",
       "\n",
       "    .dataframe tbody tr th {\n",
       "        vertical-align: top;\n",
       "    }\n",
       "\n",
       "    .dataframe thead th {\n",
       "        text-align: right;\n",
       "    }\n",
       "</style>\n",
       "<table border=\"1\" class=\"dataframe\">\n",
       "  <thead>\n",
       "    <tr style=\"text-align: right;\">\n",
       "      <th></th>\n",
       "      <th>flightnumber</th>\n",
       "      <th>scheduledoffblocktime</th>\n",
       "      <th>traffictypecode</th>\n",
       "      <th>airlinecode_iata</th>\n",
       "      <th>destination_iata</th>\n",
       "      <th>aircraft_iata</th>\n",
       "      <th>isconnecting</th>\n",
       "      <th>aircraftparkingposition</th>\n",
       "      <th>publicgatenumber</th>\n",
       "      <th>tmpf</th>\n",
       "      <th>dwpf</th>\n",
       "      <th>relh</th>\n",
       "      <th>drct</th>\n",
       "      <th>sknt</th>\n",
       "      <th>p01i</th>\n",
       "      <th>alti</th>\n",
       "      <th>vsby</th>\n",
       "      <th>skyc1</th>\n",
       "      <th>skyc2</th>\n",
       "      <th>skyl1</th>\n",
       "      <th>skyl2</th>\n",
       "      <th>finalflightstatus</th>\n",
       "      <th>delay_in_secs</th>\n",
       "    </tr>\n",
       "  </thead>\n",
       "  <tbody>\n",
       "    <tr>\n",
       "      <th>0</th>\n",
       "      <td>FZ 547</td>\n",
       "      <td>2022-04-29 03:30:00</td>\n",
       "      <td>PS</td>\n",
       "      <td>FZ</td>\n",
       "      <td>CMB</td>\n",
       "      <td>7S8</td>\n",
       "      <td>0</td>\n",
       "      <td>E10L</td>\n",
       "      <td>F6</td>\n",
       "      <td>86.0</td>\n",
       "      <td>57.2</td>\n",
       "      <td>37.62</td>\n",
       "      <td>120.0</td>\n",
       "      <td>5.0</td>\n",
       "      <td>0.0</td>\n",
       "      <td>29.77</td>\n",
       "      <td>4.97</td>\n",
       "      <td>NSC</td>\n",
       "      <td>NA</td>\n",
       "      <td>0.0</td>\n",
       "      <td>0.0</td>\n",
       "      <td>On-Time</td>\n",
       "      <td>387.0</td>\n",
       "    </tr>\n",
       "    <tr>\n",
       "      <th>1</th>\n",
       "      <td>EK 925</td>\n",
       "      <td>2021-09-11 21:55:00</td>\n",
       "      <td>PS</td>\n",
       "      <td>EK</td>\n",
       "      <td>CAI</td>\n",
       "      <td>77W</td>\n",
       "      <td>0</td>\n",
       "      <td>F21</td>\n",
       "      <td>B19</td>\n",
       "      <td>98.6</td>\n",
       "      <td>71.6</td>\n",
       "      <td>42.04</td>\n",
       "      <td>60.0</td>\n",
       "      <td>3.0</td>\n",
       "      <td>0.0</td>\n",
       "      <td>29.50</td>\n",
       "      <td>6.21</td>\n",
       "      <td>NA</td>\n",
       "      <td>NA</td>\n",
       "      <td>0.0</td>\n",
       "      <td>0.0</td>\n",
       "      <td>Delayed</td>\n",
       "      <td>1255.0</td>\n",
       "    </tr>\n",
       "    <tr>\n",
       "      <th>2</th>\n",
       "      <td>XY 206</td>\n",
       "      <td>2022-06-06 16:15:00</td>\n",
       "      <td>PS</td>\n",
       "      <td>XY</td>\n",
       "      <td>RUH</td>\n",
       "      <td>32N</td>\n",
       "      <td>0</td>\n",
       "      <td>C55R</td>\n",
       "      <td>D11</td>\n",
       "      <td>100.4</td>\n",
       "      <td>64.4</td>\n",
       "      <td>31.07</td>\n",
       "      <td>330.0</td>\n",
       "      <td>14.0</td>\n",
       "      <td>0.0</td>\n",
       "      <td>29.53</td>\n",
       "      <td>6.21</td>\n",
       "      <td>NA</td>\n",
       "      <td>NA</td>\n",
       "      <td>0.0</td>\n",
       "      <td>0.0</td>\n",
       "      <td>Delayed</td>\n",
       "      <td>937.0</td>\n",
       "    </tr>\n",
       "    <tr>\n",
       "      <th>3</th>\n",
       "      <td>EK 586</td>\n",
       "      <td>2021-12-12 10:30:00</td>\n",
       "      <td>PS</td>\n",
       "      <td>EK</td>\n",
       "      <td>DAC</td>\n",
       "      <td>77W</td>\n",
       "      <td>0</td>\n",
       "      <td>B14</td>\n",
       "      <td>B6</td>\n",
       "      <td>75.2</td>\n",
       "      <td>60.8</td>\n",
       "      <td>60.90</td>\n",
       "      <td>240.0</td>\n",
       "      <td>3.0</td>\n",
       "      <td>0.0</td>\n",
       "      <td>30.12</td>\n",
       "      <td>4.97</td>\n",
       "      <td>FEW</td>\n",
       "      <td>NA</td>\n",
       "      <td>4500.0</td>\n",
       "      <td>0.0</td>\n",
       "      <td>Delayed</td>\n",
       "      <td>1067.0</td>\n",
       "    </tr>\n",
       "    <tr>\n",
       "      <th>4</th>\n",
       "      <td>EK 532</td>\n",
       "      <td>2021-01-30 21:45:00</td>\n",
       "      <td>PS</td>\n",
       "      <td>EK</td>\n",
       "      <td>COK</td>\n",
       "      <td>77W</td>\n",
       "      <td>0</td>\n",
       "      <td>B26L</td>\n",
       "      <td>B32</td>\n",
       "      <td>73.4</td>\n",
       "      <td>55.4</td>\n",
       "      <td>53.29</td>\n",
       "      <td>360.0</td>\n",
       "      <td>2.0</td>\n",
       "      <td>0.0</td>\n",
       "      <td>30.03</td>\n",
       "      <td>6.21</td>\n",
       "      <td>NA</td>\n",
       "      <td>NA</td>\n",
       "      <td>0.0</td>\n",
       "      <td>0.0</td>\n",
       "      <td>On-Time</td>\n",
       "      <td>0.0</td>\n",
       "    </tr>\n",
       "    <tr>\n",
       "      <th>...</th>\n",
       "      <td>...</td>\n",
       "      <td>...</td>\n",
       "      <td>...</td>\n",
       "      <td>...</td>\n",
       "      <td>...</td>\n",
       "      <td>...</td>\n",
       "      <td>...</td>\n",
       "      <td>...</td>\n",
       "      <td>...</td>\n",
       "      <td>...</td>\n",
       "      <td>...</td>\n",
       "      <td>...</td>\n",
       "      <td>...</td>\n",
       "      <td>...</td>\n",
       "      <td>...</td>\n",
       "      <td>...</td>\n",
       "      <td>...</td>\n",
       "      <td>...</td>\n",
       "      <td>...</td>\n",
       "      <td>...</td>\n",
       "      <td>...</td>\n",
       "      <td>...</td>\n",
       "      <td>...</td>\n",
       "    </tr>\n",
       "    <tr>\n",
       "      <th>152635</th>\n",
       "      <td>RA 230</td>\n",
       "      <td>2022-01-01 04:25:00</td>\n",
       "      <td>PS</td>\n",
       "      <td>RA</td>\n",
       "      <td>KTM</td>\n",
       "      <td>332</td>\n",
       "      <td>0</td>\n",
       "      <td>E03</td>\n",
       "      <td>F5</td>\n",
       "      <td>69.8</td>\n",
       "      <td>62.6</td>\n",
       "      <td>77.90</td>\n",
       "      <td>100.0</td>\n",
       "      <td>10.0</td>\n",
       "      <td>0.0</td>\n",
       "      <td>30.00</td>\n",
       "      <td>4.97</td>\n",
       "      <td>BKN</td>\n",
       "      <td>FEW</td>\n",
       "      <td>4500.0</td>\n",
       "      <td>5000.0</td>\n",
       "      <td>Delayed</td>\n",
       "      <td>1008.0</td>\n",
       "    </tr>\n",
       "    <tr>\n",
       "      <th>152636</th>\n",
       "      <td>FZ 8015</td>\n",
       "      <td>2021-11-22 10:50:00</td>\n",
       "      <td>PS</td>\n",
       "      <td>FZ</td>\n",
       "      <td>DMM</td>\n",
       "      <td>7M8</td>\n",
       "      <td>0</td>\n",
       "      <td>C30</td>\n",
       "      <td>F8</td>\n",
       "      <td>86.0</td>\n",
       "      <td>46.4</td>\n",
       "      <td>25.26</td>\n",
       "      <td>90.0</td>\n",
       "      <td>5.0</td>\n",
       "      <td>0.0</td>\n",
       "      <td>30.03</td>\n",
       "      <td>6.21</td>\n",
       "      <td>NA</td>\n",
       "      <td>NA</td>\n",
       "      <td>0.0</td>\n",
       "      <td>0.0</td>\n",
       "      <td>On-Time</td>\n",
       "      <td>30.0</td>\n",
       "    </tr>\n",
       "    <tr>\n",
       "      <th>152637</th>\n",
       "      <td>EK 857</td>\n",
       "      <td>2022-01-31 14:10:00</td>\n",
       "      <td>PS</td>\n",
       "      <td>EK</td>\n",
       "      <td>KWI</td>\n",
       "      <td>77W</td>\n",
       "      <td>0</td>\n",
       "      <td>B18L</td>\n",
       "      <td>B14</td>\n",
       "      <td>77.0</td>\n",
       "      <td>51.8</td>\n",
       "      <td>41.42</td>\n",
       "      <td>320.0</td>\n",
       "      <td>4.0</td>\n",
       "      <td>0.0</td>\n",
       "      <td>29.97</td>\n",
       "      <td>6.21</td>\n",
       "      <td>NA</td>\n",
       "      <td>NA</td>\n",
       "      <td>0.0</td>\n",
       "      <td>0.0</td>\n",
       "      <td>On-Time</td>\n",
       "      <td>0.0</td>\n",
       "    </tr>\n",
       "    <tr>\n",
       "      <th>152638</th>\n",
       "      <td>FZ 017</td>\n",
       "      <td>2022-03-09 15:45:00</td>\n",
       "      <td>PS</td>\n",
       "      <td>FZ</td>\n",
       "      <td>DOH</td>\n",
       "      <td>7M8</td>\n",
       "      <td>0</td>\n",
       "      <td>C21</td>\n",
       "      <td>F8</td>\n",
       "      <td>87.8</td>\n",
       "      <td>59.0</td>\n",
       "      <td>37.90</td>\n",
       "      <td>330.0</td>\n",
       "      <td>9.0</td>\n",
       "      <td>0.0</td>\n",
       "      <td>29.83</td>\n",
       "      <td>6.21</td>\n",
       "      <td>NA</td>\n",
       "      <td>NA</td>\n",
       "      <td>0.0</td>\n",
       "      <td>0.0</td>\n",
       "      <td>Delayed</td>\n",
       "      <td>1082.0</td>\n",
       "    </tr>\n",
       "    <tr>\n",
       "      <th>152639</th>\n",
       "      <td>PK 284</td>\n",
       "      <td>2022-01-06 03:30:00</td>\n",
       "      <td>PS</td>\n",
       "      <td>PK</td>\n",
       "      <td>PEW</td>\n",
       "      <td>320</td>\n",
       "      <td>0</td>\n",
       "      <td>C54R</td>\n",
       "      <td>D9</td>\n",
       "      <td>69.8</td>\n",
       "      <td>50.0</td>\n",
       "      <td>49.37</td>\n",
       "      <td>280.0</td>\n",
       "      <td>15.0</td>\n",
       "      <td>0.0</td>\n",
       "      <td>29.94</td>\n",
       "      <td>6.21</td>\n",
       "      <td>FEW</td>\n",
       "      <td>NA</td>\n",
       "      <td>3800.0</td>\n",
       "      <td>0.0</td>\n",
       "      <td>Delayed</td>\n",
       "      <td>1980.0</td>\n",
       "    </tr>\n",
       "  </tbody>\n",
       "</table>\n",
       "<p>152640 rows × 23 columns</p>\n",
       "</div>"
      ],
      "text/plain": [
       "       flightnumber scheduledoffblocktime traffictypecode airlinecode_iata  \\\n",
       "0        FZ 547       2022-04-29 03:30:00              PS               FZ   \n",
       "1        EK 925       2021-09-11 21:55:00              PS               EK   \n",
       "2        XY 206       2022-06-06 16:15:00              PS               XY   \n",
       "3        EK 586       2021-12-12 10:30:00              PS               EK   \n",
       "4        EK 532       2021-01-30 21:45:00              PS               EK   \n",
       "...             ...                   ...             ...              ...   \n",
       "152635   RA 230       2022-01-01 04:25:00              PS               RA   \n",
       "152636   FZ 8015      2021-11-22 10:50:00              PS               FZ   \n",
       "152637   EK 857       2022-01-31 14:10:00              PS               EK   \n",
       "152638   FZ 017       2022-03-09 15:45:00              PS               FZ   \n",
       "152639   PK 284       2022-01-06 03:30:00              PS               PK   \n",
       "\n",
       "       destination_iata aircraft_iata isconnecting aircraftparkingposition  \\\n",
       "0                   CMB           7S8            0                   E10L    \n",
       "1                   CAI           77W            0                   F21     \n",
       "2                   RUH           32N            0                   C55R    \n",
       "3                   DAC           77W            0                   B14     \n",
       "4                   COK           77W            0                   B26L    \n",
       "...                 ...           ...          ...                     ...   \n",
       "152635              KTM           332            0                   E03     \n",
       "152636              DMM           7M8            0                   C30     \n",
       "152637              KWI           77W            0                   B18L    \n",
       "152638              DOH           7M8            0                   C21     \n",
       "152639              PEW           320            0                   C54R    \n",
       "\n",
       "       publicgatenumber   tmpf  dwpf   relh   drct  sknt  p01i   alti  vsby  \\\n",
       "0                 F6      86.0  57.2  37.62  120.0   5.0   0.0  29.77  4.97   \n",
       "1                 B19     98.6  71.6  42.04   60.0   3.0   0.0  29.50  6.21   \n",
       "2                 D11    100.4  64.4  31.07  330.0  14.0   0.0  29.53  6.21   \n",
       "3                 B6      75.2  60.8  60.90  240.0   3.0   0.0  30.12  4.97   \n",
       "4                 B32     73.4  55.4  53.29  360.0   2.0   0.0  30.03  6.21   \n",
       "...                 ...    ...   ...    ...    ...   ...   ...    ...   ...   \n",
       "152635            F5      69.8  62.6  77.90  100.0  10.0   0.0  30.00  4.97   \n",
       "152636            F8      86.0  46.4  25.26   90.0   5.0   0.0  30.03  6.21   \n",
       "152637            B14     77.0  51.8  41.42  320.0   4.0   0.0  29.97  6.21   \n",
       "152638            F8      87.8  59.0  37.90  330.0   9.0   0.0  29.83  6.21   \n",
       "152639            D9      69.8  50.0  49.37  280.0  15.0   0.0  29.94  6.21   \n",
       "\n",
       "       skyc1 skyc2   skyl1   skyl2 finalflightstatus  delay_in_secs  \n",
       "0        NSC    NA     0.0     0.0           On-Time          387.0  \n",
       "1         NA    NA     0.0     0.0           Delayed         1255.0  \n",
       "2         NA    NA     0.0     0.0           Delayed          937.0  \n",
       "3        FEW    NA  4500.0     0.0           Delayed         1067.0  \n",
       "4         NA    NA     0.0     0.0           On-Time            0.0  \n",
       "...      ...   ...     ...     ...               ...            ...  \n",
       "152635   BKN   FEW  4500.0  5000.0           Delayed         1008.0  \n",
       "152636    NA    NA     0.0     0.0           On-Time           30.0  \n",
       "152637    NA    NA     0.0     0.0           On-Time            0.0  \n",
       "152638    NA    NA     0.0     0.0           Delayed         1082.0  \n",
       "152639   FEW    NA  3800.0     0.0           Delayed         1980.0  \n",
       "\n",
       "[152640 rows x 23 columns]"
      ]
     },
     "execution_count": 293,
     "metadata": {},
     "output_type": "execute_result"
    }
   ],
   "source": [
    "flight_data_train"
   ]
  },
  {
   "cell_type": "markdown",
   "metadata": {},
   "source": [
    "Encoding"
   ]
  },
  {
   "cell_type": "code",
   "execution_count": 294,
   "metadata": {},
   "outputs": [
    {
     "data": {
      "text/plain": [
       "2128"
      ]
     },
     "execution_count": 294,
     "metadata": {},
     "output_type": "execute_result"
    }
   ],
   "source": [
    "len(flight_data_train['flightnumber'].unique())"
   ]
  },
  {
   "cell_type": "code",
   "execution_count": null,
   "metadata": {},
   "outputs": [],
   "source": [
    "flight_data_train['scheduledoffblocktime'] = pd.to_datetime(flight_data_train['scheduledoffblocktime'])\n",
    "flight_data_test['scheduledoffblocktime'] = pd.to_datetime(flight_data_test['scheduledoffblocktime'])"
   ]
  },
  {
   "cell_type": "code",
   "execution_count": 296,
   "metadata": {},
   "outputs": [],
   "source": [
    "departdatetime = flight_data_train['scheduledoffblocktime'].dt\n",
    "\n",
    "flight_data_train['depart_day'] = departdatetime.day\n",
    "flight_data_train['depart_month'] = departdatetime.month\n",
    "# flight_data_train['depart_year'] = departdatetime.year\n",
    "\n",
    "flight_data_train['depart_minute'] = departdatetime.hour * 60 + departdatetime.minute\n",
    "# Test\n",
    "departdatetime = flight_data_test['scheduledoffblocktime'].dt\n",
    "\n",
    "flight_data_test['depart_day'] = departdatetime.day\n",
    "flight_data_test['depart_month'] = departdatetime.month\n",
    "# flight_data_test['depart_year'] = departdatetime.year\n",
    "\n",
    "flight_data_test['depart_minute'] = departdatetime.hour * 60 + departdatetime.minute\n",
    "\n",
    "flight_data_train.drop(columns=['scheduledoffblocktime'], axis=1, inplace=True)\n",
    "flight_data_test.drop(columns=['scheduledoffblocktime'], axis=1, inplace=True)"
   ]
  },
  {
   "cell_type": "code",
   "execution_count": 297,
   "metadata": {},
   "outputs": [
    {
     "data": {
      "text/html": [
       "<div>\n",
       "<style scoped>\n",
       "    .dataframe tbody tr th:only-of-type {\n",
       "        vertical-align: middle;\n",
       "    }\n",
       "\n",
       "    .dataframe tbody tr th {\n",
       "        vertical-align: top;\n",
       "    }\n",
       "\n",
       "    .dataframe thead th {\n",
       "        text-align: right;\n",
       "    }\n",
       "</style>\n",
       "<table border=\"1\" class=\"dataframe\">\n",
       "  <thead>\n",
       "    <tr style=\"text-align: right;\">\n",
       "      <th></th>\n",
       "      <th>flightnumber</th>\n",
       "      <th>traffictypecode</th>\n",
       "      <th>airlinecode_iata</th>\n",
       "      <th>destination_iata</th>\n",
       "      <th>aircraft_iata</th>\n",
       "      <th>isconnecting</th>\n",
       "      <th>aircraftparkingposition</th>\n",
       "      <th>publicgatenumber</th>\n",
       "      <th>tmpf</th>\n",
       "      <th>dwpf</th>\n",
       "      <th>relh</th>\n",
       "      <th>drct</th>\n",
       "      <th>sknt</th>\n",
       "      <th>p01i</th>\n",
       "      <th>alti</th>\n",
       "      <th>vsby</th>\n",
       "      <th>skyc1</th>\n",
       "      <th>skyc2</th>\n",
       "      <th>skyl1</th>\n",
       "      <th>skyl2</th>\n",
       "      <th>finalflightstatus</th>\n",
       "      <th>delay_in_secs</th>\n",
       "      <th>depart_day</th>\n",
       "      <th>depart_month</th>\n",
       "      <th>depart_minute</th>\n",
       "    </tr>\n",
       "  </thead>\n",
       "  <tbody>\n",
       "    <tr>\n",
       "      <th>0</th>\n",
       "      <td>FZ 547</td>\n",
       "      <td>PS</td>\n",
       "      <td>FZ</td>\n",
       "      <td>CMB</td>\n",
       "      <td>7S8</td>\n",
       "      <td>0</td>\n",
       "      <td>E10L</td>\n",
       "      <td>F6</td>\n",
       "      <td>86.0</td>\n",
       "      <td>57.2</td>\n",
       "      <td>37.62</td>\n",
       "      <td>120.0</td>\n",
       "      <td>5.0</td>\n",
       "      <td>0.0</td>\n",
       "      <td>29.77</td>\n",
       "      <td>4.97</td>\n",
       "      <td>NSC</td>\n",
       "      <td>NA</td>\n",
       "      <td>0.0</td>\n",
       "      <td>0.0</td>\n",
       "      <td>On-Time</td>\n",
       "      <td>387.0</td>\n",
       "      <td>29</td>\n",
       "      <td>4</td>\n",
       "      <td>210</td>\n",
       "    </tr>\n",
       "    <tr>\n",
       "      <th>1</th>\n",
       "      <td>EK 925</td>\n",
       "      <td>PS</td>\n",
       "      <td>EK</td>\n",
       "      <td>CAI</td>\n",
       "      <td>77W</td>\n",
       "      <td>0</td>\n",
       "      <td>F21</td>\n",
       "      <td>B19</td>\n",
       "      <td>98.6</td>\n",
       "      <td>71.6</td>\n",
       "      <td>42.04</td>\n",
       "      <td>60.0</td>\n",
       "      <td>3.0</td>\n",
       "      <td>0.0</td>\n",
       "      <td>29.50</td>\n",
       "      <td>6.21</td>\n",
       "      <td>NA</td>\n",
       "      <td>NA</td>\n",
       "      <td>0.0</td>\n",
       "      <td>0.0</td>\n",
       "      <td>Delayed</td>\n",
       "      <td>1255.0</td>\n",
       "      <td>11</td>\n",
       "      <td>9</td>\n",
       "      <td>1315</td>\n",
       "    </tr>\n",
       "    <tr>\n",
       "      <th>2</th>\n",
       "      <td>XY 206</td>\n",
       "      <td>PS</td>\n",
       "      <td>XY</td>\n",
       "      <td>RUH</td>\n",
       "      <td>32N</td>\n",
       "      <td>0</td>\n",
       "      <td>C55R</td>\n",
       "      <td>D11</td>\n",
       "      <td>100.4</td>\n",
       "      <td>64.4</td>\n",
       "      <td>31.07</td>\n",
       "      <td>330.0</td>\n",
       "      <td>14.0</td>\n",
       "      <td>0.0</td>\n",
       "      <td>29.53</td>\n",
       "      <td>6.21</td>\n",
       "      <td>NA</td>\n",
       "      <td>NA</td>\n",
       "      <td>0.0</td>\n",
       "      <td>0.0</td>\n",
       "      <td>Delayed</td>\n",
       "      <td>937.0</td>\n",
       "      <td>6</td>\n",
       "      <td>6</td>\n",
       "      <td>975</td>\n",
       "    </tr>\n",
       "    <tr>\n",
       "      <th>3</th>\n",
       "      <td>EK 586</td>\n",
       "      <td>PS</td>\n",
       "      <td>EK</td>\n",
       "      <td>DAC</td>\n",
       "      <td>77W</td>\n",
       "      <td>0</td>\n",
       "      <td>B14</td>\n",
       "      <td>B6</td>\n",
       "      <td>75.2</td>\n",
       "      <td>60.8</td>\n",
       "      <td>60.90</td>\n",
       "      <td>240.0</td>\n",
       "      <td>3.0</td>\n",
       "      <td>0.0</td>\n",
       "      <td>30.12</td>\n",
       "      <td>4.97</td>\n",
       "      <td>FEW</td>\n",
       "      <td>NA</td>\n",
       "      <td>4500.0</td>\n",
       "      <td>0.0</td>\n",
       "      <td>Delayed</td>\n",
       "      <td>1067.0</td>\n",
       "      <td>12</td>\n",
       "      <td>12</td>\n",
       "      <td>630</td>\n",
       "    </tr>\n",
       "    <tr>\n",
       "      <th>4</th>\n",
       "      <td>EK 532</td>\n",
       "      <td>PS</td>\n",
       "      <td>EK</td>\n",
       "      <td>COK</td>\n",
       "      <td>77W</td>\n",
       "      <td>0</td>\n",
       "      <td>B26L</td>\n",
       "      <td>B32</td>\n",
       "      <td>73.4</td>\n",
       "      <td>55.4</td>\n",
       "      <td>53.29</td>\n",
       "      <td>360.0</td>\n",
       "      <td>2.0</td>\n",
       "      <td>0.0</td>\n",
       "      <td>30.03</td>\n",
       "      <td>6.21</td>\n",
       "      <td>NA</td>\n",
       "      <td>NA</td>\n",
       "      <td>0.0</td>\n",
       "      <td>0.0</td>\n",
       "      <td>On-Time</td>\n",
       "      <td>0.0</td>\n",
       "      <td>30</td>\n",
       "      <td>1</td>\n",
       "      <td>1305</td>\n",
       "    </tr>\n",
       "    <tr>\n",
       "      <th>...</th>\n",
       "      <td>...</td>\n",
       "      <td>...</td>\n",
       "      <td>...</td>\n",
       "      <td>...</td>\n",
       "      <td>...</td>\n",
       "      <td>...</td>\n",
       "      <td>...</td>\n",
       "      <td>...</td>\n",
       "      <td>...</td>\n",
       "      <td>...</td>\n",
       "      <td>...</td>\n",
       "      <td>...</td>\n",
       "      <td>...</td>\n",
       "      <td>...</td>\n",
       "      <td>...</td>\n",
       "      <td>...</td>\n",
       "      <td>...</td>\n",
       "      <td>...</td>\n",
       "      <td>...</td>\n",
       "      <td>...</td>\n",
       "      <td>...</td>\n",
       "      <td>...</td>\n",
       "      <td>...</td>\n",
       "      <td>...</td>\n",
       "      <td>...</td>\n",
       "    </tr>\n",
       "    <tr>\n",
       "      <th>152635</th>\n",
       "      <td>RA 230</td>\n",
       "      <td>PS</td>\n",
       "      <td>RA</td>\n",
       "      <td>KTM</td>\n",
       "      <td>332</td>\n",
       "      <td>0</td>\n",
       "      <td>E03</td>\n",
       "      <td>F5</td>\n",
       "      <td>69.8</td>\n",
       "      <td>62.6</td>\n",
       "      <td>77.90</td>\n",
       "      <td>100.0</td>\n",
       "      <td>10.0</td>\n",
       "      <td>0.0</td>\n",
       "      <td>30.00</td>\n",
       "      <td>4.97</td>\n",
       "      <td>BKN</td>\n",
       "      <td>FEW</td>\n",
       "      <td>4500.0</td>\n",
       "      <td>5000.0</td>\n",
       "      <td>Delayed</td>\n",
       "      <td>1008.0</td>\n",
       "      <td>1</td>\n",
       "      <td>1</td>\n",
       "      <td>265</td>\n",
       "    </tr>\n",
       "    <tr>\n",
       "      <th>152636</th>\n",
       "      <td>FZ 8015</td>\n",
       "      <td>PS</td>\n",
       "      <td>FZ</td>\n",
       "      <td>DMM</td>\n",
       "      <td>7M8</td>\n",
       "      <td>0</td>\n",
       "      <td>C30</td>\n",
       "      <td>F8</td>\n",
       "      <td>86.0</td>\n",
       "      <td>46.4</td>\n",
       "      <td>25.26</td>\n",
       "      <td>90.0</td>\n",
       "      <td>5.0</td>\n",
       "      <td>0.0</td>\n",
       "      <td>30.03</td>\n",
       "      <td>6.21</td>\n",
       "      <td>NA</td>\n",
       "      <td>NA</td>\n",
       "      <td>0.0</td>\n",
       "      <td>0.0</td>\n",
       "      <td>On-Time</td>\n",
       "      <td>30.0</td>\n",
       "      <td>22</td>\n",
       "      <td>11</td>\n",
       "      <td>650</td>\n",
       "    </tr>\n",
       "    <tr>\n",
       "      <th>152637</th>\n",
       "      <td>EK 857</td>\n",
       "      <td>PS</td>\n",
       "      <td>EK</td>\n",
       "      <td>KWI</td>\n",
       "      <td>77W</td>\n",
       "      <td>0</td>\n",
       "      <td>B18L</td>\n",
       "      <td>B14</td>\n",
       "      <td>77.0</td>\n",
       "      <td>51.8</td>\n",
       "      <td>41.42</td>\n",
       "      <td>320.0</td>\n",
       "      <td>4.0</td>\n",
       "      <td>0.0</td>\n",
       "      <td>29.97</td>\n",
       "      <td>6.21</td>\n",
       "      <td>NA</td>\n",
       "      <td>NA</td>\n",
       "      <td>0.0</td>\n",
       "      <td>0.0</td>\n",
       "      <td>On-Time</td>\n",
       "      <td>0.0</td>\n",
       "      <td>31</td>\n",
       "      <td>1</td>\n",
       "      <td>850</td>\n",
       "    </tr>\n",
       "    <tr>\n",
       "      <th>152638</th>\n",
       "      <td>FZ 017</td>\n",
       "      <td>PS</td>\n",
       "      <td>FZ</td>\n",
       "      <td>DOH</td>\n",
       "      <td>7M8</td>\n",
       "      <td>0</td>\n",
       "      <td>C21</td>\n",
       "      <td>F8</td>\n",
       "      <td>87.8</td>\n",
       "      <td>59.0</td>\n",
       "      <td>37.90</td>\n",
       "      <td>330.0</td>\n",
       "      <td>9.0</td>\n",
       "      <td>0.0</td>\n",
       "      <td>29.83</td>\n",
       "      <td>6.21</td>\n",
       "      <td>NA</td>\n",
       "      <td>NA</td>\n",
       "      <td>0.0</td>\n",
       "      <td>0.0</td>\n",
       "      <td>Delayed</td>\n",
       "      <td>1082.0</td>\n",
       "      <td>9</td>\n",
       "      <td>3</td>\n",
       "      <td>945</td>\n",
       "    </tr>\n",
       "    <tr>\n",
       "      <th>152639</th>\n",
       "      <td>PK 284</td>\n",
       "      <td>PS</td>\n",
       "      <td>PK</td>\n",
       "      <td>PEW</td>\n",
       "      <td>320</td>\n",
       "      <td>0</td>\n",
       "      <td>C54R</td>\n",
       "      <td>D9</td>\n",
       "      <td>69.8</td>\n",
       "      <td>50.0</td>\n",
       "      <td>49.37</td>\n",
       "      <td>280.0</td>\n",
       "      <td>15.0</td>\n",
       "      <td>0.0</td>\n",
       "      <td>29.94</td>\n",
       "      <td>6.21</td>\n",
       "      <td>FEW</td>\n",
       "      <td>NA</td>\n",
       "      <td>3800.0</td>\n",
       "      <td>0.0</td>\n",
       "      <td>Delayed</td>\n",
       "      <td>1980.0</td>\n",
       "      <td>6</td>\n",
       "      <td>1</td>\n",
       "      <td>210</td>\n",
       "    </tr>\n",
       "  </tbody>\n",
       "</table>\n",
       "<p>152640 rows × 25 columns</p>\n",
       "</div>"
      ],
      "text/plain": [
       "       flightnumber traffictypecode airlinecode_iata destination_iata  \\\n",
       "0        FZ 547                  PS               FZ              CMB   \n",
       "1        EK 925                  PS               EK              CAI   \n",
       "2        XY 206                  PS               XY              RUH   \n",
       "3        EK 586                  PS               EK              DAC   \n",
       "4        EK 532                  PS               EK              COK   \n",
       "...             ...             ...              ...              ...   \n",
       "152635   RA 230                  PS               RA              KTM   \n",
       "152636   FZ 8015                 PS               FZ              DMM   \n",
       "152637   EK 857                  PS               EK              KWI   \n",
       "152638   FZ 017                  PS               FZ              DOH   \n",
       "152639   PK 284                  PS               PK              PEW   \n",
       "\n",
       "       aircraft_iata isconnecting aircraftparkingposition publicgatenumber  \\\n",
       "0                7S8            0                   E10L             F6      \n",
       "1                77W            0                   F21              B19     \n",
       "2                32N            0                   C55R             D11     \n",
       "3                77W            0                   B14              B6      \n",
       "4                77W            0                   B26L             B32     \n",
       "...              ...          ...                     ...              ...   \n",
       "152635           332            0                   E03              F5      \n",
       "152636           7M8            0                   C30              F8      \n",
       "152637           77W            0                   B18L             B14     \n",
       "152638           7M8            0                   C21              F8      \n",
       "152639           320            0                   C54R             D9      \n",
       "\n",
       "         tmpf  dwpf   relh   drct  sknt  p01i   alti  vsby skyc1 skyc2  \\\n",
       "0        86.0  57.2  37.62  120.0   5.0   0.0  29.77  4.97   NSC    NA   \n",
       "1        98.6  71.6  42.04   60.0   3.0   0.0  29.50  6.21    NA    NA   \n",
       "2       100.4  64.4  31.07  330.0  14.0   0.0  29.53  6.21    NA    NA   \n",
       "3        75.2  60.8  60.90  240.0   3.0   0.0  30.12  4.97   FEW    NA   \n",
       "4        73.4  55.4  53.29  360.0   2.0   0.0  30.03  6.21    NA    NA   \n",
       "...       ...   ...    ...    ...   ...   ...    ...   ...   ...   ...   \n",
       "152635   69.8  62.6  77.90  100.0  10.0   0.0  30.00  4.97   BKN   FEW   \n",
       "152636   86.0  46.4  25.26   90.0   5.0   0.0  30.03  6.21    NA    NA   \n",
       "152637   77.0  51.8  41.42  320.0   4.0   0.0  29.97  6.21    NA    NA   \n",
       "152638   87.8  59.0  37.90  330.0   9.0   0.0  29.83  6.21    NA    NA   \n",
       "152639   69.8  50.0  49.37  280.0  15.0   0.0  29.94  6.21   FEW    NA   \n",
       "\n",
       "         skyl1   skyl2 finalflightstatus  delay_in_secs  depart_day  \\\n",
       "0          0.0     0.0           On-Time          387.0          29   \n",
       "1          0.0     0.0           Delayed         1255.0          11   \n",
       "2          0.0     0.0           Delayed          937.0           6   \n",
       "3       4500.0     0.0           Delayed         1067.0          12   \n",
       "4          0.0     0.0           On-Time            0.0          30   \n",
       "...        ...     ...               ...            ...         ...   \n",
       "152635  4500.0  5000.0           Delayed         1008.0           1   \n",
       "152636     0.0     0.0           On-Time           30.0          22   \n",
       "152637     0.0     0.0           On-Time            0.0          31   \n",
       "152638     0.0     0.0           Delayed         1082.0           9   \n",
       "152639  3800.0     0.0           Delayed         1980.0           6   \n",
       "\n",
       "        depart_month  depart_minute  \n",
       "0                  4            210  \n",
       "1                  9           1315  \n",
       "2                  6            975  \n",
       "3                 12            630  \n",
       "4                  1           1305  \n",
       "...              ...            ...  \n",
       "152635             1            265  \n",
       "152636            11            650  \n",
       "152637             1            850  \n",
       "152638             3            945  \n",
       "152639             1            210  \n",
       "\n",
       "[152640 rows x 25 columns]"
      ]
     },
     "execution_count": 297,
     "metadata": {},
     "output_type": "execute_result"
    }
   ],
   "source": [
    "flight_data_train"
   ]
  },
  {
   "cell_type": "code",
   "execution_count": 298,
   "metadata": {},
   "outputs": [],
   "source": [
    "X_train = flight_data_train.drop(columns=['finalflightstatus', 'delay_in_secs'], axis=1)\n",
    "X_test = flight_data_test.drop(columns=['finalflightstatus', 'delay_in_secs'], axis=1)\n",
    "\n",
    "y_train_cls = flight_data_train['finalflightstatus']\n",
    "y_test_cls = flight_data_test['finalflightstatus']\n",
    "y_train_reg = flight_data_train['delay_in_secs']\n",
    "y_test_reg = flight_data_test['delay_in_secs']"
   ]
  },
  {
   "cell_type": "code",
   "execution_count": 299,
   "metadata": {},
   "outputs": [
    {
     "data": {
      "text/html": [
       "<div>\n",
       "<style scoped>\n",
       "    .dataframe tbody tr th:only-of-type {\n",
       "        vertical-align: middle;\n",
       "    }\n",
       "\n",
       "    .dataframe tbody tr th {\n",
       "        vertical-align: top;\n",
       "    }\n",
       "\n",
       "    .dataframe thead th {\n",
       "        text-align: right;\n",
       "    }\n",
       "</style>\n",
       "<table border=\"1\" class=\"dataframe\">\n",
       "  <thead>\n",
       "    <tr style=\"text-align: right;\">\n",
       "      <th></th>\n",
       "      <th>flightnumber</th>\n",
       "      <th>traffictypecode</th>\n",
       "      <th>airlinecode_iata</th>\n",
       "      <th>destination_iata</th>\n",
       "      <th>aircraft_iata</th>\n",
       "      <th>isconnecting</th>\n",
       "      <th>aircraftparkingposition</th>\n",
       "      <th>publicgatenumber</th>\n",
       "      <th>tmpf</th>\n",
       "      <th>dwpf</th>\n",
       "      <th>relh</th>\n",
       "      <th>drct</th>\n",
       "      <th>sknt</th>\n",
       "      <th>p01i</th>\n",
       "      <th>alti</th>\n",
       "      <th>vsby</th>\n",
       "      <th>skyc1</th>\n",
       "      <th>skyc2</th>\n",
       "      <th>skyl1</th>\n",
       "      <th>skyl2</th>\n",
       "      <th>depart_day</th>\n",
       "      <th>depart_month</th>\n",
       "      <th>depart_minute</th>\n",
       "    </tr>\n",
       "  </thead>\n",
       "  <tbody>\n",
       "    <tr>\n",
       "      <th>0</th>\n",
       "      <td>FZ 547</td>\n",
       "      <td>PS</td>\n",
       "      <td>FZ</td>\n",
       "      <td>CMB</td>\n",
       "      <td>7S8</td>\n",
       "      <td>0</td>\n",
       "      <td>E10L</td>\n",
       "      <td>F6</td>\n",
       "      <td>86.0</td>\n",
       "      <td>57.2</td>\n",
       "      <td>37.62</td>\n",
       "      <td>120.0</td>\n",
       "      <td>5.0</td>\n",
       "      <td>0.0</td>\n",
       "      <td>29.77</td>\n",
       "      <td>4.97</td>\n",
       "      <td>NSC</td>\n",
       "      <td>NA</td>\n",
       "      <td>0.0</td>\n",
       "      <td>0.0</td>\n",
       "      <td>29</td>\n",
       "      <td>4</td>\n",
       "      <td>210</td>\n",
       "    </tr>\n",
       "    <tr>\n",
       "      <th>1</th>\n",
       "      <td>EK 925</td>\n",
       "      <td>PS</td>\n",
       "      <td>EK</td>\n",
       "      <td>CAI</td>\n",
       "      <td>77W</td>\n",
       "      <td>0</td>\n",
       "      <td>F21</td>\n",
       "      <td>B19</td>\n",
       "      <td>98.6</td>\n",
       "      <td>71.6</td>\n",
       "      <td>42.04</td>\n",
       "      <td>60.0</td>\n",
       "      <td>3.0</td>\n",
       "      <td>0.0</td>\n",
       "      <td>29.50</td>\n",
       "      <td>6.21</td>\n",
       "      <td>NA</td>\n",
       "      <td>NA</td>\n",
       "      <td>0.0</td>\n",
       "      <td>0.0</td>\n",
       "      <td>11</td>\n",
       "      <td>9</td>\n",
       "      <td>1315</td>\n",
       "    </tr>\n",
       "    <tr>\n",
       "      <th>2</th>\n",
       "      <td>XY 206</td>\n",
       "      <td>PS</td>\n",
       "      <td>XY</td>\n",
       "      <td>RUH</td>\n",
       "      <td>32N</td>\n",
       "      <td>0</td>\n",
       "      <td>C55R</td>\n",
       "      <td>D11</td>\n",
       "      <td>100.4</td>\n",
       "      <td>64.4</td>\n",
       "      <td>31.07</td>\n",
       "      <td>330.0</td>\n",
       "      <td>14.0</td>\n",
       "      <td>0.0</td>\n",
       "      <td>29.53</td>\n",
       "      <td>6.21</td>\n",
       "      <td>NA</td>\n",
       "      <td>NA</td>\n",
       "      <td>0.0</td>\n",
       "      <td>0.0</td>\n",
       "      <td>6</td>\n",
       "      <td>6</td>\n",
       "      <td>975</td>\n",
       "    </tr>\n",
       "    <tr>\n",
       "      <th>3</th>\n",
       "      <td>EK 586</td>\n",
       "      <td>PS</td>\n",
       "      <td>EK</td>\n",
       "      <td>DAC</td>\n",
       "      <td>77W</td>\n",
       "      <td>0</td>\n",
       "      <td>B14</td>\n",
       "      <td>B6</td>\n",
       "      <td>75.2</td>\n",
       "      <td>60.8</td>\n",
       "      <td>60.90</td>\n",
       "      <td>240.0</td>\n",
       "      <td>3.0</td>\n",
       "      <td>0.0</td>\n",
       "      <td>30.12</td>\n",
       "      <td>4.97</td>\n",
       "      <td>FEW</td>\n",
       "      <td>NA</td>\n",
       "      <td>4500.0</td>\n",
       "      <td>0.0</td>\n",
       "      <td>12</td>\n",
       "      <td>12</td>\n",
       "      <td>630</td>\n",
       "    </tr>\n",
       "    <tr>\n",
       "      <th>4</th>\n",
       "      <td>EK 532</td>\n",
       "      <td>PS</td>\n",
       "      <td>EK</td>\n",
       "      <td>COK</td>\n",
       "      <td>77W</td>\n",
       "      <td>0</td>\n",
       "      <td>B26L</td>\n",
       "      <td>B32</td>\n",
       "      <td>73.4</td>\n",
       "      <td>55.4</td>\n",
       "      <td>53.29</td>\n",
       "      <td>360.0</td>\n",
       "      <td>2.0</td>\n",
       "      <td>0.0</td>\n",
       "      <td>30.03</td>\n",
       "      <td>6.21</td>\n",
       "      <td>NA</td>\n",
       "      <td>NA</td>\n",
       "      <td>0.0</td>\n",
       "      <td>0.0</td>\n",
       "      <td>30</td>\n",
       "      <td>1</td>\n",
       "      <td>1305</td>\n",
       "    </tr>\n",
       "    <tr>\n",
       "      <th>...</th>\n",
       "      <td>...</td>\n",
       "      <td>...</td>\n",
       "      <td>...</td>\n",
       "      <td>...</td>\n",
       "      <td>...</td>\n",
       "      <td>...</td>\n",
       "      <td>...</td>\n",
       "      <td>...</td>\n",
       "      <td>...</td>\n",
       "      <td>...</td>\n",
       "      <td>...</td>\n",
       "      <td>...</td>\n",
       "      <td>...</td>\n",
       "      <td>...</td>\n",
       "      <td>...</td>\n",
       "      <td>...</td>\n",
       "      <td>...</td>\n",
       "      <td>...</td>\n",
       "      <td>...</td>\n",
       "      <td>...</td>\n",
       "      <td>...</td>\n",
       "      <td>...</td>\n",
       "      <td>...</td>\n",
       "    </tr>\n",
       "    <tr>\n",
       "      <th>152635</th>\n",
       "      <td>RA 230</td>\n",
       "      <td>PS</td>\n",
       "      <td>RA</td>\n",
       "      <td>KTM</td>\n",
       "      <td>332</td>\n",
       "      <td>0</td>\n",
       "      <td>E03</td>\n",
       "      <td>F5</td>\n",
       "      <td>69.8</td>\n",
       "      <td>62.6</td>\n",
       "      <td>77.90</td>\n",
       "      <td>100.0</td>\n",
       "      <td>10.0</td>\n",
       "      <td>0.0</td>\n",
       "      <td>30.00</td>\n",
       "      <td>4.97</td>\n",
       "      <td>BKN</td>\n",
       "      <td>FEW</td>\n",
       "      <td>4500.0</td>\n",
       "      <td>5000.0</td>\n",
       "      <td>1</td>\n",
       "      <td>1</td>\n",
       "      <td>265</td>\n",
       "    </tr>\n",
       "    <tr>\n",
       "      <th>152636</th>\n",
       "      <td>FZ 8015</td>\n",
       "      <td>PS</td>\n",
       "      <td>FZ</td>\n",
       "      <td>DMM</td>\n",
       "      <td>7M8</td>\n",
       "      <td>0</td>\n",
       "      <td>C30</td>\n",
       "      <td>F8</td>\n",
       "      <td>86.0</td>\n",
       "      <td>46.4</td>\n",
       "      <td>25.26</td>\n",
       "      <td>90.0</td>\n",
       "      <td>5.0</td>\n",
       "      <td>0.0</td>\n",
       "      <td>30.03</td>\n",
       "      <td>6.21</td>\n",
       "      <td>NA</td>\n",
       "      <td>NA</td>\n",
       "      <td>0.0</td>\n",
       "      <td>0.0</td>\n",
       "      <td>22</td>\n",
       "      <td>11</td>\n",
       "      <td>650</td>\n",
       "    </tr>\n",
       "    <tr>\n",
       "      <th>152637</th>\n",
       "      <td>EK 857</td>\n",
       "      <td>PS</td>\n",
       "      <td>EK</td>\n",
       "      <td>KWI</td>\n",
       "      <td>77W</td>\n",
       "      <td>0</td>\n",
       "      <td>B18L</td>\n",
       "      <td>B14</td>\n",
       "      <td>77.0</td>\n",
       "      <td>51.8</td>\n",
       "      <td>41.42</td>\n",
       "      <td>320.0</td>\n",
       "      <td>4.0</td>\n",
       "      <td>0.0</td>\n",
       "      <td>29.97</td>\n",
       "      <td>6.21</td>\n",
       "      <td>NA</td>\n",
       "      <td>NA</td>\n",
       "      <td>0.0</td>\n",
       "      <td>0.0</td>\n",
       "      <td>31</td>\n",
       "      <td>1</td>\n",
       "      <td>850</td>\n",
       "    </tr>\n",
       "    <tr>\n",
       "      <th>152638</th>\n",
       "      <td>FZ 017</td>\n",
       "      <td>PS</td>\n",
       "      <td>FZ</td>\n",
       "      <td>DOH</td>\n",
       "      <td>7M8</td>\n",
       "      <td>0</td>\n",
       "      <td>C21</td>\n",
       "      <td>F8</td>\n",
       "      <td>87.8</td>\n",
       "      <td>59.0</td>\n",
       "      <td>37.90</td>\n",
       "      <td>330.0</td>\n",
       "      <td>9.0</td>\n",
       "      <td>0.0</td>\n",
       "      <td>29.83</td>\n",
       "      <td>6.21</td>\n",
       "      <td>NA</td>\n",
       "      <td>NA</td>\n",
       "      <td>0.0</td>\n",
       "      <td>0.0</td>\n",
       "      <td>9</td>\n",
       "      <td>3</td>\n",
       "      <td>945</td>\n",
       "    </tr>\n",
       "    <tr>\n",
       "      <th>152639</th>\n",
       "      <td>PK 284</td>\n",
       "      <td>PS</td>\n",
       "      <td>PK</td>\n",
       "      <td>PEW</td>\n",
       "      <td>320</td>\n",
       "      <td>0</td>\n",
       "      <td>C54R</td>\n",
       "      <td>D9</td>\n",
       "      <td>69.8</td>\n",
       "      <td>50.0</td>\n",
       "      <td>49.37</td>\n",
       "      <td>280.0</td>\n",
       "      <td>15.0</td>\n",
       "      <td>0.0</td>\n",
       "      <td>29.94</td>\n",
       "      <td>6.21</td>\n",
       "      <td>FEW</td>\n",
       "      <td>NA</td>\n",
       "      <td>3800.0</td>\n",
       "      <td>0.0</td>\n",
       "      <td>6</td>\n",
       "      <td>1</td>\n",
       "      <td>210</td>\n",
       "    </tr>\n",
       "  </tbody>\n",
       "</table>\n",
       "<p>152640 rows × 23 columns</p>\n",
       "</div>"
      ],
      "text/plain": [
       "       flightnumber traffictypecode airlinecode_iata destination_iata  \\\n",
       "0        FZ 547                  PS               FZ              CMB   \n",
       "1        EK 925                  PS               EK              CAI   \n",
       "2        XY 206                  PS               XY              RUH   \n",
       "3        EK 586                  PS               EK              DAC   \n",
       "4        EK 532                  PS               EK              COK   \n",
       "...             ...             ...              ...              ...   \n",
       "152635   RA 230                  PS               RA              KTM   \n",
       "152636   FZ 8015                 PS               FZ              DMM   \n",
       "152637   EK 857                  PS               EK              KWI   \n",
       "152638   FZ 017                  PS               FZ              DOH   \n",
       "152639   PK 284                  PS               PK              PEW   \n",
       "\n",
       "       aircraft_iata isconnecting aircraftparkingposition publicgatenumber  \\\n",
       "0                7S8            0                   E10L             F6      \n",
       "1                77W            0                   F21              B19     \n",
       "2                32N            0                   C55R             D11     \n",
       "3                77W            0                   B14              B6      \n",
       "4                77W            0                   B26L             B32     \n",
       "...              ...          ...                     ...              ...   \n",
       "152635           332            0                   E03              F5      \n",
       "152636           7M8            0                   C30              F8      \n",
       "152637           77W            0                   B18L             B14     \n",
       "152638           7M8            0                   C21              F8      \n",
       "152639           320            0                   C54R             D9      \n",
       "\n",
       "         tmpf  dwpf   relh   drct  sknt  p01i   alti  vsby skyc1 skyc2  \\\n",
       "0        86.0  57.2  37.62  120.0   5.0   0.0  29.77  4.97   NSC    NA   \n",
       "1        98.6  71.6  42.04   60.0   3.0   0.0  29.50  6.21    NA    NA   \n",
       "2       100.4  64.4  31.07  330.0  14.0   0.0  29.53  6.21    NA    NA   \n",
       "3        75.2  60.8  60.90  240.0   3.0   0.0  30.12  4.97   FEW    NA   \n",
       "4        73.4  55.4  53.29  360.0   2.0   0.0  30.03  6.21    NA    NA   \n",
       "...       ...   ...    ...    ...   ...   ...    ...   ...   ...   ...   \n",
       "152635   69.8  62.6  77.90  100.0  10.0   0.0  30.00  4.97   BKN   FEW   \n",
       "152636   86.0  46.4  25.26   90.0   5.0   0.0  30.03  6.21    NA    NA   \n",
       "152637   77.0  51.8  41.42  320.0   4.0   0.0  29.97  6.21    NA    NA   \n",
       "152638   87.8  59.0  37.90  330.0   9.0   0.0  29.83  6.21    NA    NA   \n",
       "152639   69.8  50.0  49.37  280.0  15.0   0.0  29.94  6.21   FEW    NA   \n",
       "\n",
       "         skyl1   skyl2  depart_day  depart_month  depart_minute  \n",
       "0          0.0     0.0          29             4            210  \n",
       "1          0.0     0.0          11             9           1315  \n",
       "2          0.0     0.0           6             6            975  \n",
       "3       4500.0     0.0          12            12            630  \n",
       "4          0.0     0.0          30             1           1305  \n",
       "...        ...     ...         ...           ...            ...  \n",
       "152635  4500.0  5000.0           1             1            265  \n",
       "152636     0.0     0.0          22            11            650  \n",
       "152637     0.0     0.0          31             1            850  \n",
       "152638     0.0     0.0           9             3            945  \n",
       "152639  3800.0     0.0           6             1            210  \n",
       "\n",
       "[152640 rows x 23 columns]"
      ]
     },
     "execution_count": 299,
     "metadata": {},
     "output_type": "execute_result"
    }
   ],
   "source": [
    "X_train"
   ]
  },
  {
   "cell_type": "code",
   "execution_count": 300,
   "metadata": {},
   "outputs": [],
   "source": [
    "string_columns = X_train.select_dtypes(include=['object', 'string']).columns"
   ]
  },
  {
   "cell_type": "code",
   "execution_count": 310,
   "metadata": {},
   "outputs": [],
   "source": [
    "# from xgboost import XGBClassifier\n",
    "# from hyperopt import fmin, tpe, hp, STATUS_OK, STATUS_FAIL\n",
    "# from hyperopt.mongoexp import MongoTrials\n",
    "# from collections import Counter\n",
    "# # import cupy as cp\n",
    "\n",
    "# space = {\n",
    "#     'xgb_n_estimators': hp.quniform('xgb_n_estimators', 50, 300, 1),\n",
    "#     'xgb_gamma': hp.loguniform('gamma', -13.8155, 2.3026),\n",
    "#     'xgb_max_depth': hp.quniform('xgb_max_depth', 2, 30, 1),\n",
    "#     'xgb_subsample': hp.quniform('xgb_subsample', 0.4, 1, 0.01),\n",
    "#     'xgb_reg_lambda': hp.loguniform('reg_lambda', -6.91, 2.30),\n",
    "#     'xgb_learning_rate': hp.loguniform('xgb_learning_rate', -7, 0),\n",
    "#     'xgb_colsample_bytree': hp.quniform('xgb_colsample_bytree', 0.5, 1, 0.05)\n",
    "# }\n",
    "\n",
    "# def train_and_predict(params):\n",
    "#     try:\n",
    "#         xgb_n_estimators = int(params['xgb_n_estimators'])\n",
    "#         xgb_gamma = params['xgb_gamma']\n",
    "#         xgb_max_depth = int(params['xgb_max_depth'])\n",
    "#         xgb_subsample = params['xgb_subsample']\n",
    "#         xgb_learning_rate = params['xgb_learning_rate']\n",
    "#         xgb_reg_lambda = params['xgb_reg_lambda']\n",
    "#         xgb_colsample_bytree = params['xgb_colsample_bytree']\n",
    "        \n",
    "        \n",
    "#         xgb = XGBClassifier(\n",
    "#             n_estimators=xgb_n_estimators,\n",
    "#             gamma=xgb_gamma,\n",
    "#             max_depth=xgb_max_depth,\n",
    "#             booster='gbtree',\n",
    "#             learning_rate=xgb_learning_rate,\n",
    "#             subsample=xgb_subsample,\n",
    "#             reg_lambda=xgb_reg_lambda,\n",
    "#             colsample_bytree=xgb_colsample_bytree,\n",
    "#             # tree_method=\"hist\", \n",
    "#             # device=\"cuda\",\n",
    "#             random_state=42,\n",
    "#         )\n",
    "#         xgb.fit(X_balanced, y_balanced)\n",
    "\n",
    "#         y_pred_cls = xgb.predict(X_test)\n",
    "#         accuracy = accuracy_score(y_test_cls, y_pred_cls)\n",
    "#         precision = precision_score(y_test_cls, y_pred_cls)\n",
    "#         recall = recall_score(y_test_cls, y_pred_cls)\n",
    "#         f1 = f1_score(y_test_cls, y_pred_cls)\n",
    "        \n",
    "#         print(f\"Accuracy: {accuracy:.4f} Precision: {precision:.4f} Recall: {recall:.4f} F1 Score: {f1:.4f}\")\n",
    "\n",
    "#         return {\n",
    "#             \"loss\": -f1,\n",
    "#             \"status\": STATUS_OK,\n",
    "#             \"accuracy\": accuracy,\n",
    "#             \"precision\": precision,\n",
    "#             \"recall\": recall,\n",
    "#             \"f1-score\": f1,\n",
    "#             \"xgb_n_estimators\": xgb_n_estimators,\n",
    "#             \"xgb_gamma\": xgb_gamma,\n",
    "#             \"xgb_max_depth\": xgb_max_depth,\n",
    "#             \"xgb_subsample\": xgb_subsample,\n",
    "#             \"xgb_learning_rate\": xgb_learning_rate,\n",
    "#             \"xgb_reg_lambda\": xgb_reg_lambda,\n",
    "#             \"xgb_colsample_bytree\": xgb_colsample_bytree,\n",
    "#         }\n",
    "\n",
    "#     except Exception as e:\n",
    "#         print(f\"Exception encountered: {e}\")\n",
    "#         return {'status': STATUS_FAIL, 'exception': str(e)}"
   ]
  },
  {
   "cell_type": "code",
   "execution_count": 311,
   "metadata": {},
   "outputs": [
    {
     "name": "stdout",
     "output_type": "stream",
     "text": [
      "100%|██████████| 100/100 [16:43<00:00, 10.04s/trial, best loss: -0.45012375525240317]\n",
      "Best result: {'gamma': 1.5877172645991806e-05, 'reg_lambda': 0.0018237757382514616, 'xgb_colsample_bytree': 0.75, 'xgb_learning_rate': 0.22424929523794385, 'xgb_max_depth': 17.0, 'xgb_n_estimators': 268.0, 'xgb_subsample': 0.99}\n"
     ]
    }
   ],
   "source": [
    "# trials = MongoTrials('mongo://localhost:1234/hyperopt/jobs', exp_key=f'flight_cls_xgb_noyear')\n",
    "\n",
    "# best = fmin(\n",
    "#     fn=train_and_predict,\n",
    "#     space=space,\n",
    "#     algo=tpe.suggest,\n",
    "#     max_evals=100,\n",
    "#     trials=trials,\n",
    "#     rstate=np.random.default_rng(42),\n",
    "#     show_progressbar=True,\n",
    "# )\n",
    "\n",
    "# print(f\"Best result: {best}\")"
   ]
  },
  {
   "cell_type": "code",
   "execution_count": null,
   "metadata": {},
   "outputs": [],
   "source": []
  }
 ],
 "metadata": {
  "kernelspec": {
   "display_name": "mlr503-project",
   "language": "python",
   "name": "python3"
  },
  "language_info": {
   "codemirror_mode": {
    "name": "ipython",
    "version": 3
   },
   "file_extension": ".py",
   "mimetype": "text/x-python",
   "name": "python",
   "nbconvert_exporter": "python",
   "pygments_lexer": "ipython3",
   "version": "3.12.7"
  }
 },
 "nbformat": 4,
 "nbformat_minor": 2
}
