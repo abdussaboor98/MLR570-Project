{
 "cells": [
  {
   "cell_type": "code",
   "execution_count": 3,
   "metadata": {},
   "outputs": [
    {
     "name": "stdout",
     "output_type": "stream",
     "text": [
      "   category1  category2\n",
      "0   0.500000       0.50\n",
      "1   0.500000       0.50\n",
      "2   0.750000       0.75\n",
      "3   0.500000       0.50\n",
      "4   0.750000       0.75\n",
      "5   0.833333       0.50\n"
     ]
    }
   ],
   "source": [
    "import pandas as pd\n",
    "from category_encoders import CatBoostEncoder\n",
    "\n",
    "# Sample data\n",
    "data = {\n",
    "    'category1': ['A', 'B', 'A', 'C', 'B', 'A'],\n",
    "    'category2': ['X', 'Y', 'X', 'Z', 'Y', 'ZAA'],\n",
    "    'value': [1, 1, 1, 0, 0, 0]\n",
    "}\n",
    "\n",
    "# Create a DataFrame\n",
    "df = pd.DataFrame(data)\n",
    "\n",
    "# Define the target variable\n",
    "y = df['value']\n",
    "\n",
    "# Define the categorical columns to encode\n",
    "categorical_cols = ['category1', 'category2']\n",
    "\n",
    "# Initialize the CatBoostEncoder\n",
    "catboost_encoder = CatBoostEncoder(cols=categorical_cols, return_df=True)\n",
    "\n",
    "# Fit and transform the data\n",
    "df_encoded = catboost_encoder.fit_transform(df[categorical_cols], y)\n",
    "\n",
    "# Display the encoded DataFrame\n",
    "print(df_encoded)"
   ]
  },
  {
   "cell_type": "code",
   "execution_count": null,
   "metadata": {},
   "outputs": [],
   "source": []
  }
 ],
 "metadata": {
  "kernelspec": {
   "display_name": "mlr570-project",
   "language": "python",
   "name": "python3"
  },
  "language_info": {
   "codemirror_mode": {
    "name": "ipython",
    "version": 3
   },
   "file_extension": ".py",
   "mimetype": "text/x-python",
   "name": "python",
   "nbconvert_exporter": "python",
   "pygments_lexer": "ipython3",
   "version": "3.12.7"
  }
 },
 "nbformat": 4,
 "nbformat_minor": 2
}
