{
 "cells": [
  {
   "cell_type": "code",
   "execution_count": 1,
   "metadata": {},
   "outputs": [],
   "source": [
    "import pandas as pd\n",
    "import numpy as np\n",
    "import seaborn as sns\n",
    "import matplotlib.pyplot as plt\n",
    "from sklearn.model_selection import train_test_split\n",
    "from sklearn.preprocessing import OneHotEncoder, LabelEncoder\n",
    "from sklearn.ensemble import RandomForestClassifier\n",
    "from sklearn.ensemble import RandomForestClassifier\n",
    "from scipy.stats import chi2_contingency, pearsonr\n",
    "from sklearn.metrics import classification_report, accuracy_score, precision_score, recall_score, f1_score\n",
    "\n",
    "\n",
    "pd.set_option('display.max_columns', None)\n",
    "\n"
   ]
  },
  {
   "cell_type": "code",
   "execution_count": 2,
   "metadata": {},
   "outputs": [
    {
     "name": "stderr",
     "output_type": "stream",
     "text": [
      "/tmp/ipykernel_13478/3965383140.py:1: DtypeWarning: Columns (30,54) have mixed types. Specify dtype option on import or set low_memory=False.\n",
      "  df = pd.read_csv('flight_weather_merged.csv')\n"
     ]
    }
   ],
   "source": [
    "df = pd.read_csv('flight_weather_merged.csv')"
   ]
  },
  {
   "cell_type": "code",
   "execution_count": 3,
   "metadata": {},
   "outputs": [
    {
     "name": "stdout",
     "output_type": "stream",
     "text": [
      "<class 'pandas.core.frame.DataFrame'>\n",
      "Index: 152640 entries, 0 to 152639\n",
      "Data columns (total 65 columns):\n",
      " #   Column                         Non-Null Count   Dtype         \n",
      "---  ------                         --------------   -----         \n",
      " 0   aodbuniquefield                152640 non-null  int64         \n",
      " 1   flightstatus                   152640 non-null  object        \n",
      " 2   aircraftregistration           152551 non-null  object        \n",
      " 3   flightnumber                   152640 non-null  object        \n",
      " 4   traffictypecode                152640 non-null  object        \n",
      " 5   arrivalordeparture             152640 non-null  object        \n",
      " 6   lastchanged                    152640 non-null  object        \n",
      " 7   airlinecode_iata               152640 non-null  object        \n",
      " 8   airlinecode_icao               152640 non-null  object        \n",
      " 9   jointflightnumber              13380 non-null   object        \n",
      " 10  destination_iata               152640 non-null  object        \n",
      " 11  destination_icao               152640 non-null  object        \n",
      " 12  via_iata                       5911 non-null    object        \n",
      " 13  via_icao                       5911 non-null    object        \n",
      " 14  aircraft_iata                  152640 non-null  object        \n",
      " 15  aircraft_icao                  152640 non-null  object        \n",
      " 16  flightstatuscode               152640 non-null  object        \n",
      " 17  publicscheduleddatetime        152640 non-null  object        \n",
      " 18  scheduledoffblocktime          152640 non-null  datetime64[ns]\n",
      " 19  estimatedoffblocktime          152130 non-null  object        \n",
      " 20  actualtakeofftime              0 non-null       float64       \n",
      " 21  actualoffblocktime             152640 non-null  object        \n",
      " 22  aircraftparkingposition        152596 non-null  object        \n",
      " 23  publicgatenumber               152298 non-null  object        \n",
      " 24  checkinallocationfrom          83239 non-null   object        \n",
      " 25  checkinallocationto            83239 non-null   object        \n",
      " 26  airlinename                    152640 non-null  object        \n",
      " 27  vianame                        5833 non-null    object        \n",
      " 28  destinationname                152531 non-null  object        \n",
      " 29  traffictype                    152640 non-null  object        \n",
      " 30  aircraftterminal               152640 non-null  object        \n",
      " 31  airlinenamea                   147096 non-null  object        \n",
      " 32  destinationnamea               148578 non-null  object        \n",
      " 33  vianamea                       5371 non-null    object        \n",
      " 34  flightstatustexta              152640 non-null  object        \n",
      " 35  delaytimedelta                 152640 non-null  object        \n",
      " 36  finalflightstatus              152640 non-null  object        \n",
      " 37  delay_in_secs                  152640 non-null  float64       \n",
      " 38  scheduledoffblocktime_rounded  152640 non-null  object        \n",
      " 39  station                        152640 non-null  object        \n",
      " 40  valid                          152640 non-null  object        \n",
      " 41  lon                            152640 non-null  float64       \n",
      " 42  lat                            152640 non-null  float64       \n",
      " 43  elevation                      152640 non-null  float64       \n",
      " 44  tmpf                           152640 non-null  float64       \n",
      " 45  dwpf                           152640 non-null  float64       \n",
      " 46  relh                           152640 non-null  float64       \n",
      " 47  drct                           152640 non-null  float64       \n",
      " 48  sknt                           152640 non-null  float64       \n",
      " 49  p01i                           152640 non-null  float64       \n",
      " 50  alti                           152640 non-null  float64       \n",
      " 51  vsby                           152640 non-null  float64       \n",
      " 52  gust                           696 non-null     float64       \n",
      " 53  skyc1                          46046 non-null   object        \n",
      " 54  skyc2                          255 non-null     object        \n",
      " 55  skyc3                          0 non-null       float64       \n",
      " 56  skyc4                          0 non-null       float64       \n",
      " 57  skyl1                          20334 non-null   float64       \n",
      " 58  skyl2                          242 non-null     float64       \n",
      " 59  skyl3                          0 non-null       float64       \n",
      " 60  skyl4                          0 non-null       float64       \n",
      " 61  wxcodes                        7280 non-null    object        \n",
      " 62  feel                           152640 non-null  float64       \n",
      " 63  metar                          152640 non-null  object        \n",
      " 64  time_dubai                     152640 non-null  object        \n",
      "dtypes: datetime64[ns](1), float64(21), int64(1), object(42)\n",
      "memory usage: 76.9+ MB\n"
     ]
    }
   ],
   "source": [
    "# Sort by scheduledoffblocktime\n",
    "df['scheduledoffblocktime'] = pd.to_datetime(df['scheduledoffblocktime'])\n",
    "df = df.sort_values('scheduledoffblocktime')\n",
    "\n",
    "cutoff_idx = int(len(df) * 0.8)\n",
    "flight_data_train = df.iloc[:cutoff_idx]\n",
    "flight_data_test = df.iloc[cutoff_idx:]\n",
    "\n",
    "\n",
    "# # Sort by scheduledoffblocktime\n",
    "# df['scheduledoffblocktime'] = pd.to_datetime(df['scheduledoffblocktime'])\n",
    "# df = df.sort_values('scheduledoffblocktime')\n",
    "\n",
    "# # Get the date of the last 10% of data\n",
    "# cutoff_date = df['scheduledoffblocktime'].iloc[int(len(df) * 0.9)].date()\n",
    "\n",
    "# # Split ensuring full days are kept together\n",
    "# flight_data_train = df[df['scheduledoffblocktime'].dt.date < cutoff_date]\n",
    "# flight_data_test = df[df['scheduledoffblocktime'].dt.date >= cutoff_date]\n",
    "\n",
    "flight_data_train.info(verbose=True)\n"
   ]
  },
  {
   "cell_type": "code",
   "execution_count": 4,
   "metadata": {},
   "outputs": [
    {
     "data": {
      "text/html": [
       "<div>\n",
       "<style scoped>\n",
       "    .dataframe tbody tr th:only-of-type {\n",
       "        vertical-align: middle;\n",
       "    }\n",
       "\n",
       "    .dataframe tbody tr th {\n",
       "        vertical-align: top;\n",
       "    }\n",
       "\n",
       "    .dataframe thead th {\n",
       "        text-align: right;\n",
       "    }\n",
       "</style>\n",
       "<table border=\"1\" class=\"dataframe\">\n",
       "  <thead>\n",
       "    <tr style=\"text-align: right;\">\n",
       "      <th></th>\n",
       "      <th>aodbuniquefield</th>\n",
       "      <th>flightstatus</th>\n",
       "      <th>aircraftregistration</th>\n",
       "      <th>flightnumber</th>\n",
       "      <th>traffictypecode</th>\n",
       "      <th>arrivalordeparture</th>\n",
       "      <th>lastchanged</th>\n",
       "      <th>airlinecode_iata</th>\n",
       "      <th>airlinecode_icao</th>\n",
       "      <th>jointflightnumber</th>\n",
       "      <th>destination_iata</th>\n",
       "      <th>destination_icao</th>\n",
       "      <th>via_iata</th>\n",
       "      <th>via_icao</th>\n",
       "      <th>aircraft_iata</th>\n",
       "      <th>aircraft_icao</th>\n",
       "      <th>flightstatuscode</th>\n",
       "      <th>publicscheduleddatetime</th>\n",
       "      <th>scheduledoffblocktime</th>\n",
       "      <th>estimatedoffblocktime</th>\n",
       "      <th>actualtakeofftime</th>\n",
       "      <th>actualoffblocktime</th>\n",
       "      <th>aircraftparkingposition</th>\n",
       "      <th>publicgatenumber</th>\n",
       "      <th>checkinallocationfrom</th>\n",
       "      <th>checkinallocationto</th>\n",
       "      <th>airlinename</th>\n",
       "      <th>vianame</th>\n",
       "      <th>destinationname</th>\n",
       "      <th>traffictype</th>\n",
       "      <th>aircraftterminal</th>\n",
       "      <th>airlinenamea</th>\n",
       "      <th>destinationnamea</th>\n",
       "      <th>vianamea</th>\n",
       "      <th>flightstatustexta</th>\n",
       "      <th>delaytimedelta</th>\n",
       "      <th>finalflightstatus</th>\n",
       "      <th>delay_in_secs</th>\n",
       "      <th>scheduledoffblocktime_rounded</th>\n",
       "      <th>station</th>\n",
       "      <th>valid</th>\n",
       "      <th>lon</th>\n",
       "      <th>lat</th>\n",
       "      <th>elevation</th>\n",
       "      <th>tmpf</th>\n",
       "      <th>dwpf</th>\n",
       "      <th>relh</th>\n",
       "      <th>drct</th>\n",
       "      <th>sknt</th>\n",
       "      <th>p01i</th>\n",
       "      <th>alti</th>\n",
       "      <th>vsby</th>\n",
       "      <th>gust</th>\n",
       "      <th>skyc1</th>\n",
       "      <th>skyc2</th>\n",
       "      <th>skyc3</th>\n",
       "      <th>skyc4</th>\n",
       "      <th>skyl1</th>\n",
       "      <th>skyl2</th>\n",
       "      <th>skyl3</th>\n",
       "      <th>skyl4</th>\n",
       "      <th>wxcodes</th>\n",
       "      <th>feel</th>\n",
       "      <th>metar</th>\n",
       "      <th>time_dubai</th>\n",
       "    </tr>\n",
       "  </thead>\n",
       "  <tbody>\n",
       "    <tr>\n",
       "      <th>0</th>\n",
       "      <td>355872742</td>\n",
       "      <td>Departed</td>\n",
       "      <td>9NALZ</td>\n",
       "      <td>RA 230</td>\n",
       "      <td>PS</td>\n",
       "      <td>D</td>\n",
       "      <td>2020-03-08 05:24:05</td>\n",
       "      <td>RA</td>\n",
       "      <td>RNA</td>\n",
       "      <td>NaN</td>\n",
       "      <td>KTM</td>\n",
       "      <td>VNKT</td>\n",
       "      <td>NaN</td>\n",
       "      <td>NaN</td>\n",
       "      <td>332</td>\n",
       "      <td>A332</td>\n",
       "      <td>DEP</td>\n",
       "      <td>2020-03-08 04:25:00</td>\n",
       "      <td>2020-03-08 04:25:00</td>\n",
       "      <td>2020-03-08 04:25:00</td>\n",
       "      <td>NaN</td>\n",
       "      <td>2020-03-08 04:24:08</td>\n",
       "      <td>E02</td>\n",
       "      <td>F8</td>\n",
       "      <td>N241</td>\n",
       "      <td>N245</td>\n",
       "      <td>Royal Nepal Airlines</td>\n",
       "      <td>NaN</td>\n",
       "      <td>Kathmandu</td>\n",
       "      <td>Passenger Scheduled</td>\n",
       "      <td>2</td>\n",
       "      <td>الخطوط الجوية الملكية النيبالية</td>\n",
       "      <td>كتمندو</td>\n",
       "      <td>NaN</td>\n",
       "      <td>غادرت</td>\n",
       "      <td>0 days 00:00:00</td>\n",
       "      <td>On-Time</td>\n",
       "      <td>0.0</td>\n",
       "      <td>2020-03-08 04:00:00</td>\n",
       "      <td>OMDB</td>\n",
       "      <td>2020-03-08 00:00</td>\n",
       "      <td>55.3656</td>\n",
       "      <td>25.2539</td>\n",
       "      <td>5.0</td>\n",
       "      <td>69.8</td>\n",
       "      <td>62.6</td>\n",
       "      <td>77.90</td>\n",
       "      <td>90.0</td>\n",
       "      <td>5.0</td>\n",
       "      <td>0.0</td>\n",
       "      <td>29.88</td>\n",
       "      <td>6.21</td>\n",
       "      <td>NaN</td>\n",
       "      <td>NaN</td>\n",
       "      <td>NaN</td>\n",
       "      <td>NaN</td>\n",
       "      <td>NaN</td>\n",
       "      <td>NaN</td>\n",
       "      <td>NaN</td>\n",
       "      <td>NaN</td>\n",
       "      <td>NaN</td>\n",
       "      <td>NaN</td>\n",
       "      <td>69.8</td>\n",
       "      <td>OMDB 080000Z 09005KT 040V110 CAVOK 21/17 Q1012...</td>\n",
       "      <td>2020-03-08 04:00:00</td>\n",
       "    </tr>\n",
       "    <tr>\n",
       "      <th>1</th>\n",
       "      <td>354813921</td>\n",
       "      <td>Departed</td>\n",
       "      <td>ETAPX</td>\n",
       "      <td>ET 601</td>\n",
       "      <td>PS</td>\n",
       "      <td>D</td>\n",
       "      <td>2020-03-08 06:59:26</td>\n",
       "      <td>ET</td>\n",
       "      <td>ETH</td>\n",
       "      <td>NaN</td>\n",
       "      <td>ADD</td>\n",
       "      <td>HAAB</td>\n",
       "      <td>NaN</td>\n",
       "      <td>NaN</td>\n",
       "      <td>77W</td>\n",
       "      <td>B77W</td>\n",
       "      <td>DEP</td>\n",
       "      <td>2020-03-08 04:25:00</td>\n",
       "      <td>2020-03-08 04:25:00</td>\n",
       "      <td>2020-03-08 04:25:00</td>\n",
       "      <td>NaN</td>\n",
       "      <td>2020-03-08 04:37:26</td>\n",
       "      <td>C52</td>\n",
       "      <td>D6</td>\n",
       "      <td>422</td>\n",
       "      <td>429</td>\n",
       "      <td>Ethiopian Airlines</td>\n",
       "      <td>NaN</td>\n",
       "      <td>Addis Ababa</td>\n",
       "      <td>Passenger Scheduled</td>\n",
       "      <td>1</td>\n",
       "      <td>الخطوط الجوية الاثيوبية</td>\n",
       "      <td>أديس أبابا</td>\n",
       "      <td>NaN</td>\n",
       "      <td>غادرت</td>\n",
       "      <td>0 days 00:12:26</td>\n",
       "      <td>On-Time</td>\n",
       "      <td>746.0</td>\n",
       "      <td>2020-03-08 04:00:00</td>\n",
       "      <td>OMDB</td>\n",
       "      <td>2020-03-08 00:00</td>\n",
       "      <td>55.3656</td>\n",
       "      <td>25.2539</td>\n",
       "      <td>5.0</td>\n",
       "      <td>69.8</td>\n",
       "      <td>62.6</td>\n",
       "      <td>77.90</td>\n",
       "      <td>90.0</td>\n",
       "      <td>5.0</td>\n",
       "      <td>0.0</td>\n",
       "      <td>29.88</td>\n",
       "      <td>6.21</td>\n",
       "      <td>NaN</td>\n",
       "      <td>NaN</td>\n",
       "      <td>NaN</td>\n",
       "      <td>NaN</td>\n",
       "      <td>NaN</td>\n",
       "      <td>NaN</td>\n",
       "      <td>NaN</td>\n",
       "      <td>NaN</td>\n",
       "      <td>NaN</td>\n",
       "      <td>NaN</td>\n",
       "      <td>69.8</td>\n",
       "      <td>OMDB 080000Z 09005KT 040V110 CAVOK 21/17 Q1012...</td>\n",
       "      <td>2020-03-08 04:00:00</td>\n",
       "    </tr>\n",
       "    <tr>\n",
       "      <th>2</th>\n",
       "      <td>353476721</td>\n",
       "      <td>Departed</td>\n",
       "      <td>VTIGW</td>\n",
       "      <td>6E 1769</td>\n",
       "      <td>PS</td>\n",
       "      <td>D</td>\n",
       "      <td>2020-03-08 04:59:43</td>\n",
       "      <td>6E</td>\n",
       "      <td>IGO</td>\n",
       "      <td>NaN</td>\n",
       "      <td>BOM</td>\n",
       "      <td>VABB</td>\n",
       "      <td>NaN</td>\n",
       "      <td>NaN</td>\n",
       "      <td>320</td>\n",
       "      <td>A320</td>\n",
       "      <td>DEP</td>\n",
       "      <td>2020-03-08 04:30:00</td>\n",
       "      <td>2020-03-08 04:30:00</td>\n",
       "      <td>2020-03-08 04:30:00</td>\n",
       "      <td>NaN</td>\n",
       "      <td>2020-03-08 04:20:47</td>\n",
       "      <td>C53R</td>\n",
       "      <td>D7</td>\n",
       "      <td>342A</td>\n",
       "      <td>342A</td>\n",
       "      <td>Indigo</td>\n",
       "      <td>NaN</td>\n",
       "      <td>Mumbai (Bombay)</td>\n",
       "      <td>Passenger Scheduled</td>\n",
       "      <td>1</td>\n",
       "      <td>انديقو</td>\n",
       "      <td>مومباي - بومبي</td>\n",
       "      <td>NaN</td>\n",
       "      <td>غادرت</td>\n",
       "      <td>0 days 00:00:00</td>\n",
       "      <td>On-Time</td>\n",
       "      <td>0.0</td>\n",
       "      <td>2020-03-08 04:00:00</td>\n",
       "      <td>OMDB</td>\n",
       "      <td>2020-03-08 00:00</td>\n",
       "      <td>55.3656</td>\n",
       "      <td>25.2539</td>\n",
       "      <td>5.0</td>\n",
       "      <td>69.8</td>\n",
       "      <td>62.6</td>\n",
       "      <td>77.90</td>\n",
       "      <td>90.0</td>\n",
       "      <td>5.0</td>\n",
       "      <td>0.0</td>\n",
       "      <td>29.88</td>\n",
       "      <td>6.21</td>\n",
       "      <td>NaN</td>\n",
       "      <td>NaN</td>\n",
       "      <td>NaN</td>\n",
       "      <td>NaN</td>\n",
       "      <td>NaN</td>\n",
       "      <td>NaN</td>\n",
       "      <td>NaN</td>\n",
       "      <td>NaN</td>\n",
       "      <td>NaN</td>\n",
       "      <td>NaN</td>\n",
       "      <td>69.8</td>\n",
       "      <td>OMDB 080000Z 09005KT 040V110 CAVOK 21/17 Q1012...</td>\n",
       "      <td>2020-03-08 04:00:00</td>\n",
       "    </tr>\n",
       "    <tr>\n",
       "      <th>3</th>\n",
       "      <td>354511674</td>\n",
       "      <td>Departed</td>\n",
       "      <td>A6EGS</td>\n",
       "      <td>EK 658</td>\n",
       "      <td>PS</td>\n",
       "      <td>D</td>\n",
       "      <td>2020-03-08 08:34:27</td>\n",
       "      <td>EK</td>\n",
       "      <td>UAE</td>\n",
       "      <td>NaN</td>\n",
       "      <td>MLE</td>\n",
       "      <td>VRMM</td>\n",
       "      <td>NaN</td>\n",
       "      <td>NaN</td>\n",
       "      <td>77W</td>\n",
       "      <td>B77W</td>\n",
       "      <td>DEP</td>\n",
       "      <td>2020-03-08 04:35:00</td>\n",
       "      <td>2020-03-08 04:35:00</td>\n",
       "      <td>2020-03-08 04:35:00</td>\n",
       "      <td>NaN</td>\n",
       "      <td>2020-03-08 04:31:05</td>\n",
       "      <td>B08</td>\n",
       "      <td>C14</td>\n",
       "      <td>NaN</td>\n",
       "      <td>NaN</td>\n",
       "      <td>Emirates</td>\n",
       "      <td>NaN</td>\n",
       "      <td>Male</td>\n",
       "      <td>Passenger Scheduled</td>\n",
       "      <td>3</td>\n",
       "      <td>طيران الإمارات</td>\n",
       "      <td>مـالى</td>\n",
       "      <td>NaN</td>\n",
       "      <td>غادرت</td>\n",
       "      <td>0 days 00:00:00</td>\n",
       "      <td>On-Time</td>\n",
       "      <td>0.0</td>\n",
       "      <td>2020-03-08 05:00:00</td>\n",
       "      <td>OMDB</td>\n",
       "      <td>2020-03-08 01:00</td>\n",
       "      <td>55.3656</td>\n",
       "      <td>25.2539</td>\n",
       "      <td>5.0</td>\n",
       "      <td>68.0</td>\n",
       "      <td>60.8</td>\n",
       "      <td>77.75</td>\n",
       "      <td>110.0</td>\n",
       "      <td>6.0</td>\n",
       "      <td>0.0</td>\n",
       "      <td>29.88</td>\n",
       "      <td>5.59</td>\n",
       "      <td>NaN</td>\n",
       "      <td>NSC</td>\n",
       "      <td>NaN</td>\n",
       "      <td>NaN</td>\n",
       "      <td>NaN</td>\n",
       "      <td>NaN</td>\n",
       "      <td>NaN</td>\n",
       "      <td>NaN</td>\n",
       "      <td>NaN</td>\n",
       "      <td>NaN</td>\n",
       "      <td>68.0</td>\n",
       "      <td>OMDB 080100Z 11006KT 060V120 9000 NSC 20/16 Q1...</td>\n",
       "      <td>2020-03-08 05:00:00</td>\n",
       "    </tr>\n",
       "    <tr>\n",
       "      <th>4</th>\n",
       "      <td>354229669</td>\n",
       "      <td>Departed</td>\n",
       "      <td>A6ENG</td>\n",
       "      <td>EK 356</td>\n",
       "      <td>PS</td>\n",
       "      <td>D</td>\n",
       "      <td>2020-03-08 12:28:11</td>\n",
       "      <td>EK</td>\n",
       "      <td>UAE</td>\n",
       "      <td>NaN</td>\n",
       "      <td>CGK</td>\n",
       "      <td>WIII</td>\n",
       "      <td>NaN</td>\n",
       "      <td>NaN</td>\n",
       "      <td>77W</td>\n",
       "      <td>B77W</td>\n",
       "      <td>DEP</td>\n",
       "      <td>2020-03-08 04:35:00</td>\n",
       "      <td>2020-03-08 04:35:00</td>\n",
       "      <td>2020-03-08 04:35:00</td>\n",
       "      <td>NaN</td>\n",
       "      <td>2020-03-08 04:34:20</td>\n",
       "      <td>D01</td>\n",
       "      <td>A8</td>\n",
       "      <td>NaN</td>\n",
       "      <td>NaN</td>\n",
       "      <td>Emirates</td>\n",
       "      <td>NaN</td>\n",
       "      <td>Jakarta/Cengekareng</td>\n",
       "      <td>Passenger Scheduled</td>\n",
       "      <td>3</td>\n",
       "      <td>طيران الإمارات</td>\n",
       "      <td>جاكارتا</td>\n",
       "      <td>NaN</td>\n",
       "      <td>غادرت</td>\n",
       "      <td>0 days 00:00:00</td>\n",
       "      <td>On-Time</td>\n",
       "      <td>0.0</td>\n",
       "      <td>2020-03-08 05:00:00</td>\n",
       "      <td>OMDB</td>\n",
       "      <td>2020-03-08 01:00</td>\n",
       "      <td>55.3656</td>\n",
       "      <td>25.2539</td>\n",
       "      <td>5.0</td>\n",
       "      <td>68.0</td>\n",
       "      <td>60.8</td>\n",
       "      <td>77.75</td>\n",
       "      <td>110.0</td>\n",
       "      <td>6.0</td>\n",
       "      <td>0.0</td>\n",
       "      <td>29.88</td>\n",
       "      <td>5.59</td>\n",
       "      <td>NaN</td>\n",
       "      <td>NSC</td>\n",
       "      <td>NaN</td>\n",
       "      <td>NaN</td>\n",
       "      <td>NaN</td>\n",
       "      <td>NaN</td>\n",
       "      <td>NaN</td>\n",
       "      <td>NaN</td>\n",
       "      <td>NaN</td>\n",
       "      <td>NaN</td>\n",
       "      <td>68.0</td>\n",
       "      <td>OMDB 080100Z 11006KT 060V120 9000 NSC 20/16 Q1...</td>\n",
       "      <td>2020-03-08 05:00:00</td>\n",
       "    </tr>\n",
       "  </tbody>\n",
       "</table>\n",
       "</div>"
      ],
      "text/plain": [
       "   aodbuniquefield flightstatus aircraftregistration flightnumber  \\\n",
       "0        355872742     Departed                9NALZ   RA 230       \n",
       "1        354813921     Departed                ETAPX   ET 601       \n",
       "2        353476721     Departed                VTIGW   6E 1769      \n",
       "3        354511674     Departed                A6EGS   EK 658       \n",
       "4        354229669     Departed                A6ENG   EK 356       \n",
       "\n",
       "  traffictypecode arrivalordeparture          lastchanged airlinecode_iata  \\\n",
       "0              PS                 D   2020-03-08 05:24:05               RA   \n",
       "1              PS                 D   2020-03-08 06:59:26               ET   \n",
       "2              PS                 D   2020-03-08 04:59:43               6E   \n",
       "3              PS                 D   2020-03-08 08:34:27               EK   \n",
       "4              PS                 D   2020-03-08 12:28:11               EK   \n",
       "\n",
       "  airlinecode_icao jointflightnumber destination_iata destination_icao  \\\n",
       "0              RNA               NaN              KTM             VNKT   \n",
       "1              ETH               NaN              ADD             HAAB   \n",
       "2              IGO               NaN              BOM             VABB   \n",
       "3              UAE               NaN              MLE             VRMM   \n",
       "4              UAE               NaN              CGK             WIII   \n",
       "\n",
       "  via_iata via_icao aircraft_iata aircraft_icao flightstatuscode  \\\n",
       "0      NaN      NaN           332         A332             DEP     \n",
       "1      NaN      NaN           77W         B77W             DEP     \n",
       "2      NaN      NaN           320         A320             DEP     \n",
       "3      NaN      NaN           77W         B77W             DEP     \n",
       "4      NaN      NaN           77W         B77W             DEP     \n",
       "\n",
       "  publicscheduleddatetime scheduledoffblocktime estimatedoffblocktime  \\\n",
       "0     2020-03-08 04:25:00   2020-03-08 04:25:00   2020-03-08 04:25:00   \n",
       "1     2020-03-08 04:25:00   2020-03-08 04:25:00   2020-03-08 04:25:00   \n",
       "2     2020-03-08 04:30:00   2020-03-08 04:30:00   2020-03-08 04:30:00   \n",
       "3     2020-03-08 04:35:00   2020-03-08 04:35:00   2020-03-08 04:35:00   \n",
       "4     2020-03-08 04:35:00   2020-03-08 04:35:00   2020-03-08 04:35:00   \n",
       "\n",
       "   actualtakeofftime   actualoffblocktime aircraftparkingposition  \\\n",
       "0                NaN  2020-03-08 04:24:08                   E02     \n",
       "1                NaN  2020-03-08 04:37:26                   C52     \n",
       "2                NaN  2020-03-08 04:20:47                   C53R    \n",
       "3                NaN  2020-03-08 04:31:05                   B08     \n",
       "4                NaN  2020-03-08 04:34:20                   D01     \n",
       "\n",
       "  publicgatenumber checkinallocationfrom checkinallocationto  \\\n",
       "0            F8                    N241                N245    \n",
       "1            D6                    422                 429     \n",
       "2            D7                    342A                342A    \n",
       "3            C14                     NaN                 NaN   \n",
       "4            A8                      NaN                 NaN   \n",
       "\n",
       "            airlinename vianame      destinationname          traffictype  \\\n",
       "0  Royal Nepal Airlines     NaN            Kathmandu  Passenger Scheduled   \n",
       "1    Ethiopian Airlines     NaN          Addis Ababa  Passenger Scheduled   \n",
       "2                Indigo     NaN      Mumbai (Bombay)  Passenger Scheduled   \n",
       "3              Emirates     NaN                 Male  Passenger Scheduled   \n",
       "4              Emirates     NaN  Jakarta/Cengekareng  Passenger Scheduled   \n",
       "\n",
       "  aircraftterminal                     airlinenamea destinationnamea vianamea  \\\n",
       "0               2   الخطوط الجوية الملكية النيبالية           كتمندو      NaN   \n",
       "1               1           الخطوط الجوية الاثيوبية       أديس أبابا      NaN   \n",
       "2               1                            انديقو   مومباي - بومبي      NaN   \n",
       "3               3                    طيران الإمارات            مـالى      NaN   \n",
       "4               3                    طيران الإمارات          جاكارتا      NaN   \n",
       "\n",
       "  flightstatustexta   delaytimedelta finalflightstatus  delay_in_secs  \\\n",
       "0             غادرت  0 days 00:00:00           On-Time            0.0   \n",
       "1             غادرت  0 days 00:12:26           On-Time          746.0   \n",
       "2             غادرت  0 days 00:00:00           On-Time            0.0   \n",
       "3             غادرت  0 days 00:00:00           On-Time            0.0   \n",
       "4             غادرت  0 days 00:00:00           On-Time            0.0   \n",
       "\n",
       "  scheduledoffblocktime_rounded station             valid      lon      lat  \\\n",
       "0           2020-03-08 04:00:00    OMDB  2020-03-08 00:00  55.3656  25.2539   \n",
       "1           2020-03-08 04:00:00    OMDB  2020-03-08 00:00  55.3656  25.2539   \n",
       "2           2020-03-08 04:00:00    OMDB  2020-03-08 00:00  55.3656  25.2539   \n",
       "3           2020-03-08 05:00:00    OMDB  2020-03-08 01:00  55.3656  25.2539   \n",
       "4           2020-03-08 05:00:00    OMDB  2020-03-08 01:00  55.3656  25.2539   \n",
       "\n",
       "   elevation  tmpf  dwpf   relh   drct  sknt  p01i   alti  vsby  gust skyc1  \\\n",
       "0        5.0  69.8  62.6  77.90   90.0   5.0   0.0  29.88  6.21   NaN   NaN   \n",
       "1        5.0  69.8  62.6  77.90   90.0   5.0   0.0  29.88  6.21   NaN   NaN   \n",
       "2        5.0  69.8  62.6  77.90   90.0   5.0   0.0  29.88  6.21   NaN   NaN   \n",
       "3        5.0  68.0  60.8  77.75  110.0   6.0   0.0  29.88  5.59   NaN   NSC   \n",
       "4        5.0  68.0  60.8  77.75  110.0   6.0   0.0  29.88  5.59   NaN   NSC   \n",
       "\n",
       "  skyc2  skyc3  skyc4  skyl1  skyl2  skyl3  skyl4 wxcodes  feel  \\\n",
       "0   NaN    NaN    NaN    NaN    NaN    NaN    NaN     NaN  69.8   \n",
       "1   NaN    NaN    NaN    NaN    NaN    NaN    NaN     NaN  69.8   \n",
       "2   NaN    NaN    NaN    NaN    NaN    NaN    NaN     NaN  69.8   \n",
       "3   NaN    NaN    NaN    NaN    NaN    NaN    NaN     NaN  68.0   \n",
       "4   NaN    NaN    NaN    NaN    NaN    NaN    NaN     NaN  68.0   \n",
       "\n",
       "                                               metar           time_dubai  \n",
       "0  OMDB 080000Z 09005KT 040V110 CAVOK 21/17 Q1012...  2020-03-08 04:00:00  \n",
       "1  OMDB 080000Z 09005KT 040V110 CAVOK 21/17 Q1012...  2020-03-08 04:00:00  \n",
       "2  OMDB 080000Z 09005KT 040V110 CAVOK 21/17 Q1012...  2020-03-08 04:00:00  \n",
       "3  OMDB 080100Z 11006KT 060V120 9000 NSC 20/16 Q1...  2020-03-08 05:00:00  \n",
       "4  OMDB 080100Z 11006KT 060V120 9000 NSC 20/16 Q1...  2020-03-08 05:00:00  "
      ]
     },
     "execution_count": 4,
     "metadata": {},
     "output_type": "execute_result"
    }
   ],
   "source": [
    "flight_data_train.head()"
   ]
  },
  {
   "cell_type": "code",
   "execution_count": 5,
   "metadata": {},
   "outputs": [],
   "source": [
    "columns_to_drop = [\n",
    "    \"aodbuniquefield\",\n",
    "    \"flightstatus\",  # not needed as it does not contain the delayed status\n",
    "    \"flightstatuscode\",\n",
    "    \"aircraftregistration\",\n",
    "    \"actualtakeofftime\",\n",
    "    \"metar\",\n",
    "    \"time_dubai\",\n",
    "    \"checkinallocationfrom\",\n",
    "    \"checkinallocationto\",\n",
    "    \"actualoffblocktime\",  # not required as we have the targets already derived using this\n",
    "    \"publicscheduleddatetime\",  # Mostly same as the scheduledoffblocktime\n",
    "    \"estimatedoffblocktime\",  # data not available\n",
    "    \"delaytimedelta\",  # This is coverted to finalflightstatus for classification and to finalflightstatus for regression\n",
    "    \"wxcodes\",\n",
    "    \"airlinenamea\",\n",
    "    \"destinationnamea\",\n",
    "    \"vianamea\",\n",
    "    \"flightstatustexta\",\n",
    "    \"arrivalordeparture\",\n",
    "    \"lastchanged\",\n",
    "    \"scheduledoffblocktime_rounded\",\n",
    "    \"station\",\n",
    "    \"valid\",\n",
    "    \"lon\",\n",
    "    \"lat\",\n",
    "    \"elevation\",\n",
    "    # 'aircraftterminal'\n",
    "]"
   ]
  },
  {
   "cell_type": "code",
   "execution_count": 6,
   "metadata": {},
   "outputs": [
    {
     "data": {
      "text/plain": [
       "aodbuniquefield           int64\n",
       "flightstatus             object\n",
       "aircraftregistration     object\n",
       "flightnumber             object\n",
       "traffictypecode          object\n",
       "                         ...   \n",
       "skyl4                   float64\n",
       "wxcodes                  object\n",
       "feel                    float64\n",
       "metar                    object\n",
       "time_dubai               object\n",
       "Length: 65, dtype: object"
      ]
     },
     "execution_count": 6,
     "metadata": {},
     "output_type": "execute_result"
    }
   ],
   "source": [
    "flight_data_train.dtypes"
   ]
  },
  {
   "cell_type": "code",
   "execution_count": 7,
   "metadata": {},
   "outputs": [],
   "source": [
    "def chi_2(df, x, y):\n",
    "    # Create a contingency table\n",
    "    contingency_table = pd.crosstab(df[x], df[y])\n",
    "\n",
    "    # Perform the Chi-Square test\n",
    "    chi2, p, dof, expected = chi2_contingency(contingency_table)\n",
    "    print(f\"Chi-Square Statistic for {x} and {y}: {chi2}, p-value: {p}, dof:{dof}\")"
   ]
  },
  {
   "cell_type": "code",
   "execution_count": 8,
   "metadata": {},
   "outputs": [],
   "source": [
    "def cramers_v(df, x, y):\n",
    "    # Create a contingency table\n",
    "    contingency_table = pd.crosstab(df[x], df[y])\n",
    "    \n",
    "    # Perform the Chi-Square test\n",
    "    chi2, p, _, _ = chi2_contingency(contingency_table)\n",
    "    \n",
    "    # Calculate Cramér's V\n",
    "    n = contingency_table.sum().sum()\n",
    "    min_dim = min(contingency_table.shape) - 1\n",
    "    cor = np.sqrt(chi2 / (n * min_dim))\n",
    "    print(f\"Cramer's V  for {x} and {y}: {cor}, p-value: {p}\")"
   ]
  },
  {
   "cell_type": "markdown",
   "metadata": {},
   "source": [
    "Airline code and name"
   ]
  },
  {
   "cell_type": "code",
   "execution_count": 9,
   "metadata": {},
   "outputs": [
    {
     "data": {
      "text/plain": [
       "147"
      ]
     },
     "execution_count": 9,
     "metadata": {},
     "output_type": "execute_result"
    }
   ],
   "source": [
    "flight_data_train['airlinecode_iata'].nunique()"
   ]
  },
  {
   "cell_type": "code",
   "execution_count": 10,
   "metadata": {},
   "outputs": [
    {
     "data": {
      "text/plain": [
       "156"
      ]
     },
     "execution_count": 10,
     "metadata": {},
     "output_type": "execute_result"
    }
   ],
   "source": [
    "flight_data_train['airlinecode_icao'].nunique()"
   ]
  },
  {
   "cell_type": "code",
   "execution_count": 11,
   "metadata": {},
   "outputs": [
    {
     "name": "stdout",
     "output_type": "stream",
     "text": [
      "Chi-Square Statistic for airlinecode_iata and airlinecode_icao: 22285440.0, p-value: 0.0, dof:22630\n",
      "Cramer's V  for airlinecode_iata and airlinecode_icao: 1.0, p-value: 0.0\n"
     ]
    }
   ],
   "source": [
    "chi_2(flight_data_train, 'airlinecode_iata', 'airlinecode_icao')\n",
    "cramers_v(flight_data_train, 'airlinecode_iata', 'airlinecode_icao')"
   ]
  },
  {
   "cell_type": "code",
   "execution_count": 12,
   "metadata": {},
   "outputs": [
    {
     "name": "stdout",
     "output_type": "stream",
     "text": [
      "Chi-Square Statistic for airlinecode_iata and airlinename: 22132800.0, p-value: 0.0, dof:22484\n",
      "Cramer's V  for airlinecode_iata and airlinename: 0.9965694581570854, p-value: 0.0\n"
     ]
    }
   ],
   "source": [
    "chi_2(flight_data_train, 'airlinecode_iata', 'airlinename')\n",
    "cramers_v(flight_data_train, 'airlinecode_iata', 'airlinename')"
   ]
  },
  {
   "cell_type": "markdown",
   "metadata": {},
   "source": [
    "The p-value is very less than 0.5 and ~0.0 which indicated high correlations so we can drop one of the columns\n",
    "The Cramers V is also 1 or close to 1"
   ]
  },
  {
   "cell_type": "code",
   "execution_count": 13,
   "metadata": {},
   "outputs": [],
   "source": [
    "columns_to_drop.append('airlinecode_icao')\n",
    "columns_to_drop.append('airlinename')"
   ]
  },
  {
   "cell_type": "markdown",
   "metadata": {},
   "source": [
    "Airpot code"
   ]
  },
  {
   "cell_type": "code",
   "execution_count": 14,
   "metadata": {},
   "outputs": [
    {
     "name": "stdout",
     "output_type": "stream",
     "text": [
      "Chi-Square Statistic for destination_icao and destination_iata: 47165760.0, p-value: 0.0, dof:97343\n",
      "Cramer's V  for destination_icao and destination_iata: 0.9967793797189012, p-value: 0.0\n"
     ]
    }
   ],
   "source": [
    "chi_2(flight_data_train, 'destination_icao', 'destination_iata')\n",
    "cramers_v(flight_data_train, 'destination_icao', 'destination_iata')"
   ]
  },
  {
   "cell_type": "code",
   "execution_count": 15,
   "metadata": {},
   "outputs": [
    {
     "name": "stdout",
     "output_type": "stream",
     "text": [
      "Chi-Square Statistic for destinationname and destination_iata: 45454238.0, p-value: 0.0, dof:92092\n",
      "Cramer's V  for destinationname and destination_iata: 0.9983263586596564, p-value: 0.0\n"
     ]
    }
   ],
   "source": [
    "chi_2(flight_data_train, 'destinationname', 'destination_iata')\n",
    "cramers_v(flight_data_train, 'destinationname', 'destination_iata')"
   ]
  },
  {
   "cell_type": "code",
   "execution_count": 16,
   "metadata": {},
   "outputs": [
    {
     "name": "stdout",
     "output_type": "stream",
     "text": [
      "Chi-Square Statistic for destination_icao and destinationname: 45450735.99473051, p-value: 0.0, dof:93016\n",
      "Cramer's V  for destination_icao and destinationname: 0.9933171410527091, p-value: 0.0\n"
     ]
    }
   ],
   "source": [
    "chi_2(flight_data_train, 'destination_icao', 'destinationname')\n",
    "cramers_v(flight_data_train, 'destination_icao', 'destinationname')"
   ]
  },
  {
   "cell_type": "code",
   "execution_count": 17,
   "metadata": {},
   "outputs": [],
   "source": [
    "columns_to_drop.append('destination_icao')\n",
    "columns_to_drop.append('destinationname')"
   ]
  },
  {
   "cell_type": "markdown",
   "metadata": {},
   "source": [
    "Via codes and name"
   ]
  },
  {
   "cell_type": "code",
   "execution_count": 18,
   "metadata": {},
   "outputs": [
    {
     "name": "stdout",
     "output_type": "stream",
     "text": [
      "Chi-Square Statistic for via_icao and via_iata: 608833.0, p-value: 0.0, dof:10609\n",
      "Cramer's V  for via_icao and via_iata: 1.0, p-value: 0.0\n",
      "Chi-Square Statistic for vianame and via_iata: 559968.0, p-value: 0.0, dof:9312\n",
      "Cramer's V  for vianame and via_iata: 1.0, p-value: 0.0\n",
      "Chi-Square Statistic for via_icao and vianame: 559968.0, p-value: 0.0, dof:9312\n",
      "Cramer's V  for via_icao and vianame: 1.0, p-value: 0.0\n",
      "Chi-Square Statistic for via_iata and jointflightnumber: 17738.0, p-value: 0.0, dof:270\n",
      "Cramer's V  for via_iata and jointflightnumber: 0.9660917830792959, p-value: 0.0\n"
     ]
    }
   ],
   "source": [
    "chi_2(flight_data_train, 'via_icao', 'via_iata')\n",
    "cramers_v(flight_data_train, 'via_icao', 'via_iata')\n",
    "\n",
    "chi_2(flight_data_train, 'vianame', 'via_iata')\n",
    "cramers_v(flight_data_train, 'vianame', 'via_iata')\n",
    "\n",
    "chi_2(flight_data_train, 'via_icao', 'vianame')\n",
    "cramers_v(flight_data_train, 'via_icao', 'vianame')\n",
    "\n",
    "\n",
    "chi_2(flight_data_train, 'via_iata', 'jointflightnumber')\n",
    "cramers_v(flight_data_train, 'via_iata', 'jointflightnumber')"
   ]
  },
  {
   "cell_type": "code",
   "execution_count": 19,
   "metadata": {},
   "outputs": [],
   "source": [
    "columns_to_drop.append('via_icao')\n",
    "columns_to_drop.append('vianame')\n",
    "columns_to_drop.append('jointflightnumber')"
   ]
  },
  {
   "cell_type": "markdown",
   "metadata": {},
   "source": [
    "Flight and aircraft details"
   ]
  },
  {
   "cell_type": "code",
   "execution_count": 20,
   "metadata": {},
   "outputs": [
    {
     "name": "stdout",
     "output_type": "stream",
     "text": [
      "Chi-Square Statistic for flightnumber and aircraft_iata: 4216825.404912903, p-value: 0.0, dof:117720\n",
      "Cramer's V  for flightnumber and aircraft_iata: 0.6785517985671197, p-value: 0.0\n",
      "Chi-Square Statistic for aircraft_icao and aircraft_iata: 7632000.0, p-value: 0.0, dof:3120\n",
      "Cramer's V  for aircraft_icao and aircraft_iata: 0.9805806756909202, p-value: 0.0\n",
      "Chi-Square Statistic for aircraft_icao and flightnumber: 3868193.8959490512, p-value: 0.0, dof:102024\n",
      "Cramer's V  for aircraft_icao and flightnumber: 0.698101011291234, p-value: 0.0\n"
     ]
    }
   ],
   "source": [
    "chi_2(flight_data_train, 'flightnumber', 'aircraft_iata')\n",
    "cramers_v(flight_data_train, 'flightnumber', 'aircraft_iata')\n",
    "chi_2(flight_data_train, 'aircraft_icao', 'aircraft_iata')\n",
    "cramers_v(flight_data_train, 'aircraft_icao', 'aircraft_iata')\n",
    "chi_2(flight_data_train, 'aircraft_icao', 'flightnumber')\n",
    "cramers_v(flight_data_train, 'aircraft_icao', 'flightnumber')"
   ]
  },
  {
   "cell_type": "markdown",
   "metadata": {},
   "source": [
    "One out of 'aircraft_icao', 'aircraft_iata' can be dropped"
   ]
  },
  {
   "cell_type": "code",
   "execution_count": 21,
   "metadata": {},
   "outputs": [],
   "source": [
    "columns_to_drop.append('aircraft_icao')"
   ]
  },
  {
   "cell_type": "markdown",
   "metadata": {},
   "source": [
    "flightnumber and destination_iata"
   ]
  },
  {
   "cell_type": "code",
   "execution_count": 22,
   "metadata": {},
   "outputs": [
    {
     "name": "stdout",
     "output_type": "stream",
     "text": [
      "Chi-Square Statistic for flightnumber and destination_iata: 43608823.06652782, p-value: 0.0, dof:610182\n",
      "Cramer's V  for flightnumber and destination_iata: 0.9584573888595723, p-value: 0.0\n",
      "Chi-Square Statistic for airlinecode_iata and destination_iata: 6490340.243631285, p-value: 0.0, dof:45406\n",
      "Cramer's V  for airlinecode_iata and destination_iata: 0.539663599396242, p-value: 0.0\n"
     ]
    }
   ],
   "source": [
    "chi_2(flight_data_train, 'flightnumber', 'destination_iata')\n",
    "cramers_v(flight_data_train, 'flightnumber', 'destination_iata')\n",
    "chi_2(flight_data_train, 'airlinecode_iata', 'destination_iata')\n",
    "cramers_v(flight_data_train, 'airlinecode_iata', 'destination_iata')"
   ]
  },
  {
   "cell_type": "code",
   "execution_count": 23,
   "metadata": {},
   "outputs": [],
   "source": [
    "columns_to_drop.append('flightnumber')"
   ]
  },
  {
   "cell_type": "markdown",
   "metadata": {},
   "source": [
    "publicgatenumber and aircraftterminal"
   ]
  },
  {
   "cell_type": "code",
   "execution_count": 24,
   "metadata": {},
   "outputs": [
    {
     "name": "stdout",
     "output_type": "stream",
     "text": [
      "Chi-Square Statistic for publicgatenumber and aircraftparkingposition: 13336222.341236642, p-value: 0.0, dof:30551\n",
      "Cramer's V  for publicgatenumber and aircraftparkingposition: 0.7994931247061621, p-value: 0.0\n"
     ]
    }
   ],
   "source": [
    "chi_2(flight_data_train, 'publicgatenumber', 'aircraftparkingposition')\n",
    "cramers_v(flight_data_train, 'publicgatenumber', 'aircraftparkingposition')"
   ]
  },
  {
   "cell_type": "code",
   "execution_count": 25,
   "metadata": {},
   "outputs": [],
   "source": [
    "columns_to_drop.append('aircraftparkingposition')"
   ]
  },
  {
   "cell_type": "markdown",
   "metadata": {},
   "source": [
    "Traffic type"
   ]
  },
  {
   "cell_type": "code",
   "execution_count": 26,
   "metadata": {},
   "outputs": [
    {
     "name": "stdout",
     "output_type": "stream",
     "text": [
      "['PS' 'PC' 'PE']\n",
      "['Passenger Scheduled' 'Passenger Charter' 'Passenger Extra']\n"
     ]
    }
   ],
   "source": [
    "print(flight_data_train['traffictypecode'].unique())\n",
    "print(flight_data_train['traffictype'].unique())\n"
   ]
  },
  {
   "cell_type": "code",
   "execution_count": 27,
   "metadata": {},
   "outputs": [],
   "source": [
    "columns_to_drop.append('traffictype')"
   ]
  },
  {
   "cell_type": "markdown",
   "metadata": {},
   "source": [
    "Correlation for numerical fields"
   ]
  },
  {
   "cell_type": "code",
   "execution_count": 28,
   "metadata": {},
   "outputs": [
    {
     "data": {
      "text/plain": [
       "Text(0.5, 1.0, 'Correlation Heatmap')"
      ]
     },
     "execution_count": 28,
     "metadata": {},
     "output_type": "execute_result"
    },
    {
     "data": {
      "image/png": "[encoded data removed]",
      "text/plain": [
       "<Figure size 1600x600 with 2 Axes>"
      ]
     },
     "metadata": {},
     "output_type": "display_data"
    }
   ],
   "source": [
    "plt.figure(figsize=(16, 6))\n",
    "heatmap = sns.heatmap(flight_data_train.corr(numeric_only=True), vmin=-1, vmax=1, annot=True)\n",
    "heatmap.set_title('Correlation Heatmap', fontdict={'fontsize':12}, pad=12)"
   ]
  },
  {
   "cell_type": "markdown",
   "metadata": {},
   "source": [
    "tmpf and feel are highly correlated\n",
    "\n",
    "There are no missing values for feel so we can safetly remove it"
   ]
  },
  {
   "cell_type": "code",
   "execution_count": 29,
   "metadata": {},
   "outputs": [],
   "source": [
    "columns_to_drop.append('feel')"
   ]
  },
  {
   "cell_type": "markdown",
   "metadata": {},
   "source": [
    "sknt and gust are correlated\n",
    "\n",
    "As gust is the sudden increase in speed, it can be explained by wind speed (sknt)\n",
    "\n",
    "But there are many missing values in gust so we cannot depend on this\n"
   ]
  },
  {
   "cell_type": "code",
   "execution_count": 30,
   "metadata": {},
   "outputs": [
    {
     "data": {
      "text/plain": [
       "PearsonRResult(statistic=0.9763837646342897, pvalue=0.0)"
      ]
     },
     "execution_count": 30,
     "metadata": {},
     "output_type": "execute_result"
    }
   ],
   "source": [
    "pearsonr(flight_data_train['sknt'][flight_data_train['gust'].notna()], flight_data_train['gust'][flight_data_train['gust'].notna()])"
   ]
  },
  {
   "cell_type": "code",
   "execution_count": 31,
   "metadata": {},
   "outputs": [
    {
     "name": "stderr",
     "output_type": "stream",
     "text": [
      "/tmp/ipykernel_13478/1900097031.py:1: SettingWithCopyWarning: \n",
      "A value is trying to be set on a copy of a slice from a DataFrame.\n",
      "Try using .loc[row_indexer,col_indexer] = value instead\n",
      "\n",
      "See the caveats in the documentation: https://pandas.pydata.org/pandas-docs/stable/user_guide/indexing.html#returning-a-view-versus-a-copy\n",
      "  flight_data_train['gust'] = flight_data_train['gust'].notna().astype(int)\n",
      "/tmp/ipykernel_13478/1900097031.py:2: SettingWithCopyWarning: \n",
      "A value is trying to be set on a copy of a slice from a DataFrame.\n",
      "Try using .loc[row_indexer,col_indexer] = value instead\n",
      "\n",
      "See the caveats in the documentation: https://pandas.pydata.org/pandas-docs/stable/user_guide/indexing.html#returning-a-view-versus-a-copy\n",
      "  flight_data_test['gust'] = flight_data_test['gust'].notna().astype(int)\n"
     ]
    }
   ],
   "source": [
    "flight_data_train['gust'] = flight_data_train['gust'].notna().astype(int)\n",
    "flight_data_test['gust'] = flight_data_test['gust'].notna().astype(int)"
   ]
  },
  {
   "cell_type": "code",
   "execution_count": 32,
   "metadata": {},
   "outputs": [
    {
     "name": "stderr",
     "output_type": "stream",
     "text": [
      "/tmp/ipykernel_13478/2085716974.py:2: SettingWithCopyWarning: \n",
      "A value is trying to be set on a copy of a slice from a DataFrame\n",
      "\n",
      "See the caveats in the documentation: https://pandas.pydata.org/pandas-docs/stable/user_guide/indexing.html#returning-a-view-versus-a-copy\n",
      "  flight_data_train.drop(columns=columns_to_drop, axis=1, inplace=True)\n",
      "/tmp/ipykernel_13478/2085716974.py:3: SettingWithCopyWarning: \n",
      "A value is trying to be set on a copy of a slice from a DataFrame\n",
      "\n",
      "See the caveats in the documentation: https://pandas.pydata.org/pandas-docs/stable/user_guide/indexing.html#returning-a-view-versus-a-copy\n",
      "  flight_data_test.drop(columns=columns_to_drop, axis=1, inplace=True)\n"
     ]
    }
   ],
   "source": [
    "# Drop the duplicate or unnecessary columns\n",
    "flight_data_train.drop(columns=columns_to_drop, axis=1, inplace=True)\n",
    "flight_data_test.drop(columns=columns_to_drop, axis=1, inplace=True)"
   ]
  },
  {
   "cell_type": "code",
   "execution_count": 33,
   "metadata": {},
   "outputs": [
    {
     "data": {
      "text/plain": [
       "traffictypecode                  object\n",
       "airlinecode_iata                 object\n",
       "destination_iata                 object\n",
       "via_iata                         object\n",
       "aircraft_iata                    object\n",
       "scheduledoffblocktime    datetime64[ns]\n",
       "publicgatenumber                 object\n",
       "aircraftterminal                 object\n",
       "finalflightstatus                object\n",
       "delay_in_secs                   float64\n",
       "tmpf                            float64\n",
       "dwpf                            float64\n",
       "relh                            float64\n",
       "drct                            float64\n",
       "sknt                            float64\n",
       "p01i                            float64\n",
       "alti                            float64\n",
       "vsby                            float64\n",
       "gust                              int64\n",
       "skyc1                            object\n",
       "skyc2                            object\n",
       "skyc3                           float64\n",
       "skyc4                           float64\n",
       "skyl1                           float64\n",
       "skyl2                           float64\n",
       "skyl3                           float64\n",
       "skyl4                           float64\n",
       "dtype: object"
      ]
     },
     "execution_count": 33,
     "metadata": {},
     "output_type": "execute_result"
    }
   ],
   "source": [
    "flight_data_train.dtypes"
   ]
  },
  {
   "cell_type": "markdown",
   "metadata": {},
   "source": [
    "Missing Data"
   ]
  },
  {
   "cell_type": "code",
   "execution_count": 34,
   "metadata": {},
   "outputs": [
    {
     "data": {
      "text/plain": [
       "342"
      ]
     },
     "execution_count": 34,
     "metadata": {},
     "output_type": "execute_result"
    }
   ],
   "source": [
    "flight_data_train['publicgatenumber'].isnull().sum()"
   ]
  },
  {
   "cell_type": "code",
   "execution_count": 35,
   "metadata": {},
   "outputs": [
    {
     "data": {
      "text/plain": [
       "array(['F8   ', 'D6   ', 'D7   ', 'C14  ', 'A8   ', 'B1   ', 'D11  ',\n",
       "       'F5   ', 'D13  ', 'D18  ', 'D9   ', 'D3   ', 'D2   ', 'F10  ',\n",
       "       'D8   ', 'F7   ', 'D21  ', 'D12  ', 'D10  ', 'D15  ', 'F2   ',\n",
       "       'D14  ', 'F4   ', 'D17  ', 'A14  ', 'F9   ', 'B7   ', 'A10  ',\n",
       "       'A22  ', 'B19  ', 'F11  ', 'A1   ', 'C43  ', 'B12  ', 'A23  ',\n",
       "       'C8   ', 'B22  ', 'B14  ', 'B17  ', 'F3   ', 'A15  ', 'C46  ',\n",
       "       'B23  ', 'A9   ', 'A2   ', 'C5   ', 'C6   ', 'B13  ', 'B25  ',\n",
       "       'A20  ', 'F6   ', 'B24  ', 'F1   ', 'B2   ', 'B3   ', 'B28  ',\n",
       "       'A6   ', 'A21  ', 'C7   ', 'C2   ', 'A24  ', 'B10  ', 'A7   ',\n",
       "       'B11  ', 'C22  ', 'A18  ', 'C13  ', 'B15  ', 'C10  ', 'A4   ',\n",
       "       'B20  ', 'A19  ', 'D16  ', 'C37  ', 'C19  ', 'C4   ', 'C17  ',\n",
       "       'C42  ', 'A12  ', 'B4   ', 'B5   ', 'B27  ', 'C11  ', 'C20  ',\n",
       "       'C18  ', 'A11  ', 'C44  ', 'C21  ', 'B26  ', 'A5   ', 'B8   ',\n",
       "       'B18  ', 'C40  ', 'C16  ', 'C38  ', 'A17  ', 'C1   ', 'C12  ',\n",
       "       'A16  ', 'C9   ', 'D1   ', 'B30  ', 'D4   ', 'B32  ', 'D5   ',\n",
       "       'D20  ', 'B21  ', 'B31  ', 'C3   ', 'C23  ', 'D27  ', 'B6   ',\n",
       "       'A3   ', 'A13  ', 'D31  ', 'D30  ', 'D32  ', 'D29  ', 'D19  ',\n",
       "       'D25  ', 'C36  ', 'D24  ', 'D28  ', 'C39  ', 'D26  ', nan, 'C41  ',\n",
       "       'B9   ', 'B29  ', 'F12  ', 'C15a ', 'C15  ', 'C48  ', 'C12a ',\n",
       "       'D23  ', 'B31a ', 'D22  ', 'A19a ', 'A6a  '], dtype=object)"
      ]
     },
     "execution_count": 35,
     "metadata": {},
     "output_type": "execute_result"
    }
   ],
   "source": [
    "flight_data_train['publicgatenumber'].unique()"
   ]
  },
  {
   "cell_type": "code",
   "execution_count": 36,
   "metadata": {},
   "outputs": [
    {
     "data": {
      "text/plain": [
       "0"
      ]
     },
     "execution_count": 36,
     "metadata": {},
     "output_type": "execute_result"
    }
   ],
   "source": [
    "flight_data_train['aircraftterminal'].isnull().sum()"
   ]
  },
  {
   "cell_type": "code",
   "execution_count": 37,
   "metadata": {},
   "outputs": [
    {
     "data": {
      "text/html": [
       "<div>\n",
       "<style scoped>\n",
       "    .dataframe tbody tr th:only-of-type {\n",
       "        vertical-align: middle;\n",
       "    }\n",
       "\n",
       "    .dataframe tbody tr th {\n",
       "        vertical-align: top;\n",
       "    }\n",
       "\n",
       "    .dataframe thead th {\n",
       "        text-align: right;\n",
       "    }\n",
       "</style>\n",
       "<table border=\"1\" class=\"dataframe\">\n",
       "  <thead>\n",
       "    <tr style=\"text-align: right;\">\n",
       "      <th></th>\n",
       "      <th>publicgatenumber</th>\n",
       "      <th>aircraftterminal</th>\n",
       "    </tr>\n",
       "  </thead>\n",
       "  <tbody>\n",
       "    <tr>\n",
       "      <th>946</th>\n",
       "      <td>NaN</td>\n",
       "      <td>1</td>\n",
       "    </tr>\n",
       "    <tr>\n",
       "      <th>989</th>\n",
       "      <td>NaN</td>\n",
       "      <td>3</td>\n",
       "    </tr>\n",
       "    <tr>\n",
       "      <th>1780</th>\n",
       "      <td>NaN</td>\n",
       "      <td>3</td>\n",
       "    </tr>\n",
       "    <tr>\n",
       "      <th>1878</th>\n",
       "      <td>NaN</td>\n",
       "      <td>3</td>\n",
       "    </tr>\n",
       "    <tr>\n",
       "      <th>1949</th>\n",
       "      <td>NaN</td>\n",
       "      <td>3</td>\n",
       "    </tr>\n",
       "    <tr>\n",
       "      <th>...</th>\n",
       "      <td>...</td>\n",
       "      <td>...</td>\n",
       "    </tr>\n",
       "    <tr>\n",
       "      <th>148458</th>\n",
       "      <td>NaN</td>\n",
       "      <td>2</td>\n",
       "    </tr>\n",
       "    <tr>\n",
       "      <th>150357</th>\n",
       "      <td>NaN</td>\n",
       "      <td>3</td>\n",
       "    </tr>\n",
       "    <tr>\n",
       "      <th>151211</th>\n",
       "      <td>NaN</td>\n",
       "      <td>1</td>\n",
       "    </tr>\n",
       "    <tr>\n",
       "      <th>151885</th>\n",
       "      <td>NaN</td>\n",
       "      <td>2</td>\n",
       "    </tr>\n",
       "    <tr>\n",
       "      <th>151938</th>\n",
       "      <td>NaN</td>\n",
       "      <td>PT</td>\n",
       "    </tr>\n",
       "  </tbody>\n",
       "</table>\n",
       "<p>342 rows × 2 columns</p>\n",
       "</div>"
      ],
      "text/plain": [
       "       publicgatenumber aircraftterminal\n",
       "946                 NaN               1 \n",
       "989                 NaN               3 \n",
       "1780                NaN               3 \n",
       "1878                NaN               3 \n",
       "1949                NaN               3 \n",
       "...                 ...              ...\n",
       "148458              NaN               2 \n",
       "150357              NaN               3 \n",
       "151211              NaN               1 \n",
       "151885              NaN               2 \n",
       "151938              NaN               PT\n",
       "\n",
       "[342 rows x 2 columns]"
      ]
     },
     "execution_count": 37,
     "metadata": {},
     "output_type": "execute_result"
    }
   ],
   "source": [
    "flight_data_train[['publicgatenumber', 'aircraftterminal']][flight_data_train['publicgatenumber'].isnull() == True]"
   ]
  },
  {
   "cell_type": "code",
   "execution_count": 38,
   "metadata": {},
   "outputs": [
    {
     "name": "stdout",
     "output_type": "stream",
     "text": [
      "Chi-Square Statistic for publicgatenumber and aircraftterminal: 356872.12344229314, p-value: 0.0, dof:822\n",
      "Cramer's V  for publicgatenumber and aircraftterminal: 0.6249331852578075, p-value: 0.0\n"
     ]
    }
   ],
   "source": [
    "chi_2(flight_data_train, 'publicgatenumber', 'aircraftterminal')\n",
    "cramers_v(flight_data_train, 'publicgatenumber', 'aircraftterminal')"
   ]
  },
  {
   "cell_type": "code",
   "execution_count": 39,
   "metadata": {},
   "outputs": [
    {
     "name": "stderr",
     "output_type": "stream",
     "text": [
      "/tmp/ipykernel_13478/3649071926.py:1: SettingWithCopyWarning: \n",
      "A value is trying to be set on a copy of a slice from a DataFrame.\n",
      "Try using .loc[row_indexer,col_indexer] = value instead\n",
      "\n",
      "See the caveats in the documentation: https://pandas.pydata.org/pandas-docs/stable/user_guide/indexing.html#returning-a-view-versus-a-copy\n",
      "  flight_data_train['publicgatenumber'] = flight_data_train['publicgatenumber'].fillna('UNKNOWN')\n",
      "/tmp/ipykernel_13478/3649071926.py:2: SettingWithCopyWarning: \n",
      "A value is trying to be set on a copy of a slice from a DataFrame.\n",
      "Try using .loc[row_indexer,col_indexer] = value instead\n",
      "\n",
      "See the caveats in the documentation: https://pandas.pydata.org/pandas-docs/stable/user_guide/indexing.html#returning-a-view-versus-a-copy\n",
      "  flight_data_test['publicgatenumber'] = flight_data_test['publicgatenumber'].fillna('UNKNOWN')\n"
     ]
    }
   ],
   "source": [
    "flight_data_train['publicgatenumber'] = flight_data_train['publicgatenumber'].fillna('UNKNOWN')\n",
    "flight_data_test['publicgatenumber'] = flight_data_test['publicgatenumber'].fillna('UNKNOWN')"
   ]
  },
  {
   "cell_type": "code",
   "execution_count": 40,
   "metadata": {},
   "outputs": [
    {
     "data": {
      "text/plain": [
       "0"
      ]
     },
     "execution_count": 40,
     "metadata": {},
     "output_type": "execute_result"
    }
   ],
   "source": [
    "flight_data_train['aircraftterminal'].isnull().sum()"
   ]
  },
  {
   "cell_type": "code",
   "execution_count": 41,
   "metadata": {},
   "outputs": [
    {
     "data": {
      "text/plain": [
       "traffictypecode               0\n",
       "airlinecode_iata              0\n",
       "destination_iata              0\n",
       "via_iata                 146729\n",
       "aircraft_iata                 0\n",
       "scheduledoffblocktime         0\n",
       "publicgatenumber              0\n",
       "aircraftterminal              0\n",
       "finalflightstatus             0\n",
       "delay_in_secs                 0\n",
       "tmpf                          0\n",
       "dwpf                          0\n",
       "relh                          0\n",
       "drct                          0\n",
       "sknt                          0\n",
       "p01i                          0\n",
       "alti                          0\n",
       "vsby                          0\n",
       "gust                          0\n",
       "skyc1                    106594\n",
       "skyc2                    152385\n",
       "skyc3                    152640\n",
       "skyc4                    152640\n",
       "skyl1                    132306\n",
       "skyl2                    152398\n",
       "skyl3                    152640\n",
       "skyl4                    152640\n",
       "dtype: int64"
      ]
     },
     "execution_count": 41,
     "metadata": {},
     "output_type": "execute_result"
    }
   ],
   "source": [
    "flight_data_train.isnull().sum()"
   ]
  },
  {
   "cell_type": "markdown",
   "metadata": {},
   "source": [
    "via_iata\n",
    "\n",
    "Instead of maintaining the details of connecting flight we can change it indicate if the flight is connection"
   ]
  },
  {
   "cell_type": "code",
   "execution_count": 42,
   "metadata": {},
   "outputs": [
    {
     "name": "stderr",
     "output_type": "stream",
     "text": [
      "/tmp/ipykernel_13478/3465108291.py:1: SettingWithCopyWarning: \n",
      "A value is trying to be set on a copy of a slice from a DataFrame.\n",
      "Try using .loc[row_indexer,col_indexer] = value instead\n",
      "\n",
      "See the caveats in the documentation: https://pandas.pydata.org/pandas-docs/stable/user_guide/indexing.html#returning-a-view-versus-a-copy\n",
      "  flight_data_train['isconnecting'] = flight_data_train['via_iata'].notna().map({True: '1', False: '0'})\n",
      "/tmp/ipykernel_13478/3465108291.py:2: SettingWithCopyWarning: \n",
      "A value is trying to be set on a copy of a slice from a DataFrame.\n",
      "Try using .loc[row_indexer,col_indexer] = value instead\n",
      "\n",
      "See the caveats in the documentation: https://pandas.pydata.org/pandas-docs/stable/user_guide/indexing.html#returning-a-view-versus-a-copy\n",
      "  flight_data_test['isconnecting'] = flight_data_test['via_iata'].notna().map({True: '1', False: '0'})\n",
      "/tmp/ipykernel_13478/3465108291.py:5: SettingWithCopyWarning: \n",
      "A value is trying to be set on a copy of a slice from a DataFrame\n",
      "\n",
      "See the caveats in the documentation: https://pandas.pydata.org/pandas-docs/stable/user_guide/indexing.html#returning-a-view-versus-a-copy\n",
      "  flight_data_train.drop(columns='via_iata', axis=1, inplace=True)\n"
     ]
    },
    {
     "name": "stderr",
     "output_type": "stream",
     "text": [
      "/tmp/ipykernel_13478/3465108291.py:6: SettingWithCopyWarning: \n",
      "A value is trying to be set on a copy of a slice from a DataFrame\n",
      "\n",
      "See the caveats in the documentation: https://pandas.pydata.org/pandas-docs/stable/user_guide/indexing.html#returning-a-view-versus-a-copy\n",
      "  flight_data_test.drop(columns='via_iata', axis=1, inplace=True)\n"
     ]
    }
   ],
   "source": [
    "flight_data_train['isconnecting'] = flight_data_train['via_iata'].notna().map({True: '1', False: '0'})\n",
    "flight_data_test['isconnecting'] = flight_data_test['via_iata'].notna().map({True: '1', False: '0'})\n",
    "\n",
    "\n",
    "flight_data_train.drop(columns='via_iata', axis=1, inplace=True)\n",
    "flight_data_test.drop(columns='via_iata', axis=1, inplace=True)"
   ]
  },
  {
   "cell_type": "code",
   "execution_count": 43,
   "metadata": {},
   "outputs": [
    {
     "data": {
      "text/plain": [
       "array(['0', '1'], dtype=object)"
      ]
     },
     "execution_count": 43,
     "metadata": {},
     "output_type": "execute_result"
    }
   ],
   "source": [
    "flight_data_train['isconnecting'].unique()"
   ]
  },
  {
   "cell_type": "code",
   "execution_count": 44,
   "metadata": {},
   "outputs": [
    {
     "name": "stdout",
     "output_type": "stream",
     "text": [
      "skyc1 unique values:[nan 'NSC' 'FEW' 'SCT' 'BKN' 'VV ' 'OVC']\n",
      "skyc2 unique values:[nan 'NSC' 'BKN' 'SCT' 'FEW']\n",
      "skyc3 unique values:[nan]\n",
      "skyc4 unique values:[nan]\n",
      "skyl1 unique values:[  nan 4500. 4000. 3000. 3500. 3300. 2000. 1200. 1500. 2500.  600. 1300.\n",
      "  100.  500.  800. 1000.  700. 1400. 1800.  200. 1700. 2400. 2600. 2800.\n",
      " 2100.  300.  400.  900. 1100. 5000. 3100. 3800. 4300. 3700. 4200. 4400.\n",
      " 4700. 4600. 4800. 2300. 1600. 3600. 2200. 1900. 2700. 2900. 7000. 4100.\n",
      " 4900. 3200.]\n",
      "skyl2 unique values:[  nan 1400. 3500. 4000. 5000. 4500. 3000.]\n",
      "skyl3 unique values:[nan]\n",
      "skyl4 unique values:[nan]\n"
     ]
    }
   ],
   "source": [
    "print(f'skyc1 unique values:{flight_data_train['skyc1'].unique()}')\n",
    "print(f'skyc2 unique values:{flight_data_train['skyc2'].unique()}')\n",
    "print(f'skyc3 unique values:{flight_data_train['skyc3'].unique()}')\n",
    "print(f'skyc4 unique values:{flight_data_train['skyc4'].unique()}')\n",
    "\n",
    "print(f'skyl1 unique values:{flight_data_train['skyl1'].unique()}')\n",
    "print(f'skyl2 unique values:{flight_data_train['skyl2'].unique()}')\n",
    "print(f'skyl3 unique values:{flight_data_train['skyl3'].unique()}')\n",
    "print(f'skyl4 unique values:{flight_data_train['skyl4'].unique()}')"
   ]
  },
  {
   "cell_type": "markdown",
   "metadata": {},
   "source": [
    "We can drop skyc3, skyc4, skyl3 and skyl4 as they are mostly empty"
   ]
  },
  {
   "cell_type": "code",
   "execution_count": 45,
   "metadata": {},
   "outputs": [
    {
     "name": "stderr",
     "output_type": "stream",
     "text": [
      "/tmp/ipykernel_13478/2373328444.py:1: SettingWithCopyWarning: \n",
      "A value is trying to be set on a copy of a slice from a DataFrame\n",
      "\n",
      "See the caveats in the documentation: https://pandas.pydata.org/pandas-docs/stable/user_guide/indexing.html#returning-a-view-versus-a-copy\n",
      "  flight_data_train.drop(columns=['skyc3', 'skyc4', 'skyl3', 'skyl4'], axis=1, inplace=True)\n",
      "/tmp/ipykernel_13478/2373328444.py:2: SettingWithCopyWarning: \n",
      "A value is trying to be set on a copy of a slice from a DataFrame\n",
      "\n",
      "See the caveats in the documentation: https://pandas.pydata.org/pandas-docs/stable/user_guide/indexing.html#returning-a-view-versus-a-copy\n",
      "  flight_data_test.drop(columns=['skyc3', 'skyc4', 'skyl3', 'skyl4'], axis=1, inplace=True)\n"
     ]
    }
   ],
   "source": [
    "flight_data_train.drop(columns=['skyc3', 'skyc4', 'skyl3', 'skyl4'], axis=1, inplace=True)\n",
    "flight_data_test.drop(columns=['skyc3', 'skyc4', 'skyl3', 'skyl4'], axis=1, inplace=True)"
   ]
  },
  {
   "cell_type": "code",
   "execution_count": 46,
   "metadata": {},
   "outputs": [
    {
     "name": "stderr",
     "output_type": "stream",
     "text": [
      "/tmp/ipykernel_13478/4044442040.py:2: SettingWithCopyWarning: \n",
      "A value is trying to be set on a copy of a slice from a DataFrame.\n",
      "Try using .loc[row_indexer,col_indexer] = value instead\n",
      "\n",
      "See the caveats in the documentation: https://pandas.pydata.org/pandas-docs/stable/user_guide/indexing.html#returning-a-view-versus-a-copy\n",
      "  flight_data_train[['skyc1', 'skyc2']] = flight_data_train[['skyc1', 'skyc2']].fillna('CAVOK') # From METAR code\n",
      "/tmp/ipykernel_13478/4044442040.py:3: SettingWithCopyWarning: \n",
      "A value is trying to be set on a copy of a slice from a DataFrame.\n",
      "Try using .loc[row_indexer,col_indexer] = value instead\n",
      "\n",
      "See the caveats in the documentation: https://pandas.pydata.org/pandas-docs/stable/user_guide/indexing.html#returning-a-view-versus-a-copy\n",
      "  flight_data_test[['skyc1', 'skyc2']] = flight_data_test[['skyc1', 'skyc2']].fillna('CAVOK')\n",
      "/tmp/ipykernel_13478/4044442040.py:6: SettingWithCopyWarning: \n",
      "A value is trying to be set on a copy of a slice from a DataFrame.\n",
      "Try using .loc[row_indexer,col_indexer] = value instead\n",
      "\n",
      "See the caveats in the documentation: https://pandas.pydata.org/pandas-docs/stable/user_guide/indexing.html#returning-a-view-versus-a-copy\n",
      "  flight_data_train[['skyl1', 'skyl2']] = flight_data_train[['skyl1', 'skyl2']].fillna(0)\n",
      "/tmp/ipykernel_13478/4044442040.py:7: SettingWithCopyWarning: \n",
      "A value is trying to be set on a copy of a slice from a DataFrame.\n",
      "Try using .loc[row_indexer,col_indexer] = value instead\n",
      "\n",
      "See the caveats in the documentation: https://pandas.pydata.org/pandas-docs/stable/user_guide/indexing.html#returning-a-view-versus-a-copy\n",
      "  flight_data_test[['skyl1', 'skyl2']] = flight_data_test[['skyl1', 'skyl2']].fillna(0)\n"
     ]
    }
   ],
   "source": [
    "# Replace missing values in 'skyc1' and 'skyc2' with 'NA'\n",
    "flight_data_train[['skyc1', 'skyc2']] = flight_data_train[['skyc1', 'skyc2']].fillna('CAVOK') # From METAR code\n",
    "flight_data_test[['skyc1', 'skyc2']] = flight_data_test[['skyc1', 'skyc2']].fillna('CAVOK')\n",
    "\n",
    "# Replace missing values in 'skyl1' and 'skyl2' with 0\n",
    "flight_data_train[['skyl1', 'skyl2']] = flight_data_train[['skyl1', 'skyl2']].fillna(0)\n",
    "flight_data_test[['skyl1', 'skyl2']] = flight_data_test[['skyl1', 'skyl2']].fillna(0)"
   ]
  },
  {
   "cell_type": "code",
   "execution_count": 47,
   "metadata": {},
   "outputs": [
    {
     "data": {
      "text/plain": [
       "traffictypecode          0\n",
       "airlinecode_iata         0\n",
       "destination_iata         0\n",
       "aircraft_iata            0\n",
       "scheduledoffblocktime    0\n",
       "publicgatenumber         0\n",
       "aircraftterminal         0\n",
       "finalflightstatus        0\n",
       "delay_in_secs            0\n",
       "tmpf                     0\n",
       "dwpf                     0\n",
       "relh                     0\n",
       "drct                     0\n",
       "sknt                     0\n",
       "p01i                     0\n",
       "alti                     0\n",
       "vsby                     0\n",
       "gust                     0\n",
       "skyc1                    0\n",
       "skyc2                    0\n",
       "skyl1                    0\n",
       "skyl2                    0\n",
       "isconnecting             0\n",
       "dtype: int64"
      ]
     },
     "execution_count": 47,
     "metadata": {},
     "output_type": "execute_result"
    }
   ],
   "source": [
    "flight_data_train.isna().sum()"
   ]
  },
  {
   "cell_type": "code",
   "execution_count": 48,
   "metadata": {},
   "outputs": [
    {
     "data": {
      "text/plain": [
       "Index(['traffictypecode', 'airlinecode_iata', 'destination_iata',\n",
       "       'aircraft_iata', 'scheduledoffblocktime', 'publicgatenumber',\n",
       "       'aircraftterminal', 'finalflightstatus', 'delay_in_secs', 'tmpf',\n",
       "       'dwpf', 'relh', 'drct', 'sknt', 'p01i', 'alti', 'vsby', 'gust', 'skyc1',\n",
       "       'skyc2', 'skyl1', 'skyl2', 'isconnecting'],\n",
       "      dtype='object')"
      ]
     },
     "execution_count": 48,
     "metadata": {},
     "output_type": "execute_result"
    }
   ],
   "source": [
    "flight_data_test.columns"
   ]
  },
  {
   "cell_type": "code",
   "execution_count": 49,
   "metadata": {},
   "outputs": [
    {
     "data": {
      "text/plain": [
       "array(['2 ', '1 ', '3 ', 'PT', 2, 3, 1], dtype=object)"
      ]
     },
     "execution_count": 49,
     "metadata": {},
     "output_type": "execute_result"
    }
   ],
   "source": [
    "flight_data_train['aircraftterminal'].unique()"
   ]
  },
  {
   "cell_type": "code",
   "execution_count": 50,
   "metadata": {},
   "outputs": [
    {
     "name": "stderr",
     "output_type": "stream",
     "text": [
      "/tmp/ipykernel_13478/1293972564.py:2: SettingWithCopyWarning: \n",
      "A value is trying to be set on a copy of a slice from a DataFrame.\n",
      "Try using .loc[row_indexer,col_indexer] = value instead\n",
      "\n",
      "See the caveats in the documentation: https://pandas.pydata.org/pandas-docs/stable/user_guide/indexing.html#returning-a-view-versus-a-copy\n",
      "  flight_data_train[\"aircraftterminal\"] = flight_data_train[\"aircraftterminal\"].map(\n",
      "/tmp/ipykernel_13478/1293972564.py:5: SettingWithCopyWarning: \n",
      "A value is trying to be set on a copy of a slice from a DataFrame.\n",
      "Try using .loc[row_indexer,col_indexer] = value instead\n",
      "\n",
      "See the caveats in the documentation: https://pandas.pydata.org/pandas-docs/stable/user_guide/indexing.html#returning-a-view-versus-a-copy\n",
      "  flight_data_test[\"aircraftterminal\"] = flight_data_test[\"aircraftterminal\"].map(\n"
     ]
    }
   ],
   "source": [
    "aircraftterminal_map = {0: 0, 1: 1, 2: 2, 3: 3, \"2 \": 2, \"1 \": 1, \"3 \": 3, \"PT\": 0}\n",
    "flight_data_train[\"aircraftterminal\"] = flight_data_train[\"aircraftterminal\"].map(\n",
    "    aircraftterminal_map\n",
    ")\n",
    "flight_data_test[\"aircraftterminal\"] = flight_data_test[\"aircraftterminal\"].map(\n",
    "    aircraftterminal_map\n",
    ")"
   ]
  },
  {
   "cell_type": "code",
   "execution_count": 51,
   "metadata": {},
   "outputs": [
    {
     "data": {
      "text/plain": [
       "array([2, 1, 3, 0])"
      ]
     },
     "execution_count": 51,
     "metadata": {},
     "output_type": "execute_result"
    }
   ],
   "source": [
    "flight_data_train['aircraftterminal'].unique()"
   ]
  },
  {
   "cell_type": "code",
   "execution_count": 52,
   "metadata": {},
   "outputs": [
    {
     "name": "stdout",
     "output_type": "stream",
     "text": [
      "p01i\n",
      "0.0    152640\n",
      "Name: count, dtype: int64\n",
      "p01i\n",
      "0.0    38161\n",
      "Name: count, dtype: int64\n"
     ]
    }
   ],
   "source": [
    "print(flight_data_train['p01i'].value_counts())\n",
    "print(flight_data_test['p01i'].value_counts())"
   ]
  },
  {
   "cell_type": "code",
   "execution_count": 53,
   "metadata": {},
   "outputs": [
    {
     "name": "stderr",
     "output_type": "stream",
     "text": [
      "/tmp/ipykernel_13478/2969017280.py:1: SettingWithCopyWarning: \n",
      "A value is trying to be set on a copy of a slice from a DataFrame\n",
      "\n",
      "See the caveats in the documentation: https://pandas.pydata.org/pandas-docs/stable/user_guide/indexing.html#returning-a-view-versus-a-copy\n",
      "  flight_data_train.drop(columns=['p01i'], axis=1, inplace=True)\n",
      "/tmp/ipykernel_13478/2969017280.py:2: SettingWithCopyWarning: \n",
      "A value is trying to be set on a copy of a slice from a DataFrame\n",
      "\n",
      "See the caveats in the documentation: https://pandas.pydata.org/pandas-docs/stable/user_guide/indexing.html#returning-a-view-versus-a-copy\n",
      "  flight_data_test.drop(columns=['p01i'], axis=1, inplace=True)\n"
     ]
    }
   ],
   "source": [
    "flight_data_train.drop(columns=['p01i'], axis=1, inplace=True)\n",
    "flight_data_test.drop(columns=['p01i'], axis=1, inplace=True)"
   ]
  },
  {
   "cell_type": "code",
   "execution_count": 54,
   "metadata": {},
   "outputs": [
    {
     "name": "stderr",
     "output_type": "stream",
     "text": [
      "/tmp/ipykernel_13478/2445916566.py:3: SettingWithCopyWarning: \n",
      "A value is trying to be set on a copy of a slice from a DataFrame.\n",
      "Try using .loc[row_indexer,col_indexer] = value instead\n",
      "\n",
      "See the caveats in the documentation: https://pandas.pydata.org/pandas-docs/stable/user_guide/indexing.html#returning-a-view-versus-a-copy\n",
      "  flight_data_train[col] = flight_data_train[col].apply(lambda x : str(x).strip())\n",
      "/tmp/ipykernel_13478/2445916566.py:4: SettingWithCopyWarning: \n",
      "A value is trying to be set on a copy of a slice from a DataFrame.\n",
      "Try using .loc[row_indexer,col_indexer] = value instead\n",
      "\n",
      "See the caveats in the documentation: https://pandas.pydata.org/pandas-docs/stable/user_guide/indexing.html#returning-a-view-versus-a-copy\n",
      "  flight_data_test[col] = flight_data_test[col].apply(lambda x : str(x).strip())\n",
      "/tmp/ipykernel_13478/2445916566.py:3: SettingWithCopyWarning: \n",
      "A value is trying to be set on a copy of a slice from a DataFrame.\n",
      "Try using .loc[row_indexer,col_indexer] = value instead\n",
      "\n",
      "See the caveats in the documentation: https://pandas.pydata.org/pandas-docs/stable/user_guide/indexing.html#returning-a-view-versus-a-copy\n",
      "  flight_data_train[col] = flight_data_train[col].apply(lambda x : str(x).strip())\n"
     ]
    }
   ],
   "source": [
    "non_numeric_columns = list(set(flight_data_train.columns)-set(flight_data_train._get_numeric_data().columns))\n",
    "for col in non_numeric_columns:\n",
    "    flight_data_train[col] = flight_data_train[col].apply(lambda x : str(x).strip())\n",
    "    flight_data_test[col] = flight_data_test[col].apply(lambda x : str(x).strip())"
   ]
  },
  {
   "cell_type": "code",
   "execution_count": 55,
   "metadata": {},
   "outputs": [],
   "source": [
    "cols = [\n",
    "    \"scheduledoffblocktime\",\n",
    "    # \"flightnumber\",\n",
    "    \"traffictypecode\",\n",
    "    \"airlinecode_iata\",\n",
    "    \"destination_iata\",\n",
    "    \"aircraft_iata\",\n",
    "    \"isconnecting\",\n",
    "    # \"aircraftparkingposition\",\n",
    "    \"publicgatenumber\",\n",
    "    \"aircraftterminal\",\n",
    "    \"tmpf\",\n",
    "    \"dwpf\",\n",
    "    \"relh\",\n",
    "    \"drct\",\n",
    "    \"sknt\",\n",
    "    # \"p01i\",\n",
    "    \"alti\",\n",
    "    \"vsby\",\n",
    "    \"gust\",\n",
    "    \"skyc1\",\n",
    "    \"skyc2\",\n",
    "    \"skyl1\",\n",
    "    \"skyl2\",\n",
    "    \"finalflightstatus\",\n",
    "    \"delay_in_secs\",\n",
    "]"
   ]
  },
  {
   "cell_type": "code",
   "execution_count": 56,
   "metadata": {},
   "outputs": [
    {
     "data": {
      "text/plain": [
       "traffictypecode          0\n",
       "airlinecode_iata         0\n",
       "destination_iata         0\n",
       "aircraft_iata            0\n",
       "scheduledoffblocktime    0\n",
       "publicgatenumber         0\n",
       "aircraftterminal         0\n",
       "finalflightstatus        0\n",
       "delay_in_secs            0\n",
       "tmpf                     0\n",
       "dwpf                     0\n",
       "relh                     0\n",
       "drct                     0\n",
       "sknt                     0\n",
       "alti                     0\n",
       "vsby                     0\n",
       "gust                     0\n",
       "skyc1                    0\n",
       "skyc2                    0\n",
       "skyl1                    0\n",
       "skyl2                    0\n",
       "isconnecting             0\n",
       "dtype: int64"
      ]
     },
     "execution_count": 56,
     "metadata": {},
     "output_type": "execute_result"
    }
   ],
   "source": [
    "flight_data_train.isnull().sum()"
   ]
  },
  {
   "cell_type": "code",
   "execution_count": 57,
   "metadata": {},
   "outputs": [],
   "source": [
    "flight_data_train[cols].to_csv('./flight_data_train_ts.csv', index=False)\n",
    "flight_data_test[cols].to_csv('./flight_data_test_ts.csv', index=False)\n",
    "\n",
    "# flight_data_train = flight_data_train[cols].reset_index(drop=True)\n",
    "# flight_data_test = flight_data_test[cols].reset_index(drop=True)"
   ]
  }
 ],
 "metadata": {
  "kernelspec": {
   "display_name": "mlr503-project",
   "language": "python",
   "name": "python3"
  },
  "language_info": {
   "codemirror_mode": {
    "name": "ipython",
    "version": 3
   },
   "file_extension": ".py",
   "mimetype": "text/x-python",
   "name": "python",
   "nbconvert_exporter": "python",
   "pygments_lexer": "ipython3",
   "version": "3.12.7"
  }
 },
 "nbformat": 4,
 "nbformat_minor": 2
}
